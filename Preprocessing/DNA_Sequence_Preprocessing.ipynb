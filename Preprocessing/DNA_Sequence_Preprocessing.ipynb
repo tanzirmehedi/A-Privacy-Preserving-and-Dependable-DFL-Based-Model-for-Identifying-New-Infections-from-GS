{
  "cells": [
    {
      "cell_type": "markdown",
      "metadata": {
        "id": "2nmc6jnN5JgQ"
      },
      "source": [
        "## DNA Sequencing Pre-Processing\n",
        "\n",
        "By: Sk. Tanzir Mehedi"
      ]
    },
    {
      "cell_type": "markdown",
      "source": [
        "1. Import necessary libraries"
      ],
      "metadata": {
        "id": "xRl4ehNizznm"
      }
    },
    {
      "cell_type": "code",
      "execution_count": null,
      "metadata": {
        "id": "7-51vrzb5JgX"
      },
      "outputs": [],
      "source": [
        "import numpy as np\n",
        "import pandas as pd\n",
        "import matplotlib.pyplot as plt\n",
        "from IPython.display import Image\n",
        "from sklearn.feature_extraction.text import CountVectorizer"
      ]
    },
    {
      "cell_type": "markdown",
      "source": [
        "2. Load DNA sequence data"
      ],
      "metadata": {
        "id": "40QVGe4Mz6QO"
      }
    },
    {
      "cell_type": "code",
      "execution_count": null,
      "metadata": {
        "colab": {
          "base_uri": "https://localhost:8080/",
          "height": 232
        },
        "id": "NeSz3hUN5JgZ",
        "outputId": "1579113f-ec54-402e-8001-01ed96a6aa10"
      },
      "outputs": [
        {
          "output_type": "execute_result",
          "data": {
            "text/plain": [
              "                                           sequences  class\n",
              "0  ATTAAAGGTTTATACCTTCCCAGGTAACAAACCAACCAACTTTCGA...      0\n",
              "1  GATTTAAGTGAATAGCTTGGCTATCTCACTTTCCCTCGTTCTCTTG...      1\n",
              "2  GATTTAAGTGAATAGCTTGGCTATCTCACTTTCCCTCGTTCTCTTG...      1\n",
              "3  GATTTAAGTGAATAGCTTGGCTATCTCACTTCCCCTCGTTCTCTTG...      1\n",
              "4  GATTTAAGTGAATAGCTTGGCTATCTCACTTCCCCTCGTTCTCTTG...      1"
            ],
            "text/html": [
              "\n",
              "  <div id=\"df-3eed0bd2-85ea-4c19-bda5-abb4bb2fc939\">\n",
              "    <div class=\"colab-df-container\">\n",
              "      <div>\n",
              "<style scoped>\n",
              "    .dataframe tbody tr th:only-of-type {\n",
              "        vertical-align: middle;\n",
              "    }\n",
              "\n",
              "    .dataframe tbody tr th {\n",
              "        vertical-align: top;\n",
              "    }\n",
              "\n",
              "    .dataframe thead th {\n",
              "        text-align: right;\n",
              "    }\n",
              "</style>\n",
              "<table border=\"1\" class=\"dataframe\">\n",
              "  <thead>\n",
              "    <tr style=\"text-align: right;\">\n",
              "      <th></th>\n",
              "      <th>sequences</th>\n",
              "      <th>class</th>\n",
              "    </tr>\n",
              "  </thead>\n",
              "  <tbody>\n",
              "    <tr>\n",
              "      <th>0</th>\n",
              "      <td>ATTAAAGGTTTATACCTTCCCAGGTAACAAACCAACCAACTTTCGA...</td>\n",
              "      <td>0</td>\n",
              "    </tr>\n",
              "    <tr>\n",
              "      <th>1</th>\n",
              "      <td>GATTTAAGTGAATAGCTTGGCTATCTCACTTTCCCTCGTTCTCTTG...</td>\n",
              "      <td>1</td>\n",
              "    </tr>\n",
              "    <tr>\n",
              "      <th>2</th>\n",
              "      <td>GATTTAAGTGAATAGCTTGGCTATCTCACTTTCCCTCGTTCTCTTG...</td>\n",
              "      <td>1</td>\n",
              "    </tr>\n",
              "    <tr>\n",
              "      <th>3</th>\n",
              "      <td>GATTTAAGTGAATAGCTTGGCTATCTCACTTCCCCTCGTTCTCTTG...</td>\n",
              "      <td>1</td>\n",
              "    </tr>\n",
              "    <tr>\n",
              "      <th>4</th>\n",
              "      <td>GATTTAAGTGAATAGCTTGGCTATCTCACTTCCCCTCGTTCTCTTG...</td>\n",
              "      <td>1</td>\n",
              "    </tr>\n",
              "  </tbody>\n",
              "</table>\n",
              "</div>\n",
              "      <button class=\"colab-df-convert\" onclick=\"convertToInteractive('df-3eed0bd2-85ea-4c19-bda5-abb4bb2fc939')\"\n",
              "              title=\"Convert this dataframe to an interactive table.\"\n",
              "              style=\"display:none;\">\n",
              "        \n",
              "  <svg xmlns=\"http://www.w3.org/2000/svg\" height=\"24px\"viewBox=\"0 0 24 24\"\n",
              "       width=\"24px\">\n",
              "    <path d=\"M0 0h24v24H0V0z\" fill=\"none\"/>\n",
              "    <path d=\"M18.56 5.44l.94 2.06.94-2.06 2.06-.94-2.06-.94-.94-2.06-.94 2.06-2.06.94zm-11 1L8.5 8.5l.94-2.06 2.06-.94-2.06-.94L8.5 2.5l-.94 2.06-2.06.94zm10 10l.94 2.06.94-2.06 2.06-.94-2.06-.94-.94-2.06-.94 2.06-2.06.94z\"/><path d=\"M17.41 7.96l-1.37-1.37c-.4-.4-.92-.59-1.43-.59-.52 0-1.04.2-1.43.59L10.3 9.45l-7.72 7.72c-.78.78-.78 2.05 0 2.83L4 21.41c.39.39.9.59 1.41.59.51 0 1.02-.2 1.41-.59l7.78-7.78 2.81-2.81c.8-.78.8-2.07 0-2.86zM5.41 20L4 18.59l7.72-7.72 1.47 1.35L5.41 20z\"/>\n",
              "  </svg>\n",
              "      </button>\n",
              "      \n",
              "  <style>\n",
              "    .colab-df-container {\n",
              "      display:flex;\n",
              "      flex-wrap:wrap;\n",
              "      gap: 12px;\n",
              "    }\n",
              "\n",
              "    .colab-df-convert {\n",
              "      background-color: #E8F0FE;\n",
              "      border: none;\n",
              "      border-radius: 50%;\n",
              "      cursor: pointer;\n",
              "      display: none;\n",
              "      fill: #1967D2;\n",
              "      height: 32px;\n",
              "      padding: 0 0 0 0;\n",
              "      width: 32px;\n",
              "    }\n",
              "\n",
              "    .colab-df-convert:hover {\n",
              "      background-color: #E2EBFA;\n",
              "      box-shadow: 0px 1px 2px rgba(60, 64, 67, 0.3), 0px 1px 3px 1px rgba(60, 64, 67, 0.15);\n",
              "      fill: #174EA6;\n",
              "    }\n",
              "\n",
              "    [theme=dark] .colab-df-convert {\n",
              "      background-color: #3B4455;\n",
              "      fill: #D2E3FC;\n",
              "    }\n",
              "\n",
              "    [theme=dark] .colab-df-convert:hover {\n",
              "      background-color: #434B5C;\n",
              "      box-shadow: 0px 1px 3px 1px rgba(0, 0, 0, 0.15);\n",
              "      filter: drop-shadow(0px 1px 2px rgba(0, 0, 0, 0.3));\n",
              "      fill: #FFFFFF;\n",
              "    }\n",
              "  </style>\n",
              "\n",
              "      <script>\n",
              "        const buttonEl =\n",
              "          document.querySelector('#df-3eed0bd2-85ea-4c19-bda5-abb4bb2fc939 button.colab-df-convert');\n",
              "        buttonEl.style.display =\n",
              "          google.colab.kernel.accessAllowed ? 'block' : 'none';\n",
              "\n",
              "        async function convertToInteractive(key) {\n",
              "          const element = document.querySelector('#df-3eed0bd2-85ea-4c19-bda5-abb4bb2fc939');\n",
              "          const dataTable =\n",
              "            await google.colab.kernel.invokeFunction('convertToInteractive',\n",
              "                                                     [key], {});\n",
              "          if (!dataTable) return;\n",
              "\n",
              "          const docLinkHtml = 'Like what you see? Visit the ' +\n",
              "            '<a target=\"_blank\" href=https://colab.research.google.com/notebooks/data_table.ipynb>data table notebook</a>'\n",
              "            + ' to learn more about interactive tables.';\n",
              "          element.innerHTML = '';\n",
              "          dataTable['output_type'] = 'display_data';\n",
              "          await google.colab.output.renderOutput(dataTable, element);\n",
              "          const docLink = document.createElement('div');\n",
              "          docLink.innerHTML = docLinkHtml;\n",
              "          element.appendChild(docLink);\n",
              "        }\n",
              "      </script>\n",
              "    </div>\n",
              "  </div>\n",
              "  "
            ]
          },
          "metadata": {},
          "execution_count": 2
        }
      ],
      "source": [
        "data = pd.read_table('sequencesLabels.txt')\n",
        "data.head()"
      ]
    },
    {
      "cell_type": "markdown",
      "source": [
        "3. Load full dataset"
      ],
      "metadata": {
        "id": "vIz3gxYM2LDq"
      }
    },
    {
      "cell_type": "code",
      "source": [
        "data"
      ],
      "metadata": {
        "colab": {
          "base_uri": "https://localhost:8080/",
          "height": 672
        },
        "id": "3Jnpo2XEjkwS",
        "outputId": "194ca655-b955-4e70-ad1c-9c9a33ec4172"
      },
      "execution_count": null,
      "outputs": [
        {
          "output_type": "execute_result",
          "data": {
            "text/plain": [
              "                                             sequences  class\n",
              "0    ATTAAAGGTTTATACCTTCCCAGGTAACAAACCAACCAACTTTCGA...      0\n",
              "1    GATTTAAGTGAATAGCTTGGCTATCTCACTTTCCCTCGTTCTCTTG...      1\n",
              "2    GATTTAAGTGAATAGCTTGGCTATCTCACTTTCCCTCGTTCTCTTG...      1\n",
              "3    GATTTAAGTGAATAGCTTGGCTATCTCACTTCCCCTCGTTCTCTTG...      1\n",
              "4    GATTTAAGTGAATAGCTTGGCTATCTCACTTCCCCTCGTTCTCTTG...      1\n",
              "..                                                 ...    ...\n",
              "548  ATTAAAGGTTTATACCTTCCCAGGTAACAAACCAACCAACTTTCGA...      1\n",
              "549  ATTAAAGGTTTATACCTTCCCAGGTAACAAACCAACCAACTTTCGA...      1\n",
              "550  TAAAGGTTTATACCTTCCCAGGTAACAAACCAACCAACTTTCGATC...      1\n",
              "551  CAGGTAACAAACCAACCAACTTTCGATCTCTTGTAGATCTGTTCTC...      1\n",
              "552  ACCTTCCCAGGTAACAAACCAACCAACTTTCGATCTCTTGTAGATC...      1\n",
              "\n",
              "[553 rows x 2 columns]"
            ],
            "text/html": [
              "\n",
              "  <div id=\"df-8492d5ef-694e-4640-89ae-7e42b955a300\">\n",
              "    <div class=\"colab-df-container\">\n",
              "      <div>\n",
              "<style scoped>\n",
              "    .dataframe tbody tr th:only-of-type {\n",
              "        vertical-align: middle;\n",
              "    }\n",
              "\n",
              "    .dataframe tbody tr th {\n",
              "        vertical-align: top;\n",
              "    }\n",
              "\n",
              "    .dataframe thead th {\n",
              "        text-align: right;\n",
              "    }\n",
              "</style>\n",
              "<table border=\"1\" class=\"dataframe\">\n",
              "  <thead>\n",
              "    <tr style=\"text-align: right;\">\n",
              "      <th></th>\n",
              "      <th>sequences</th>\n",
              "      <th>class</th>\n",
              "    </tr>\n",
              "  </thead>\n",
              "  <tbody>\n",
              "    <tr>\n",
              "      <th>0</th>\n",
              "      <td>ATTAAAGGTTTATACCTTCCCAGGTAACAAACCAACCAACTTTCGA...</td>\n",
              "      <td>0</td>\n",
              "    </tr>\n",
              "    <tr>\n",
              "      <th>1</th>\n",
              "      <td>GATTTAAGTGAATAGCTTGGCTATCTCACTTTCCCTCGTTCTCTTG...</td>\n",
              "      <td>1</td>\n",
              "    </tr>\n",
              "    <tr>\n",
              "      <th>2</th>\n",
              "      <td>GATTTAAGTGAATAGCTTGGCTATCTCACTTTCCCTCGTTCTCTTG...</td>\n",
              "      <td>1</td>\n",
              "    </tr>\n",
              "    <tr>\n",
              "      <th>3</th>\n",
              "      <td>GATTTAAGTGAATAGCTTGGCTATCTCACTTCCCCTCGTTCTCTTG...</td>\n",
              "      <td>1</td>\n",
              "    </tr>\n",
              "    <tr>\n",
              "      <th>4</th>\n",
              "      <td>GATTTAAGTGAATAGCTTGGCTATCTCACTTCCCCTCGTTCTCTTG...</td>\n",
              "      <td>1</td>\n",
              "    </tr>\n",
              "    <tr>\n",
              "      <th>...</th>\n",
              "      <td>...</td>\n",
              "      <td>...</td>\n",
              "    </tr>\n",
              "    <tr>\n",
              "      <th>548</th>\n",
              "      <td>ATTAAAGGTTTATACCTTCCCAGGTAACAAACCAACCAACTTTCGA...</td>\n",
              "      <td>1</td>\n",
              "    </tr>\n",
              "    <tr>\n",
              "      <th>549</th>\n",
              "      <td>ATTAAAGGTTTATACCTTCCCAGGTAACAAACCAACCAACTTTCGA...</td>\n",
              "      <td>1</td>\n",
              "    </tr>\n",
              "    <tr>\n",
              "      <th>550</th>\n",
              "      <td>TAAAGGTTTATACCTTCCCAGGTAACAAACCAACCAACTTTCGATC...</td>\n",
              "      <td>1</td>\n",
              "    </tr>\n",
              "    <tr>\n",
              "      <th>551</th>\n",
              "      <td>CAGGTAACAAACCAACCAACTTTCGATCTCTTGTAGATCTGTTCTC...</td>\n",
              "      <td>1</td>\n",
              "    </tr>\n",
              "    <tr>\n",
              "      <th>552</th>\n",
              "      <td>ACCTTCCCAGGTAACAAACCAACCAACTTTCGATCTCTTGTAGATC...</td>\n",
              "      <td>1</td>\n",
              "    </tr>\n",
              "  </tbody>\n",
              "</table>\n",
              "<p>553 rows × 2 columns</p>\n",
              "</div>\n",
              "      <button class=\"colab-df-convert\" onclick=\"convertToInteractive('df-8492d5ef-694e-4640-89ae-7e42b955a300')\"\n",
              "              title=\"Convert this dataframe to an interactive table.\"\n",
              "              style=\"display:none;\">\n",
              "        \n",
              "  <svg xmlns=\"http://www.w3.org/2000/svg\" height=\"24px\"viewBox=\"0 0 24 24\"\n",
              "       width=\"24px\">\n",
              "    <path d=\"M0 0h24v24H0V0z\" fill=\"none\"/>\n",
              "    <path d=\"M18.56 5.44l.94 2.06.94-2.06 2.06-.94-2.06-.94-.94-2.06-.94 2.06-2.06.94zm-11 1L8.5 8.5l.94-2.06 2.06-.94-2.06-.94L8.5 2.5l-.94 2.06-2.06.94zm10 10l.94 2.06.94-2.06 2.06-.94-2.06-.94-.94-2.06-.94 2.06-2.06.94z\"/><path d=\"M17.41 7.96l-1.37-1.37c-.4-.4-.92-.59-1.43-.59-.52 0-1.04.2-1.43.59L10.3 9.45l-7.72 7.72c-.78.78-.78 2.05 0 2.83L4 21.41c.39.39.9.59 1.41.59.51 0 1.02-.2 1.41-.59l7.78-7.78 2.81-2.81c.8-.78.8-2.07 0-2.86zM5.41 20L4 18.59l7.72-7.72 1.47 1.35L5.41 20z\"/>\n",
              "  </svg>\n",
              "      </button>\n",
              "      \n",
              "  <style>\n",
              "    .colab-df-container {\n",
              "      display:flex;\n",
              "      flex-wrap:wrap;\n",
              "      gap: 12px;\n",
              "    }\n",
              "\n",
              "    .colab-df-convert {\n",
              "      background-color: #E8F0FE;\n",
              "      border: none;\n",
              "      border-radius: 50%;\n",
              "      cursor: pointer;\n",
              "      display: none;\n",
              "      fill: #1967D2;\n",
              "      height: 32px;\n",
              "      padding: 0 0 0 0;\n",
              "      width: 32px;\n",
              "    }\n",
              "\n",
              "    .colab-df-convert:hover {\n",
              "      background-color: #E2EBFA;\n",
              "      box-shadow: 0px 1px 2px rgba(60, 64, 67, 0.3), 0px 1px 3px 1px rgba(60, 64, 67, 0.15);\n",
              "      fill: #174EA6;\n",
              "    }\n",
              "\n",
              "    [theme=dark] .colab-df-convert {\n",
              "      background-color: #3B4455;\n",
              "      fill: #D2E3FC;\n",
              "    }\n",
              "\n",
              "    [theme=dark] .colab-df-convert:hover {\n",
              "      background-color: #434B5C;\n",
              "      box-shadow: 0px 1px 3px 1px rgba(0, 0, 0, 0.15);\n",
              "      filter: drop-shadow(0px 1px 2px rgba(0, 0, 0, 0.3));\n",
              "      fill: #FFFFFF;\n",
              "    }\n",
              "  </style>\n",
              "\n",
              "      <script>\n",
              "        const buttonEl =\n",
              "          document.querySelector('#df-8492d5ef-694e-4640-89ae-7e42b955a300 button.colab-df-convert');\n",
              "        buttonEl.style.display =\n",
              "          google.colab.kernel.accessAllowed ? 'block' : 'none';\n",
              "\n",
              "        async function convertToInteractive(key) {\n",
              "          const element = document.querySelector('#df-8492d5ef-694e-4640-89ae-7e42b955a300');\n",
              "          const dataTable =\n",
              "            await google.colab.kernel.invokeFunction('convertToInteractive',\n",
              "                                                     [key], {});\n",
              "          if (!dataTable) return;\n",
              "\n",
              "          const docLinkHtml = 'Like what you see? Visit the ' +\n",
              "            '<a target=\"_blank\" href=https://colab.research.google.com/notebooks/data_table.ipynb>data table notebook</a>'\n",
              "            + ' to learn more about interactive tables.';\n",
              "          element.innerHTML = '';\n",
              "          dataTable['output_type'] = 'display_data';\n",
              "          await google.colab.output.renderOutput(dataTable, element);\n",
              "          const docLink = document.createElement('div');\n",
              "          docLink.innerHTML = docLinkHtml;\n",
              "          element.appendChild(docLink);\n",
              "        }\n",
              "      </script>\n",
              "    </div>\n",
              "  </div>\n",
              "  "
            ]
          },
          "metadata": {},
          "execution_count": 3
        }
      ]
    },
    {
      "cell_type": "markdown",
      "source": [
        "4. Load dataset overview"
      ],
      "metadata": {
        "id": "lUSuwyw22PZX"
      }
    },
    {
      "cell_type": "code",
      "execution_count": null,
      "metadata": {
        "colab": {
          "base_uri": "https://localhost:8080/",
          "height": 484
        },
        "id": "aoHgAgKy5Jgd",
        "outputId": "aa6a7542-57ed-4c7f-fc96-332ba505f332"
      },
      "outputs": [
        {
          "output_type": "execute_result",
          "data": {
            "image/jpeg": "[encoded data removed]",
            "text/plain": [
              "<IPython.core.display.Image object>"
            ]
          },
          "metadata": {},
          "execution_count": 5
        }
      ],
      "source": [
        "Image(\"DataOverview.JPG\")"
      ]
    },
    {
      "cell_type": "markdown",
      "source": [
        "5. Select window size and convert to lowaercase"
      ],
      "metadata": {
        "id": "D19slPn12vfQ"
      }
    },
    {
      "cell_type": "code",
      "execution_count": null,
      "metadata": {
        "id": "tNb3rrzh5Jgh"
      },
      "outputs": [],
      "source": [
        "def getKmers(sequences, size=3):\n",
        "    return [sequences[x:x+size].lower() for x in range(len(sequences) - size + 1)]"
      ]
    },
    {
      "cell_type": "markdown",
      "metadata": {
        "id": "n2hTZxaN5Jgi"
      },
      "source": [
        "6. Now convert data sequences into short overlapping k-mers of legth 3 using getKmers function."
      ]
    },
    {
      "cell_type": "code",
      "execution_count": null,
      "metadata": {
        "id": "PsZQOZas5Jgi"
      },
      "outputs": [],
      "source": [
        "data['words'] = data.apply(lambda x: getKmers(x['sequences']), axis=1)\n",
        "data = data.drop('sequences', axis=1)"
      ]
    },
    {
      "cell_type": "code",
      "source": [
        "data"
      ],
      "metadata": {
        "colab": {
          "base_uri": "https://localhost:8080/",
          "height": 424
        },
        "id": "dxgWjspclnq0",
        "outputId": "e1d522c4-bd0b-4648-b2c2-34d8cb70edf3"
      },
      "execution_count": null,
      "outputs": [
        {
          "output_type": "execute_result",
          "data": {
            "text/plain": [
              "     class                                              words\n",
              "0        0  [att, tta, taa, aaa, aag, agg, ggt, gtt, ttt, ...\n",
              "1        1  [gat, att, ttt, tta, taa, aag, agt, gtg, tga, ...\n",
              "2        1  [gat, att, ttt, tta, taa, aag, agt, gtg, tga, ...\n",
              "3        1  [gat, att, ttt, tta, taa, aag, agt, gtg, tga, ...\n",
              "4        1  [gat, att, ttt, tta, taa, aag, agt, gtg, tga, ...\n",
              "..     ...                                                ...\n",
              "548      1  [att, tta, taa, aaa, aag, agg, ggt, gtt, ttt, ...\n",
              "549      1  [att, tta, taa, aaa, aag, agg, ggt, gtt, ttt, ...\n",
              "550      1  [taa, aaa, aag, agg, ggt, gtt, ttt, tta, tat, ...\n",
              "551      1  [cag, agg, ggt, gta, taa, aac, aca, caa, aaa, ...\n",
              "552      1  [acc, cct, ctt, ttc, tcc, ccc, cca, cag, agg, ...\n",
              "\n",
              "[553 rows x 2 columns]"
            ],
            "text/html": [
              "\n",
              "  <div id=\"df-64a479c4-0dda-4d4f-9963-ffdc8690f455\">\n",
              "    <div class=\"colab-df-container\">\n",
              "      <div>\n",
              "<style scoped>\n",
              "    .dataframe tbody tr th:only-of-type {\n",
              "        vertical-align: middle;\n",
              "    }\n",
              "\n",
              "    .dataframe tbody tr th {\n",
              "        vertical-align: top;\n",
              "    }\n",
              "\n",
              "    .dataframe thead th {\n",
              "        text-align: right;\n",
              "    }\n",
              "</style>\n",
              "<table border=\"1\" class=\"dataframe\">\n",
              "  <thead>\n",
              "    <tr style=\"text-align: right;\">\n",
              "      <th></th>\n",
              "      <th>class</th>\n",
              "      <th>words</th>\n",
              "    </tr>\n",
              "  </thead>\n",
              "  <tbody>\n",
              "    <tr>\n",
              "      <th>0</th>\n",
              "      <td>0</td>\n",
              "      <td>[att, tta, taa, aaa, aag, agg, ggt, gtt, ttt, ...</td>\n",
              "    </tr>\n",
              "    <tr>\n",
              "      <th>1</th>\n",
              "      <td>1</td>\n",
              "      <td>[gat, att, ttt, tta, taa, aag, agt, gtg, tga, ...</td>\n",
              "    </tr>\n",
              "    <tr>\n",
              "      <th>2</th>\n",
              "      <td>1</td>\n",
              "      <td>[gat, att, ttt, tta, taa, aag, agt, gtg, tga, ...</td>\n",
              "    </tr>\n",
              "    <tr>\n",
              "      <th>3</th>\n",
              "      <td>1</td>\n",
              "      <td>[gat, att, ttt, tta, taa, aag, agt, gtg, tga, ...</td>\n",
              "    </tr>\n",
              "    <tr>\n",
              "      <th>4</th>\n",
              "      <td>1</td>\n",
              "      <td>[gat, att, ttt, tta, taa, aag, agt, gtg, tga, ...</td>\n",
              "    </tr>\n",
              "    <tr>\n",
              "      <th>...</th>\n",
              "      <td>...</td>\n",
              "      <td>...</td>\n",
              "    </tr>\n",
              "    <tr>\n",
              "      <th>548</th>\n",
              "      <td>1</td>\n",
              "      <td>[att, tta, taa, aaa, aag, agg, ggt, gtt, ttt, ...</td>\n",
              "    </tr>\n",
              "    <tr>\n",
              "      <th>549</th>\n",
              "      <td>1</td>\n",
              "      <td>[att, tta, taa, aaa, aag, agg, ggt, gtt, ttt, ...</td>\n",
              "    </tr>\n",
              "    <tr>\n",
              "      <th>550</th>\n",
              "      <td>1</td>\n",
              "      <td>[taa, aaa, aag, agg, ggt, gtt, ttt, tta, tat, ...</td>\n",
              "    </tr>\n",
              "    <tr>\n",
              "      <th>551</th>\n",
              "      <td>1</td>\n",
              "      <td>[cag, agg, ggt, gta, taa, aac, aca, caa, aaa, ...</td>\n",
              "    </tr>\n",
              "    <tr>\n",
              "      <th>552</th>\n",
              "      <td>1</td>\n",
              "      <td>[acc, cct, ctt, ttc, tcc, ccc, cca, cag, agg, ...</td>\n",
              "    </tr>\n",
              "  </tbody>\n",
              "</table>\n",
              "<p>553 rows × 2 columns</p>\n",
              "</div>\n",
              "      <button class=\"colab-df-convert\" onclick=\"convertToInteractive('df-64a479c4-0dda-4d4f-9963-ffdc8690f455')\"\n",
              "              title=\"Convert this dataframe to an interactive table.\"\n",
              "              style=\"display:none;\">\n",
              "        \n",
              "  <svg xmlns=\"http://www.w3.org/2000/svg\" height=\"24px\"viewBox=\"0 0 24 24\"\n",
              "       width=\"24px\">\n",
              "    <path d=\"M0 0h24v24H0V0z\" fill=\"none\"/>\n",
              "    <path d=\"M18.56 5.44l.94 2.06.94-2.06 2.06-.94-2.06-.94-.94-2.06-.94 2.06-2.06.94zm-11 1L8.5 8.5l.94-2.06 2.06-.94-2.06-.94L8.5 2.5l-.94 2.06-2.06.94zm10 10l.94 2.06.94-2.06 2.06-.94-2.06-.94-.94-2.06-.94 2.06-2.06.94z\"/><path d=\"M17.41 7.96l-1.37-1.37c-.4-.4-.92-.59-1.43-.59-.52 0-1.04.2-1.43.59L10.3 9.45l-7.72 7.72c-.78.78-.78 2.05 0 2.83L4 21.41c.39.39.9.59 1.41.59.51 0 1.02-.2 1.41-.59l7.78-7.78 2.81-2.81c.8-.78.8-2.07 0-2.86zM5.41 20L4 18.59l7.72-7.72 1.47 1.35L5.41 20z\"/>\n",
              "  </svg>\n",
              "      </button>\n",
              "      \n",
              "  <style>\n",
              "    .colab-df-container {\n",
              "      display:flex;\n",
              "      flex-wrap:wrap;\n",
              "      gap: 12px;\n",
              "    }\n",
              "\n",
              "    .colab-df-convert {\n",
              "      background-color: #E8F0FE;\n",
              "      border: none;\n",
              "      border-radius: 50%;\n",
              "      cursor: pointer;\n",
              "      display: none;\n",
              "      fill: #1967D2;\n",
              "      height: 32px;\n",
              "      padding: 0 0 0 0;\n",
              "      width: 32px;\n",
              "    }\n",
              "\n",
              "    .colab-df-convert:hover {\n",
              "      background-color: #E2EBFA;\n",
              "      box-shadow: 0px 1px 2px rgba(60, 64, 67, 0.3), 0px 1px 3px 1px rgba(60, 64, 67, 0.15);\n",
              "      fill: #174EA6;\n",
              "    }\n",
              "\n",
              "    [theme=dark] .colab-df-convert {\n",
              "      background-color: #3B4455;\n",
              "      fill: #D2E3FC;\n",
              "    }\n",
              "\n",
              "    [theme=dark] .colab-df-convert:hover {\n",
              "      background-color: #434B5C;\n",
              "      box-shadow: 0px 1px 3px 1px rgba(0, 0, 0, 0.15);\n",
              "      filter: drop-shadow(0px 1px 2px rgba(0, 0, 0, 0.3));\n",
              "      fill: #FFFFFF;\n",
              "    }\n",
              "  </style>\n",
              "\n",
              "      <script>\n",
              "        const buttonEl =\n",
              "          document.querySelector('#df-64a479c4-0dda-4d4f-9963-ffdc8690f455 button.colab-df-convert');\n",
              "        buttonEl.style.display =\n",
              "          google.colab.kernel.accessAllowed ? 'block' : 'none';\n",
              "\n",
              "        async function convertToInteractive(key) {\n",
              "          const element = document.querySelector('#df-64a479c4-0dda-4d4f-9963-ffdc8690f455');\n",
              "          const dataTable =\n",
              "            await google.colab.kernel.invokeFunction('convertToInteractive',\n",
              "                                                     [key], {});\n",
              "          if (!dataTable) return;\n",
              "\n",
              "          const docLinkHtml = 'Like what you see? Visit the ' +\n",
              "            '<a target=\"_blank\" href=https://colab.research.google.com/notebooks/data_table.ipynb>data table notebook</a>'\n",
              "            + ' to learn more about interactive tables.';\n",
              "          element.innerHTML = '';\n",
              "          dataTable['output_type'] = 'display_data';\n",
              "          await google.colab.output.renderOutput(dataTable, element);\n",
              "          const docLink = document.createElement('div');\n",
              "          docLink.innerHTML = docLinkHtml;\n",
              "          element.appendChild(docLink);\n",
              "        }\n",
              "      </script>\n",
              "    </div>\n",
              "  </div>\n",
              "  "
            ]
          },
          "metadata": {},
          "execution_count": 64
        }
      ]
    },
    {
      "cell_type": "markdown",
      "metadata": {
        "id": "q5yHvv9z5Jgj"
      },
      "source": [
        "### Now, coding sequence data is changed to lowercase, split up into all possible k-mer words of length 3 and ready for the next step."
      ]
    },
    {
      "cell_type": "markdown",
      "metadata": {
        "id": "3KhNPlih5Jgk"
      },
      "source": [
        "7. Convert the lists of k-mers for each gene into string sentences of words that the count vectorizer can use. We can also make a y variable to hold the class labels."
      ]
    },
    {
      "cell_type": "code",
      "execution_count": null,
      "metadata": {
        "id": "pfhdz_zf5Jgk"
      },
      "outputs": [],
      "source": [
        "texts = list(data['words'])\n",
        "for item in range(len(texts)):\n",
        "    texts[item] = ' '.join(texts[item])\n",
        "y_data = data.iloc[:, 0].values                         "
      ]
    },
    {
      "cell_type": "code",
      "source": [
        "y_data"
      ],
      "metadata": {
        "colab": {
          "base_uri": "https://localhost:8080/"
        },
        "id": "pw8walOClyUw",
        "outputId": "21a61d78-c86c-470c-fdfc-89ec36ab2148"
      },
      "execution_count": null,
      "outputs": [
        {
          "output_type": "execute_result",
          "data": {
            "text/plain": [
              "array([0, 1, 1, 1, 1, 0, 0, 1, 0, 1, 0, 1, 0, 1, 1, 1, 1, 0, 1, 1, 1, 1,\n",
              "       1, 1, 1, 1, 1, 1, 1, 1, 1, 1, 1, 1, 1, 1, 1, 1, 1, 1, 1, 1, 1, 1,\n",
              "       1, 1, 1, 1, 1, 1, 0, 1, 1, 1, 1, 1, 1, 1, 1, 0, 0, 1, 1, 1, 1, 1,\n",
              "       1, 1, 1, 1, 0, 1, 0, 0, 0, 1, 1, 1, 1, 1, 1, 1, 1, 1, 1, 1, 1, 1,\n",
              "       1, 1, 1, 1, 1, 1, 1, 1, 0, 1, 1, 1, 0, 1, 1, 1, 1, 0, 1, 1, 1, 1,\n",
              "       1, 1, 1, 1, 0, 0, 0, 0, 0, 0, 0, 0, 1, 1, 1, 1, 1, 1, 1, 1, 1, 1,\n",
              "       1, 1, 1, 1, 0, 0, 0, 0, 1, 1, 1, 1, 1, 1, 1, 1, 1, 1, 1, 1, 1, 1,\n",
              "       1, 1, 0, 0, 1, 0, 1, 0, 1, 1, 0, 1, 1, 1, 1, 1, 1, 1, 1, 1, 1, 1,\n",
              "       1, 1, 1, 1, 1, 1, 1, 1, 1, 1, 1, 1, 1, 1, 1, 1, 1, 1, 1, 1, 1, 1,\n",
              "       1, 1, 1, 1, 1, 1, 1, 1, 1, 1, 1, 1, 1, 1, 1, 1, 1, 1, 1, 1, 1, 0,\n",
              "       0, 1, 0, 1, 0, 1, 0, 0, 0, 0, 0, 0, 0, 1, 0, 1, 0, 1, 0, 0, 0, 0,\n",
              "       1, 1, 1, 1, 1, 1, 1, 1, 1, 1, 1, 1, 1, 1, 1, 1, 1, 1, 1, 1, 1, 1,\n",
              "       1, 1, 1, 1, 1, 1, 1, 1, 1, 1, 1, 1, 1, 1, 1, 1, 1, 1, 1, 1, 1, 1,\n",
              "       1, 1, 1, 1, 1, 1, 1, 1, 1, 1, 1, 1, 1, 1, 1, 1, 1, 1, 1, 1, 1, 1,\n",
              "       1, 1, 1, 1, 1, 1, 1, 1, 1, 1, 1, 1, 1, 0, 1, 1, 1, 1, 1, 0, 0, 0,\n",
              "       0, 0, 0, 0, 0, 1, 1, 1, 0, 1, 1, 1, 1, 1, 1, 1, 1, 1, 1, 1, 1, 1,\n",
              "       1, 1, 1, 1, 0, 1, 1, 0, 0, 0, 0, 1, 1, 1, 1, 1, 1, 1, 1, 1, 1, 1,\n",
              "       1, 1, 1, 1, 1, 1, 1, 1, 1, 1, 1, 1, 1, 1, 1, 1, 1, 1, 1, 1, 1, 1,\n",
              "       1, 1, 1, 1, 1, 1, 1, 1, 1, 1, 1, 1, 1, 1, 1, 0, 0, 0, 0, 0, 0, 0,\n",
              "       0, 0, 0, 0, 0, 0, 0, 0, 0, 0, 0, 0, 0, 0, 0, 0, 0, 0, 0, 0, 1, 1,\n",
              "       1, 1, 1, 1, 1, 1, 1, 1, 1, 1, 1, 1, 1, 1, 1, 1, 1, 1, 1, 1, 0, 1,\n",
              "       1, 1, 1, 1, 1, 1, 1, 0, 1, 1, 1, 1, 1, 1, 1, 1, 1, 1, 1, 1, 1, 1,\n",
              "       1, 1, 1, 1, 1, 1, 1, 1, 1, 1, 1, 1, 1, 1, 1, 1, 1, 1, 1, 1, 1, 1,\n",
              "       1, 1, 1, 1, 1, 1, 1, 1, 1, 1, 1, 1, 1, 0, 1, 1, 1, 1, 1, 1, 1, 1,\n",
              "       1, 1, 1, 1, 1, 1, 1, 1, 1, 1, 1, 1, 1, 1, 1, 1, 1, 1, 1, 1, 1, 1,\n",
              "       1, 1, 1])"
            ]
          },
          "metadata": {},
          "execution_count": 20
        }
      ]
    },
    {
      "cell_type": "code",
      "execution_count": null,
      "metadata": {
        "id": "I1k74NPn5Jgl",
        "outputId": "f4732d13-fdc9-4a81-ea98-0b292b15b032",
        "colab": {
          "base_uri": "https://localhost:8080/"
        }
      },
      "outputs": [
        {
          "output_type": "stream",
          "name": "stdout",
          "text": [
            "gat att ttt tta taa aag agt gtg tga gaa aat ata tag agc gct ctt ttg tgg ggc gct cta tat atc tct ctc tca cac act ctt ttt ttc tcc ccc cct ctc tcg cgt gtt ttc tct ctc tct ctt ttg tgc gca cag aga gaa aac act ctt ttt ttg tga gat att ttt ttt tta taa aac acg cga gaa aac act ctt tta taa aaa aat ata taa aaa aaa aag agc gcc ccc cct ctg tgt gtt ttg tgt gtt ttt tta tag agc gcg cgt gta tat att ttg tgt gtt ttg tgc gca cac act ctt ttg tgt gtc tct ctg tgg ggt gtg tgg ggg gga gat att ttg tgt gtg tgg ggc gca cac act cta taa aat atc tct ctg tgc gcc cct ctg tgc gct ctc tca cat atc tct cta tag agg ggc gca cag agt gtg tgg gga gac aca cat ata tat atg tgc gct ctc tca caa aac aca cac act ctg tgg ggg ggt gta tat ata taa aat att ttc tct cta taa aat att ttg tga gaa aat ata tac act cta tat att ttt ttt ttt ttc tca cag agt gtt tta tag aga gag agc gcg cgt gtc tcg cgt gtg tgt gtc tct ctc tct ctt ttg tgt gta tac acg cgt gtc tct ctc tcg cgg ggt gtc tca cac aca caa aat ata tat ata tac acg cgg ggt gtt ttt ttc tcg cgt gtc tcc ccg cgg ggt gtg tgc gcg cgt gtg tgg ggc gca caa aat att ttc tcg cgg ggg ggg ggc gca cac aca cat atc tca cat atg tgt gtc tct ctt ttt ttc tcg cgt gtg tgg ggc gct ctg tgg ggt gtg tgt gtg tga gat atc tcg cgc gcg cgc gca caa aag agg ggt gtg tgc gcg cgc gcg cgc gcg cgg ggt gta tac acg cgt gta tat atc tcg cga gag agc gca cag agc gcg cgc gct ctc tca caa aac act ctc tct ctg tga gaa aaa aaa aaa aac aca cat atc tca caa aag aga gac acc cca cat atg tgt gtg tgt gtc tct ctc tct cta taa aac act ctg tgt gtg tgc gcc cca cac act ctc tct ctg tgt gtg tgg ggt gtt ttc tca cag agg gga gaa aaa aac acc cct ctg tgg ggt gtt ttg tga gaa aaa aaa aaa aac act ctt ttt ttc tca cac acc cca cat atg tgg ggt gtt ttc tca cat atg tgg gga gat atg tgg ggc gcg cga gaa aaa aaa aat atg tgc gcc cct cta tat atg tga gaa aag agt gtg tgg ggt gtg tga gaa aag agg ggc gcc cca cat atg tgt gtt tta tac act ctt tta taa aaa aaa aaa aaa aag aga gag agc gcc cca cac act ctt ttc tct ctc tct cta tat atg tgt gtg tgc gcc ccc cca cat atc tcc ccg cgg ggt gtt ttg tgg ggc gct ctg tgg gga gac aca cac aca cac act cta tag aga gac aca cac acc cct ctc tcc ccc cca cag agg ggt gtc tcc cct ctc tcg cgt gtg tgt gtg tgt gta tac acc cct ctg tgg ggt gtt ttg tga gag aga gag agg ggc gct ctc tca cat att ttg tgc gct ctt ttg tgt gtg tga gaa aaa aaa aat atc tcc cca cat att ttc tca cat atg tgg ggt gtt tta taa aac acc cca caa aat att ttg tgg ggc gct ctt tta tat ata tag agc gct ctc tct cta tag agt gtg tgc gca caa aaa aat atg tgg ggc gca cag agc gcc cct ctg tgg ggt gtt ttg tgg ggc gca cac aca caa aac act ctt ttt ttg tgc gca cag agg ggg ggc gca caa aag agc gcc cct cta tat att ttg tgg ggt gta tat atg tgt gtt ttc tct ctt ttc tcc ccc cct ctt tta tat atg tga gac aca cat atc tcg cga gaa aac act ctt ttg tgt gtc tca cac aca cag agg gga gaa aaa aag agc gca caa aaa aaa aat ata tat att ttc tct ctc tcc cct ctg tgc gcg cgc gca caa aag agt gta tat atg tgg ggc gcc ccg cgt gtg tgg ggt gtg tgg ggt gtt tta tat atc tca cac act cta tac aca cac acc ccc ccc cca cag agt gtc tcc cca cac act cta tat atg tga gag agc gcg cga gag aga gac aca caa aac aca cac acc cct ctc tct ctt ttg tgc gcc ccc cct ctg tga gag agt gtg tgg gga gat atg tgg gga gac acg cga gat att ttt ttt ttg tga gag agg ggc gcg cgg gga gat atc tcc cct cta taa aaa aag agg ggc gca caa aaa aat ata tat atg tgc gcc ccc cca cag aga gaa aat atc tct ctg tgc gct ctt tta taa aag aga gaa aag agt gtt ttg tga gat att ttg tgg ggc gcg cgg ggt gtg tga gat atg tgt gtc tca cac act ctc tcc cca cag agt gtt ttg tga gac acc cca caa aat ata tac aca cat atg tgt gtg tgt gtg tgg ggc gcg cgt gtt ttg tga gat atg tgg gga gaa aaa aaa aac acc ccc cca cat att tta tag agt gtg tgc gct ctt tta tac acg cgc gca cat att ttt ttt ttt tta taa aat atg tgg ggc gcc cca caa aag agg gga gat atg tgg gga gaa aat ata taa aac acc cca caa aaa aac act ctg tgg ggc gct ctg tga gat atg tgt gtt ttg tga gaa aag agc gcg cgg gga gac acg cgt gtc tcg cgc gca cag agc gca cac acg cgt gtg tgc gct ctg tga gat atg tga gac acg cga gaa aag agg ggc gct ctt ttc tca cat atc tca cac aca cat att tta taa aaa aag aga gaa aac aca caa aat atc tct cta tat ata tat ata tag aga gat att ttg tgg ggt gtt ttt ttg tgg ggc gca cat atg tgt gtt ttg tga gag agc gcg cgt gta taa aaa aag aga gac acg cgt gtt ttc tcc cca cat ata tat atc tcc cct cta taa aag agc gca caa aat atc tct cta tat att ttt ttt ttt tta tac act cta tat att tta taa aat ata tag agt gtg tgt gtg tgg ggt gtc tcc cca caa aaa aaa aag agg gga gat atg tgg ggt gtg tgt gtt ttg tga gaa aaa aaa aac aca cac act ctc tcc ccc ccc ccc cct ctc tca cac act cta tat att ttt ttt tta tac act ctc tct ctt ttg tgg gga gat atg tgc gca caa aaa aaa aat att ttt ttt tta taa aac acg cgc gct ctc tca cac act ctc tcc cca cac acg cgt gta taa aac aca caa aag agt gtg tgg gga gag agt gtg tgg ggc gcg cgt gtt ttt ttc tct ctg tga gac act ctt ttg tgt gtc tcc ccc cct ctc tca caa aaa aac aca caa aaa aaa aaa aac act ctc tcc cct ctt ttt tta tac aca cac acc cct ctt ttc tct cta tat atg tgg ggt gta taa aag agg gga gag agt gtc tca cac act ctt ttg tga gag aga gaa aac acc ccc cca caa aac acc cct cta tac aca cat att ttt tta tac acc cca cac act ctc tcc ccg cgc gca cat att ttc tca cat att ttg tga gag agt gtg tgt gtg tgg gga gaa aag agt gtt ttg tgt gtg tgg ggt gta taa aat atg tga gat att ttc tcc cct ctg tgg ggc gct ctt tta tac aca cag agg ggg gga gaa aat atg tgc gct cta tat atc tcc cca caa aag agg ggg ggt gtt ttt ttg tgc gcc cct ctg tgt gtg tgg gga gat atg tgt gtg tgg ggg ggg ggc gca cat atc tca cat ata tat ata tac aca cag agc gct cta taa aat atg tga gat atg tgt gtc tcg cga gaa aag agt gtc tcc cca caa aat atc tca cat atc tct ctg tgg ggc gca cat atg tga gat att tta taa aag agc gcc cca caa aaa aat atg tgc gct ctc tct ctt ttc tct ctt ttt ttg tgt gtg tgc gct cta tac act ctt ttg tgc gcc ccc ccc cct ctt ttt ttg tgc gct cta taa aag agg ggg ggt gtg tga gac aca cag agc gct ctg tgt gtt ttc tct ctt ttc tct cta taa aat att ttg tgc gca caa aaa aac aca cat att ttc tca cag agt gtt ttg tgc gct ctc tca cag agt gtt ttg tgg ggt gtt tta tag agt gtt tta tac acc cct ctt ttt ttc tct ctg tga gaa aac acg cgc gct ctg tgt gta taa aat atg tgt gtt tta tat att ttg tgc gct ctg tga gat att ttc tct cta taa aag agt gtc tcc cct ctt ttc tca cac aca cac act ctt tta tat atc tct ctt ttt ttg tgg ggt gtg tgg ggc gcg cgt gta tag agc gct ctt tta tac acg cgc gcc cct cta tac act ctt ttt ttg tgg gga gat atg tgt gtg tga gag agg gga gaa aag agg ggt gta tac act cta tat atg tgt gta tac act ctt ttt ttg tgt gtg tgc gcc cct cta tag aga gag agc gct cta taa aag agt gtc tct ctg tgt gtt ttg tgt gtc tct ctc tca caa aag agg gga gat att ttg tgg gga gag aga gac act ctc tcc cca cat atc tct ctt ttt tta tac aca cag agg ggc gct ctg tgt gta tac act ctg tgg ggc gct ctc tct ctt ttg tgg gga gaa aac aca caa aag agg ggt gtc tca cac act ctc tca caa aaa aat att ttg tgc gct cta taa aac aca cat atg tgt gtt ttc tct ctt ttg tgg gga gaa aac aca cag aga gac act ctc tca cag agc gca cat att ttc tcc ccc cct ctt tta taa aac act ctt ttt ttg tgt gtg tgg ggg gga gag aga gag agt gtt ttc tcg cgt gtt ttg tgt gtc tca caa aac acg cga gat atg tgt gtt ttg tgt gtc tcc cct ctc tcg cgc gca caa aat att ttc tct ctc tct ctc tct ctg tgg gga gaa aac acc cca cac aca caa aac act cta taa aat atg tgt gtt ttg tga gac aca caa aaa aaa aat ata tac acg cgc gcc cca cag agc gct ctt ttc tct ctc tca caa aaa aag agg ggt gtg tgt gtc tca cac acc cca cat att ttg tga gac aca caa aag agt gtt ttg tgc gcg cgt gtg tga gat att tta tat att ttt tta tag agc gct ctg tga gac act cta tat atg tga gac acg cgt gta tag agc gca cag agt gtc tca cac act ctg tgc gcc ccg cgg ggc gcc ccc cca cat att ttc tca cat atg tgg gga gat ata taa aat atg tgc gct cta tat att tta taa aat atg tgt gtt ttg tgg ggt gtg tgg ggt gta tac aca cag agg gga gat att tta tac aca cag agt gta tat atg tgc gcc ccg cgc gcc cca cat att tta tac act ctg tgc gca cac acc cct ctt tta tat atg tgt gta tag agt gtt ttc tct ctc tca cac act ctg tgg ggc gct ctt tta tag agg ggt gtg tga gag agt gtc tcc cct ctt ttt tta taa aag aga gaa aaa aag agt gtt ttg tgc gca caa aac acc cca cat ata tac acc ccg cgt gta tac aca caa aag agg ggt gtt ttt ttg tgc gca caa aac act ctc tct ctg tgt gtt tta taa aag agg gga gat ata tag agt gtc tct ctg tga gac act ctt tta tat att tta tat atg tgc gct ctc tca cac aca cag agc gcg cgt gtg tgt gtt ttg tgt gta tac aca cag aga gag agt gtt ttt ttt ttt ttc tcc cct ctt tta tat atg tga gac aca cat atg tgg gga gat att ttc tct ctg tgg ggt gtg tgt gtg tgt gtc tca cat atc tcc cct ctt ttt tta tag agt gtg tga gaa aac act cta tac act ctt ttt ttt ttt ttg tga gat att ttg tgc gcg cgt gtt ttg tga gat atc tct ctt ttt ttc tca cag agt gta tag agc gct ctt ttc tct cta tac acc cct cta tat att ttt ttt ttt ttt tta tag agt gtc tcc ccg cgc gcc cct ctc tct ctt ttg tgc gca caa aag aga gat ata taa aag aga gac act ctg tgg ggc gcg cga gac act ctt ttt tta tat atg tgt gtc tct cta tac aca caa aat att tta tat att tta tac act ctt ttc tcc cct ctg tgc gcc cca caa aaa aac act ctg tgc gct ctg tgt gtt tta tag agt gta taa aag agc gct ctt ttc tct cta tag aga gat ata tac aca cat atg tgt gtt ttt ttt ttg tga gaa aag agc gct cta tac aca cag aga gaa aag agc gca caa aac aca cat att ttt tta taa aac act ctt ttc tct ctt ttg tgt gtt tta tag aga gat att ttt ttg tgg ggc gca cag agg gga gat att ttg tgt gtt ttc tca cag aga gaa aat atc tct ctt ttt ttc tct ctt ttc tcg cgc gca caa aat atg tgc gcc cct cta tat atg tgt gtg tgt gta tac aca cac act ctt ttc tca cac aca caa aag agg ggg ggt gtt ttt ttg tgt gtg tgg ggt gtg tgg ggt gtc tca caa aat atg tgg ggc gca caa aaa aag agt gtt ttt ttc tct cta tac aca cac act ctt ttg tgt gtc tca caa aaa aac aca caa aag agt gtg tgt gtt tta tag aga gac act ctt ttg tgc gct ctt tta taa aat ata taa aag agg ggg ggt gta tat atg tgc gca caa aac act ctt ttt ttt ttg tgc gca cat ata tac aca caa aaa aag agg ggt gtc tct ctc tcc cct ctg tgg ggg ggc gct ctg tgg ggt gtt ttc tct cta taa aat ata tat atc tca cag agt gtg tgc gct ctg tgt gtt tta tat atc tct cta tac aca cag agc gcg cgg ggc gca cag agg ggg gga gag agt gtc tct ctc tct cta taa aat ata tat att ttc tcc ccc cca cat atc tcg cgg ggg gga gaa aac acc cct cta tat att tta tac act ctg tgt gtg tgt gtc tca cac acc cca cac act cta taa aag agg ggc gct cta taa aag agt gtc tcc ccg cgt gtt ttc tca caa aac aca caa aag aga gat atc tct ctt ttg tga gac acg cgt gtt tta tat att ttt ttt ttg tgc gcc cct ctg tgg ggt gtg tga gag agt gtt ttt ttt ttc tcc cca caa aag aga gaa aag agc gca cag agt gtt tta tag agg gga gac act ctg tgc gct ctc tcc cca caa aac acc cct cta tac act ctg tga gac aca caa aat att ttc tct cta tac aca caa aac act ctg tgt gtt tta tag agt gtg tgt gtt tta tac act ctg tgt gta tat atc tcc cca cag agt gta taa aac aca cat atg tgg ggt gtt ttg tga gaa aaa aac act ctg tgt gtt ttg tgt gtg tgg ggg ggt gtc tca caa aac act ctt ttg tga gag agc gca caa aaa aac act cta taa aat ata tat atg tgc gca cat ata tag agt gtc tcc cct ctg tga gat atg tgt gtt tta tat ata tag agt gta tag agg ggt gtg tga gac act cta tat atg tgt gtc tca cat att tta tat att tta tag agt gtg tga gaa aaa aaa aaa aat att ttg tgt gtt ttt ttg tgt gtg tgc gcg cgt gta tag agt gta taa aag agg gga gaa aag aga gaa aag aga gac acg cgg gga gat att ttc tcg cgc gcc cct ctt ttc tct cta tac acc ccc cct ctg tgc gct ctt ttg tgc gca cac act cta taa aat atg tgg ggt gtc tca cat atg tgc gct ctg tgt gta tac acc ccg cga gac act ctc tct ctc tct ctt ttt tta tag aga gac act ctt tta taa aag agg ggg gga gag agg ggt gtg tgc gca cac acc cct ctg tgt gta taa aaa aaa aaa aaa aaa aag agt gta tag agc gcc cct ctt ttt ttg tgg ggc gcg cgg ggt gtg tga gat atc tca caa aag agt gta tac aca cat atg tga gag agg ggt gtt ttg tgc gct ctg tgc gct ctg tgt gta taa aag aga gaa aag agt gtg tgt gtt tta tac act ctg tgt gtc tcg cga gag agt gta tac aca caa aac aca cat att ttc tca cat atg tgc gct ctg tgt gta tat att tta tag aga gac aca cac aca cac act cta tac act ctt ttg tgc gct ctt ttc tct ctt ttc tct cta tag agt gtc tct ctt tta tag aga gaa aac acc cct ctt ttt ttg tgt gtt ttg tgt gta tag aga gat ata taa aag agt gtc tct ctt ttt ttg tgt gtc tca caa aat att ttg tga gag agg gga gag agt gtt ttt ttg tgc gct ctg tga gac acg cgt gta tag agt gta taa aaa aag agg gga gaa aac aca caa aag agt gtc tct ctc tca cag aga gac act ctt ttg tgc gct ctt ttg tgt gtt tta taa aaa aat att tta tac act ctg tgc gcg cgt gtg tgg gga gaa aat atg tgc gcc ccg cga gat att ttc tcc cca cag aga gat att ttt ttt ttg tga gat att ttt tta tag aga gac acg cga gat att ttt ttt tta tat att ttg tga gac acg cgc gca cac acc cca cat atg tgc gct cta tat att ttg tgc gct ctt ttt tta taa aac acg cgc gct ctg tga gag agg ggg ggt gtg tga gat atg tgc gca cat atc tct ctt ttg tgg ggt gtc tct ctt ttc tct cta tac act cta tat atg tga gat atc tct ctt ttc tct ctc tct ctc tct ctt ttc tca cac acc ccc ccc ccg cgt gtc tcg cga gag agt gtg tgt gtg tga gac acg cga gag agg gga gag agt gtg tgt gtt ttc tct ctg tga gaa aag agt gta tag aga gag agg ggc gct ctt ttc tca cag aga gat att ttt tta tag aga gaa aag aga gaa aaa aag agt gtg tga gaa aat atc tca cag aga gag agt gtg tgc gca cat att ttt ttc tct ctg tga gag aga gac act ctt ttc tca caa aac act ctg tga gaa aac aca caa aag agt gtt ttg tga gac acg cgt gtt ttt ttc tct ctc tca cat atg tga gag agg ggt gtt ttt ttc tct ctg tga gac acg cga gac acg cga gag agt gtg tgg ggg ggc gct ctg tgc gct ctg tgc gca cag agt gtt ttg tga gat atg tga gaa aag agc gcg cgt gtt ttc tcc ccc ccc ccc cct ctc tcg cga gat atg tga gaa aag agc gca cag aga gaa aag aga gat atg tgt gtt tta tac act ctg tga gaa aat atc tct ctg tgt gtg tgc gca caa aag aga gaa aag aga gaa aag agc gca cac aca caa aac acc cca cag agt gta tag aga gaa aag agt gta tac acc cct ctg tgt gtt ttg tga gaa aag aga gat ata tat att ttg tgc gcg cgc gca cag agg ggt gtt ttg tgt gtc tca cat ata tag agc gct ctg tga gac aca cac acc cct ctt tta tac aca cag agg gga gaa aaa aac acc ccc ccc cct ctg tgt gtt ttg tgt gtg tgt gtc tct ctg tga gat ata tac act ctg tgt gtt ttg tga gaa aag agt gtc tcc ccc cca cac acc ccg cgc gca caa aag agt gtg tgg ggt gtg tga gaa aaa aac act ctt ttc tcc ccg cgt gtc tct ctg tga gaa aac acc cct ctc tca cag aga gac act cta tat atc tcc cca cag agc gcc ccc ccg cga gag agg ggt gta taa aaa aaa aag aga gaa aag agt gtt ttg tgc gca cac acc cct ctg tgt gtc tct cta tat atg tga gag agg ggc gct ctg tga gat ata tac acc ccg cga gaa aac aca cag aga gac aca cac aca cag aga gag agt gtg tgt gtt tta tac act ctg tgt gtt tta taa aaa aac acg cgt gta taa aag aga gag agg ggt gtt tta tac acg cgc gca caa aaa aaa aaa aag agc gcg cgt gta taa aat atg tgt gtt ttg tga gac acc ccc cct ctt ttt ttg tgt gtc tcc cca caa aat att ttt ttt ttg tga gaa aac aca cat ata taa aag agg ggt gtt tta tat att tta tac aca cag aga gag agt gtg tgc gcg cgt gtt tta tac acc cca cat ata tag agt gtt ttt ttt tta tag agg ggt gtg tga gac acg cgc gca caa aat att ttc tca caa aag agt gta tag agc gcc cca caa aag agt gtg tgc gct cta tat atg tgg ggg ggg gga gag agt gtc tct ctg tgt gtg tgt gtt tta tag agt gtt tta taa aat atg tgc gct ctg tgc gct cta taa aac aca cac aca cac aca cat atc tct ctt tta taa aag agc gca cat atg tgg ggc gcg cgg ggt gtg tgg ggt gta tat atc tcg cgc gct ctg tgg ggt gtg tgc gct cta tat att tta taa aat atg tgc gcg cgg ggc gct ctt ttc tca caa aaa aaa aag agg ggg ggg ggc gct ctg tgt gtc tcc cca cag aga gaa aaa aag aga gag agt gtc tca cag aga gat atg tga gag agt gta tat ata tat att ttc tct ctg tgg ggc gct cta taa aaa aag agg ggg ggc gcc ccg cgt gtt tta tac aca caa aag agt gta tag agg gga gag aga gat att ttc tca cag agt gtt ttc tct ctc tct ctt ttg tgc gca caa aag agg ggc gcc cca cat att ttc tct ctc tct cta tag agc gct cta taa aag aga gaa aat ata tat atc tcc cct ctg tgc gca cat atg tgt gtc tcg cgt gta tag agg ggc gcc ccc cca cag aga gat atg tgc gcc ccc ccg cgc gcg cgc gct cta taa aaa aac aca cag agg gga gat atg tgt gtt ttt ttc tct ctc tct ctc tcc cct ctt tta tag agt gta taa aag agt gtg tgc gct cta tat ata taa aag agg ggc gct cta tat atg tga gaa aat atg tgc gca cat ata tat atc tcc cct ctc tct ctt ttg tgt gta tag agt gtc tca cac act ctc tcc cct ctc tct ctt ttg tgt gtt ttt ttc tca caa aac aca cag agg ggc gca cat ata tat att ttt ttg tgg ggt gtg tgt gta taa aaa aaa aac acc cca cag agc gct ctg tgt gtg tgt gtc tct ctt ttt ttt ttg tga gat att tta tat atc tct ctt tta tat att tta tag aga gag aga gag agg ggc gct cta taa aag aga gac act cta tag aga gag agt gtt ttt ttt tta tag agt gtc tcg cgt gtc tcg cgt gtt tta taa aat att ttc tcc ccc cca caa aag aga gat atg tgt gtc tct cta tat ata taa aag aga gag agt gtc tct ctt tta tac acc cca cat ata tag agt gtt ttg tga gac aca cat att ttc tcc cca cac aca cag aga gag agt gtt ttt ttg tga gac act ctt ttt ttt ttt ttc tca cat ata tat atg tga gat atg tgg ggg ggt gtt tta tac acg cgt gtg tgg ggc gcg cgc gca caa aat ata tac acg cgt gta taa aaa aag agc gct cta taa aaa aag aga gat att tta tat atg tgg ggt gtt ttt ttt tta tac act ctg tgt gtt ttt ttt ttt ttg tgt gtg tgt gtg tgc gca cac aca cag aga gac aca caa aac act ctc tct ctg tgc gct cta taa aac aca cac act cta taa aaa aag agt gtt ttc tct ctt tta tag agg gga gaa aac aca caa aag agg ggg ggt gtg tgt gtt ttg tga gat att tta tat ata tac act cta taa aag aga gaa aag agt gtt ttt ttc tct ctt tta tac aca cag agt gtt ttg tga gac acg cgg ggt gtg tgt gtg tgc gca caa aat ata tat att tta tat att ttg tgc gct cta tac aca cac acg cgt gtc tct cta taa aag agg gga gac aca cac acc cct ctt tta tag aga gat atg tga gat ata tat atc tct ctt tta tac aca caa aac aca cag agg ggc gct cta taa aat ata taa aag agt gtc tct ctg tgt gtt ttg tgg ggt gta tat att tta tat ata tat atc tct cta tat atg tgc gcc cct ctt ttt ttg tgg ggg gga gat ata tat atg tgt gtg tgt gtc tct ctc tca cat atg tgg ggt gtt ttt tta tag aga gac act ctt tta taa aat att ttc tca caa aag agc gca cag agg ggg gga gag agt gta tat atc tcg cgt gtg tgc gcg cgt gta tag aga gag agt gtt tta taa aac acg cgt gtg tgc gcc ccc cct cta tac acg cgt gtg tgt gtg tgt gtc tct ctc tcc cct cta tag agc gct cta taa aat ata taa aaa aag aga gag agc gca caa aag aga gaa aag agc gct cta tat att ttt ttt ttg tga gat atg tgt gtc tct ctg tga gaa aag aga gac acg cgt gtt tta taa aag agt gtt tta taa aaa aac acc ccc cct ctt ttc tca cag aga gaa aag aga gat att ttt ttt tta tat ata taa aaa aag agc gca cat atg tgt gtc tcc ccg cgc gca cac act cta taa aat atg tgg ggt gtg tgg ggt gtt tta tac aca caa aat att ttc tct ctt ttg tgg ggc gca cat att ttt tta tag agt gtc tcg cga gag agg ggg ggt gtg tgg gga gac act cta tat att ttg tgg ggt gtg tgc gca caa aag aga gac act ctt tta tac acg cgc gct ctt tta taa aaa aat ata taa aag agc gct ctc tcc cct ctg tgc gca cat att ttg tgg ggt gtc tct ctg tga gat atc tca caa aaa aac acc cca cat ata tat atg tgc gct cta tac aca caa aag agg gga gat ata tag agt gtg tgt gtg tgt gtt ttt ttt tta tat atg tgt gtt ttg tgt gta taa aaa aag aga gaa aat ata tag agt gta tac aca caa aac act ctt ttt ttt ttc tcc cca cat att ttt ttg tga gaa aaa aac aca cac act ctt ttt ttc tca cag agc gca cat atg tgt gtc tcg cgt gtg tgc gcg cgt gta tat att ttt ttg tgg gga gat att ttc tca cac acg cgc gca cac acg cga gac aca cac aca cag agc gca cag agt gtt tta taa aac aca caa aat atc tcg cga gaa aag agt gtc tct ctt tta tag agt gtg tga gac act ctg tgt gtc tcg cga gat atg tgg ggt gtg tgt gta taa aaa aat att ttt ttt tta tag aga gaa aac aca cag agt gtc tcg cgt gtt ttc tct cta taa aaa aat ata taa aat ata taa aag aga gaa aac aca cac act ctt tta tat ata tag aga gat atc tca cac aca cag agc gct ctt ttg tgg gga gat atg tgc gcg cgt gtt ttt ttt ttc tct ctt ttt tta taa aat atg tgg ggt gtg tgc gct ctg tga gat ata tat att ttt ttc tct ctg tga gat ata tac acc cca cat att ttc tcc cct ctg tga gat atg tga gag aga gaa aaa aac aca cag aga gaa aat atg tgg ggt gtc tca cac aca cag agt gtt ttt tta tat ata tat atc tct cta tag agc gca cag aga gac aca caa aat att ttt ttg tga gac act ctg tgc gct ctg tga gat atg tga gaa aaa aac aca caa aaa aag agg ggc gcg cgc gct ctt tta taa aaa aag aga gag agt gtt tta tat ata tat atg tgg ggc gcc ccc ccc ccg cgt gtt ttg tga gat atc tcc cct cta tac act ctt ttt ttc tct ctt tta tac aca cac aca cag aga gat att ttc tct cta tat att ttc tca cac act ctt tta taa aag agg ggc gct ctg tgc gca cag agt gtc tcc cca cat ata tag agg ggt gtg tgg gga gaa aag aga gat atg tgg ggt gtt ttg tgt gtg tgt gtg tgt gtg tga gat ata taa aag agg ggt gta tac acg cgt gtt ttc tct ctc tct ctc tca caa aaa aat att ttg tga gag agt gtg tga gat ata taa aat ata taa aat att ttg tgt gtt tta tat atc tct ctt tta taa aat atg tgc gca cag agt gtt tta tat att tta tat atg tga gac aca cac act ctt ttg tga gat att ttt tta tat att ttg tga gaa aag agg gga gac aca cat att tta taa aaa aat att ttt ttg tgt gtt tta tat ata tac acc cct ctg tgc gct ctc tct cta tac aca cag agc gca cat atg tgc gca cat att ttt tta tat atg tga gaa aaa aac aca cat ata taa aag agg ggg ggc gcg cgg ggt gtg tga gat att ttc tca caa aac act ctg tga gac act ctt ttc tca cat ata tag agc gcc ccc cct ctc tca cat att tta tat atg tgg ggc gct ctt tta tat atg tgg ggc gca caa aat att ttg tgc gca cac aca cat att ttt ttg tgg ggt gtg tgc gct ctc tcc cca cag aga gat atg tga gat atg tgc gcc cct ctc tct ctc tcg cgg ggt gtt tta tac act ctt ttc tca cat ata tac acc ccg cgt gtg tgc gct ctt ttg tgc gca caa aaa aag agg ggc gct ctg tga gag agt gtt tta tat atg tgc gct ctg tgt gtt ttc tct ctg tgc gca cac acg cgc gca cat atg tgg ggt gtt ttt ttg tgg gga gag aga gag aga gag agt gtg tgg ggt gtg tgc gca caa aat atg tgt gtc tct ctg tgt gtg tgg ggc gca cat ata taa aaa aaa aag aga gat atg tgt gtt ttg tgt gtt ttc tct cta tac aca caa aag agg ggc gct ctt tta taa aaa aaa aag agc gct ctt ttg tgt gtt ttg tgt gtt tta tac acg cgt gtg tgg ggg ggt gtg tgt gtg tgc gca caa aaa aac act ctg tgt gtt ttg tga gaa aag aga gat atc tct ctg tgc gcg cgt gtg tgt gtt ttc tcg cgc gca cat atg tga gac aca cat ata tat atg tgt gta tat atg tgc gcc cca cag agt gtg tgt gtg tgg ggt gtg tgg ggt gtg tga gaa aac acg cgt gtt tta tat atc tcg cgg ggc gca caa aaa aat ata tag agt gtc tcg cga gaa aac aca cac aca cac acc cca cac acc ccc ccc ccc cct ctg tgg ggt gtt ttg tgc gct ctg tgc gct ctc tct ctc tca cag agg ggc gca cac aca cac acc cca caa aaa aat atg tga gaa aaa aaa aaa aat att ttg tgg ggt gtg tga gac aca caa aac acc cct ctc tcc cca cac acg cgg ggc gcg cgc gcc cct ctg tga gat att ttt ttt ttg tgt gta tag agc gcg cgt gtt ttt tta taa aat atg tgt gtc tct ctt ttt ttc tca cag agg ggg ggc gca cat att ttg tga gaa aaa aac acg cgg ggc gct ctg tgt gtt ttg tgg ggc gcc cca cat att tta tat atg tgt gtt ttc tca cat atg tgc gct ctc tcg cgc gcc cct ctg tga gaa aag agg ggg ggt gtg tgg ggt gtc tct ctt tta tat att ttt ttt tta taa aaa aag agt gtt ttt ttg tga gac act ctc tct ctg tgg ggc gca cac acc ccg cgt gtt tta tag agc gca caa aag aga gac act ctt ttc tca cag aga gac act ctg tgg gga gaa aag agt gtg tgc gca caa aag agg ggt gtg tga gac aca cag aga gat atg tgt gta tac act ctt ttt ttt ttc tcc ccc ccc ccg cgg ggc gcc cca caa aaa aaa aaa aat ata tac aca cag agt gta tag agc gcg cga gat att ttg tgt gta taa aat atg tgt gtc tcg cgt gta tac acg cgg ggt gta tat att ttc tct ctt ttt ttg tgg gga gac acg cgg ggt gta taa aat att ttt ttc tca cag aga gaa aac aca cag aga gag agg ggt gtt ttg tga gat atc tcc ccc ccg cga gac acc cct cta tat atc tct ctg tgc gct ctt ttt ttc tct cta tat atg tgt gtt tta taa aag agg gga gat atg tgg ggt gta taa aaa aat ata tac act ctt ttt tta tac aca caa aag agt gtg tga gaa aac acc cca cac acc ccc ccg cgt gta taa aac aca cat ata tat att ttc tca cac acc cca cag agc gct cta tac aca caa aat att ttt ttt tta tag agc gct ctg tgg ggt gta tag agt gtg tgt gtc tct cta tac aca cac act cta taa aat ata tag agc gct ctg tgc gcc cct ctt ttg tgt gta tat atc tcg cgt gtc tct ctg tga gat atg tgg gga gac aca caa aac acc cct ctg tgg ggc gcg cgg ggt gtg tga gat atg tgc gct cta tat att tta tag agt gtt ttt ttg tga gag agt gtt ttt ttt tta taa aat ata taa aac acc cct ctt ttt ttt tta tag agg ggg ggt gtt ttt ttg tga gat att ttc tct cta tag agt gta taa aaa aac acc cca cag agt gtc tca cac act cta taa aag aga gaa aaa aat ata tac aca cac act ctt tta tac act ctc tcc cct ctt ttc tct ctt ttg tgc gcc cct cta taa aaa aag aga gaa aag aga gac acg cgg ggc gcg cga gat atg tgt gtg tgt gtt ttg tgt gtt ttg tgg ggc gct ctg tga gag agt gtt ttt ttg tga gac aca cac act ctt tta tat atg tga gac acc ccc cct cta tat att ttt tta tat ata taa aag aga gaa aat atg tgg ggt gtg tgc gcc cca cat atg tgt gta tat ata taa aaa aag agg ggc gca caa aaa aac acc cca caa aat att ttc tct ctt ttt ttg tgg ggg ggt gtt tta taa aac aca caa aaa aag agc gca cat atc tct ctt tta tat atg tga gat ata tac act cta taa aat atc tct ctt tta taa aat ata taa aag agt gtt ttc tca caa aat ata tag aga gag agc gct cta tag agt gtt ttt ttg tgc gcg cgt gtc tca caa aaa aat att ttt ttt ttt ttg tga gac acg cgt gta tag agc gcc ccc ccc ccc cca cat att ttg tga gaa aac act ctc tcg cga gaa aaa aaa aat ata taa aaa aat att ttc tca cac aca cac acc cct ctt ttt ttg tga gag agt gtg tgt gtg tgg ggc gcg cgt gtc tcc cca cac aca cac acc cca cag agt gtt ttg tga gaa aac acc cct ctt ttc tca caa aac act ctg tgt gta tag aga gat atg tgt gtg tgg ggt gta tag agc gca cac act ctt ttc tca caa aac aca cag agg gga gaa aaa aat atg tga gac aca caa aat att ttg tgt gtc tca caa aaa aat atg tgt gta taa aag agg ggg ggt gtt ttt tta taa aaa aat ata taa aaa aac acc cct ctt ttt ttc tcg cgt gtg tga gaa aag agg gga gac aca caa aat atg tgt gtc tca cag agt gtt ttt ttc tcg cgt gtt ttg tgt gtt ttg tga gat atg tga gac act ctc tca cag agg ggt gta tac act ctc tcc ccc ccg cgt gtt ttg tgt gtt ttg tga gag agt gta tat atc tct ctg tgt gtc tct cta taa aaa aag aga gaa aag aga gat atc tct cta tac aca cat ata tac aca cat att ttg tgt gta tat atg tgt gta tag aga gac acc ccc cct cta taa aag agt gta tat atc tca caa aag agt gtc tca cat att ttg tgt gtc tct ctt tta taa aaa aaa aag aga gac aca caa aat atg tgt gta tac act ctt ttt ttc tct ctt ttc tct cta tat atg tgc gct ctt tta tag aga gat att ttg tgc gca cac aca cac acc ccg cgt gtt ttg tga gag agt gtc tca cag agg ggt gtg tga gat ata tat att tta taa aac acg cgt gtt ttg tgt gtt ttg tgc gca cag agc gct ctt ttc tcc ccg cgg gga gat atc tct ctt ttt ttg tga gac aca cac acg cgt gta taa aaa aag agt gtg tga gaa aag agt gtt tta tac act cta tat att ttt tta tag agg ggg ggc gct ctt ttc tca cat att ttt ttt tta tat att ttt ttc tca caa aaa aag aga gaa aat att ttt ttg tgc gct cta tac act ctc tcg cgc gca cac act ctt ttt ttc tca cac act ctg tgc gct cta tac acc cca cac act ctg tgc gct ctg tgt gta tag agg ggt gta tag agt gtt ttg tgt gta tat ata taa aaa aag aga gag agt gtg tgt gta tag agt gtg tgc gcg cgg ggc gca cat atc tct cta tag agg ggt gtg tgt gtt tta tac act cta taa aaa aag agg ggc gca cat ata tat att ttg tga gac aca cag agg ggc gct ctg tgt gtt ttt ttt tta tag agg ggt gtt ttt ttg tgt gtc tca caa aag aga gat atg tgt gtt tta tat att ttt tta tat atg tgc gct ctt ttc tcc cca cac act cta tag agc gct ctt tta tac act ctt ttt tta tag agt gtg tga gat att ttc tca caa aaa aaa aac act ctc tcg cgg ggc gca cac acc cca cac aca cag aga gag agg ggt gtt tta taa aaa aag agt gtg tga gag agt gtg tgc gct ctt ttt ttg tga gaa aaa aaa aac aca cag agc gct ctg tgg ggc gcg cgt gtt ttg tgt gtg tga gac aca cag agg ggt gta taa aat atg tgt gtt ttg tgt gta taa aaa aaa aac aca cag agt gtg tgt gtt ttg tgc gca cac act ctg tgc gct ctg tgc gct ctg tgt gtt ttg tga gat att ttt tta taa aag agt gta tat atg tgg gga gat ata taa aag agt gtt ttg tgc gcg cgc gcc ccg cgt gtg tgt gtg tgg gga gat att ttg tgg gga gaa aaa aat atc tca caa aac acc ccc cct cta tac acg cgg ggt gtt ttg tgt gtt tta tac act ctt tta tat atg tgt gtt tta tat atg tgc gca cac aca caa aac act cta tat atg tgg ggt gta tat att ttg tgt gtt ttg tgt gtc tct ctt ttc tct ctg tgt gtg tgt gta tat atc tca cac act ctt ttg tgt gta tat atg tgt gtc tct ctt ttc tca caa aat atc tca cag agg ggt gtc tct ctt tta tat atc tca caa aag agt gtg tga gat atg tgt gtt tta tat atg tgt gtt ttt ttg tga gaa aag aga gat atg tgc gcc ccc cca caa aag agg ggt gtt ttt ttg tga gaa aaa aaa aaa aag agt gtt ttc tct cta tac aca caa aaa aag aga gaa aag agt gtt tta tag aga gag agc gct ctt tta tac acc cct cta tag agg gga gaa aat atc tct ctc tct ctt ttc tct ctg tgc gct ctt ttg tgt gtg tga gac acg cgg ggt gtc tct ctt ttg tgc gct ctt ttc tca cag agc gct ctt tta tat ata tag agg ggg ggc gcg cga gaa aat att ttc tca cat att ttt ttg tga gat atg tgt gta tac acc cct cta tac aca cat att ttc tct ctg tgc gcg cgc gca caa aaa aac acc ccg cgt gtt ttc tct ctg tgc gca caa aat atg tgt gtg tgt gta taa aat att ttg tgg ggt gtg tgc gct ctt ttg tga gat att tta tag agc gcc cca caa aag aga gac act ctc tcc cca cat ata taa aac act ctc tca cac act cta tac acc ccc cca cag agc gct ctc tct ctt tta taa aag aga gat atg tgg ggt gtt ttc tca caa aaa aac aca cac aca cat atc tct ctt tta tag agc gcc cca cac act cta tat atg tgt gtt ttc tct ctt tta taa aac aca cat ata tag aga gat att ttg tgg ggt gtt ttg tgt gtg tgg ggt gtt ttt ttg tgc gca cat att ttt ttg tga gag aga gac act ctg tgg ggt gtt ttt ttg tgg ggc gca cat ata tac aca cat atg tgc gct ctc tct cta tat ata tac acc cct ctc tcg cgg ggc gcc cct ctt ttc tca caa aac act ctg tgg ggt gtt ttg tgt gtt ttg tgt gtt ttg tgg ggc gca cag agg ggt gta tac aca cat att ttg tgc gca cat att tta tat att ttt ttc tct ctt ttt ttg tgc gca cac aca cag aga gac act ctt ttc tcc cca cat ata tat att ttt ttg tgt gta tag aga gac act ctg tgg ggc gcg cgg ggt gtc tca cat ata tac aca caa aat att tta tat atg tgc gct ctg tgt gtg tgt gtc tct cta tag agt gtg tgc gcc cct ctt ttc tct ctg tgg ggt gtt tta tat att ttc tca cac acc ccc cca cac aca cat att ttc tcc cca caa aat atg tgg ggc gcg cgg ggg ggt gtt ttt ttg tgg ggt gta tac acg cga gaa aat atg tgt gta tat ata taa aat att ttt ttg tgt gtt tta tag agc gca cat atg tgc gcc cct ctt ttt ttg tgg ggc gct ctt ttt ttt tta tac acg cgc gca caa aag agt gtt ttt ttt tta tat atc tca cag agc gca cat atg tgt gta taa aat atc tca caa aat atg tgg ggt gtt ttg tgc gca caa aaa aag aga gat ata tac acg cgg ggc gca cat atg tgc gct ctt ttg tgc gct ctc tct ctg tgc gct cta tat ata taa aag aga gag agg gga gaa aac acc ccg cga gac act ctt tta tac act cta tag aga gag agt gtt ttg tga gaa aag agc gct ctt ttc tct cta tac acc ccg cgt gtt ttg tgt gtc tct ctg tgt gtg tgg ggt gtg tgg gga gaa aaa aaa aac acg cgt gta tac acg cgt gtt ttt ttt tta tat ata tat atc tca cac aca cag agc gca caa aaa aat atg tgg ggc gcg cgg ggt gta tat att ttt ttc tca cat att ttc tct ctg tgt gtc tcg cgt gta tag agg ggc gca cat ata taa aat att ttg tgg gga gaa aat att ttg tgt gtg tgt gtg tgg gga gat att ttg tgt gtg tga gat ata tat att ttg tgc gca cag agg ggt gtg tgt gtg tgg ggg ggg gga gaa aat ata tac acc cct ctt ttc tca cat atc tct ctg tgt gtg tga gaa aag aga gaa aag agt gtc tcg cgc gca caa aaa aat atg tga gac acc cct ctc tca cac act cta tac acc ccg cgc gcc ccc cct cta tac acg cgc gca cag agg ggc gcc cct cta tat att tta taa aac acg cgc gct cta tac acg cgg gga gat ata tag aga gat atc tca cac aca cat att tta tat att tta tat atg tgt gtg tgg gga gat att ttc tcc ccg cgt gtt tta tac aca cag agt gtt tta taa aaa aag aga gag aga gac act ctg tgt gtt ttg tgt gtt ttc tca cag agt gtt ttt tta taa aat att tta tat atc tcg cgt gta tag aga gag aga gac acg cgg ggt gtc tca caa aac acc cca cat att ttc tct cta tac acg cga gag agc gcg cgg ggt gtt ttt ttc tcc ccc ccc cct ctc tct ctg tgc gcg cgc gct ctt ttt ttt tta tac aca caa aaa aat atc tct cta tag aga gat ata taa aag agt gtt ttg tga gaa aag agt gtt ttc tca caa aaa aag aga gag agg ggt gtc tct ctg tgt gta taa aaa aaa aac act cta tac act cta tac act ctg tgg ggt gta tat ata tac acc cct ctg tga gaa aat ata tac aca caa aac act ctt ttt tta tat atc tca cat atc tct cta tac acg cga gac act ctc tca cat atc tca cag aga gat atc tcg cgt gtg tgg ggc gcc cca cag agg gga gaa aaa aag agt gtt ttt tta tag agc gct cta tag agg ggt gtc tct ctg tgc gca cat atg tgt gtg tgt gtt ttt tta tat att tta tat att ttc tct ctc tca caa aag agt gtc tct ctt ttg tgt gtg tgt gta taa aaa aat atc tca caa aat att ttc tct ctt ttt ttt ttg tgg ggt gtt ttg tga gac act ctc tca caa aag agt gtt ttt ttg tgg ggt gtt tta tac act ctt ttc tct ctg tgt gtt ttg tgg ggt gtg tga gat att ttc tct cta tag agt gtg tga gaa aaa aat atc tcg cgc gcc cca cac act cta taa aaa aaa aat atg tgt gtt ttt ttg tga gac act ctc tcc cct ctt ttt ttg tgt gtt tta taa aat ata tag agt gtt ttt ttc tcg cgt gtc tct ctc tcg cgc gct ctg tgt gta tat ata taa aat atg tgt gtc tca cac aca cac acg cgc gcg cga gat ata taa aag agt gtt ttg tgg gga gaa aaa aaa aaa aac act ctt tta tat atc tct ctc tct cta tac act ctg tgc gct ctc tcg cgt gtg tga gat atg tgg ggc gcg cgt gta taa aag agg ggc gcg cga gag agg ggc gcg cga gat ata taa aac act ctt ttc tcc cca cat ata tag agt gtg tgt gtc tct ctt tta taa aac aca caa aac aca cat att ttc tca cat att ttg tga gac acg cgc gca cag agc gca cac acg cga gag agg ggc gcc ccc ccc ccg cgc gca cag agg ggt gtg tgt gtg tgg gga gag agt gtc tct ctg tga gat atg tgt gtt ttg tga gag aga gac acc cca caa aat atg tga gaa aaa aat att ttg tgt gtt ttg tga gac act ctc tct ctg tgt gtg tgc gca cag agt gta tat atg tgc gct ctc tca cat ata taa aaa aac aca cat atg tga gac aca cat ata tac aca caa aaa aat att tta tac act cta taa aat atg tga gag aga gag agt gtt tta tac aca caa aat ata taa aat att tta tat atg tgt gta tac acc ccc cct ctc tca cat ata tat atg tgt gtt tta taa aaa aac acc cct ctg tga gat ata tag agt gtg tgt gtg tgt gtc tct cta tac acc cca cag agt gtg tga gat att ttt tta tag agg ggt gta tag agt gtc tct ctc tca cat att ttg tga gat att ttg tgt gta taa aat atg tgc gcg cgg ggc gct ctt ttc tca cag agt gtt tta taa aac acc cca caa aaa aat att ttg tgt gtc tct ctt ttg tgc gcg cgt gta taa aat att ttc tct cta taa aat atg tgg ggt gtg tgc gct ctt ttg tgt gta tat att ttt ttg tgg gga gaa aac acg cgc gct ctg tgc gct ctg tgc gca cat ata tat ata tat atg tga gaa aaa aac act ctc tct ctc tcg cgg gga gat atg tgc gca cac act ctt tta taa aaa aac acg cga gac aca cag aga gat att ttc tcg cgc gca cat att ttg tgc gca cat atg tgc gcc ccg cgt gta taa aag agt gtg tgt gta taa aat att ttt tta tag agc gct ctt ttt ttc tcc ccg cgg ggt gtt tta taa aac acc cca cac acc cct ctc tca caa aaa aag agc gct cta tac acg cgc gcg cgc gct cta taa aat atg tga gat ata taa aat ata tat atc tct ctt tta tat atc tca cag agt gtt tta tag aga gat att ttc tca cac act ctg tgc gct cta taa aac aca caa aaa aaa aat att ttg tgt gtt ttg tgg ggt gtg tgg ggt gtg tgc gct ctc tcc cct cta tac aca cat atg tgg ggt gtt ttt tta taa aat atg tgt gtg tgt gtt ttg tgc gcg cgt gtg tga gac act ctt ttt tta tac acg cgt gtt tta taa aaa aag agg ggg ggt gtt tta tac acg cgt gtt ttc tct ctt ttg tgc gct cta tac acc cca cat att tta tat att ttg tgt gtg tgt gtt ttt ttc tct ctg tgt gtg tgt gtg tgc gct ctg tgt gta tac act ctg tga gat atg tgt gta tat att ttt ttg tgt gtg tgt gtt ttt tta tac acc cct cta tac aca cat att ttt ttt ttc tct cta tat atg tgg ggt gta tac acc cct ctg tgt gtt ttg tga gaa aat att ttt ttt tta tat atg tga gaa aag aga gac acc ccg cgc gca cat atc tct ctt ttg tgg gga gac act ctt ttt tta taa aaa aag agt gtt ttc tct ctt ttg tga gat ata taa aat atg tgg ggt gta tat atc tca cat att tta tag agg ggg gga gat atg tgt gta taa aaa aat atc tcc cct ctg tga gat atg tga gat ata taa aag agt gtg tgc gct ctt ttt ttg tgc gct cta taa aat ata taa aag agc gca cac acc ccg cgg ggt gtc tcc cct ctt ttc tca cac aca cac aca caa aat atg tgg ggt gta tat atc tca cat atg tga gag agc gca cat atg tgt gtt ttg tgg ggt gtg tgg ggt gtg tgt gtc tct cta tat atg tga gac aca caa aac act ctc tct cta tat atc tca cac aca cat atg tgc gcc ccc cca cat att ttg tga gac aca cag agt gtt ttg tgc gca cag agt gta taa aat att ttg tgc gct ctg tgg gga gag agt gtt ttg tgc gct ctg tgg ggt gtg tgc gct ctc tcg cgc gca cat att ttc tcc cca cag aga gac acg cgt gta tac acc cct cta tac act cta tac aca cat att ttg tgg ggc gct ctt ttg tgg ggg ggt gtg tga gaa aac aca caa aat atc tca cag aga gat ata taa aat att ttt ttt ttc tct ctt ttt ttg tgt gtt ttt ttc tct ctc tcg cga gag agt gtc tct ctt ttt ttg tgc gct cta taa aat ata tac aca cag agg ggc gca cag agt gtg tgt gtt ttt ttg tgc gct cta tac aca cac act ctc tcc cct cta tat ata tag aga gat atg tga gag aga gat ata tac acc ccc cct cta tat ata taa aag aga gag agt gtt ttt ttc tct ctc tct ctg tga gat ata tag agt gtg tgg ggt gtt ttg tgc gca cat att ttc tct ctt ttc tcc cca cat atc tct ctg tga gag agt gtg tgc gca cac act cta tat atg tgt gtt ttt tta tag agg ggg gga gat atg tgc gca cag aga gag agg ggg ggc gcc ccg cgt gta tat atg tga gac aca cac acc cca cat ata tac act ctg tgc gcc cca cat atg tga gat atc tcc cct cta tac act ctg tgt gtt ttt ttt ttg tgc gcc cct ctg tgg ggg ggg ggc gct ctt ttt ttt ttg tgc gcg cgt gta tac aca cag agt gtc tca cag aga gat atg tga gag agg ggc gcc cct ctc tca cat atg tgt gtt ttc tcg cgt gtt tta tac acg cga gac act ctt ttg tgt gta tat atg tga gat atg tgg ggt gta taa aac aca cat atg tgt gtt ttt tta tat att tta taa aaa aat att ttt ttc tcc cct ctg tga gaa aag agt gta tag agt gta tat att ttt ttg tga gaa aaa aag agt gta tac aca cac act ctt tta tag agg gga gat att tta tac act cta tag aga gaa aac act ctc tct ctg tgt gtc tca caa aac act ctc tca cag agt gta tac act ctg tgc gcc ccg cgg ggt gtt ttc tcg cgg ggt gta tag agt gtt ttg tgt gtg tga gag agt gta tat atg tgc gca cac aca caa aag aga gag agg ggg ggt gtg tgt gtt ttt ttg tgt gta tat att tta tac acc cca cac aca caa aaa aat atg tgg ggc gct ctc tcg cgt gtg tgg ggg ggc gcc cca cat att ttt ttt ttt tta taa aat atg tga gat atc tca cac acc cca cat atc tct ctt tta taa aat ata tag aga gac acc cct ctg tgg ggt gtg tgt gtc tct cta tat att ttg tgt gtg tgg ggc gct ctc tct ctg tga gat att ttt ttt tta tat att ttg tga gac aca cat att ttg tgt gtc tca cag agg ggc gcg cgg ggt gtt tta tag agc gca cag agt gta tat atc tca cac act ctg tgt gtt ttc tcc cca cag agc gcc cct cta tat att tta tac act ctt tta tat att ttt ttc tcc cca caa aat att ttg tga gac act cta tac acc cct ctc tca cat att ttg tgg ggt gtc tct ctt ttg tgg ggg ggt gta tat ata tag agg ggt gtt ttt ttg tgt gtg tgt gtg tgc gca cat att ttc tcc cct ctg tga gac act ctt ttt ttg tgc gct ctc tct ctt ttc tct cta tat att tta tat ata tat att tta taa aat ata taa aaa aag agt gta taa aaa aaa aac acg cgt gtg tgc gct ctt ttt ttt ttg tgc gca cag aga gat att tta tac aca cac acc ccc cca cag agt gtg tgt gtg tgc gct ctg tgt gta taa aat att ttg tgc gct ctg tgt gtt ttg tgt gtt ttg tgc gct ctg tgc gct ctg tgt gtt ttc tct ctt tta taa aat ata tag agc gct ctt ttg tgt gtg tgc gca cat atc tct ctg tgc gct ctt ttt ttg tgt gtt ttg tgc gcc cct ctc tct cta tat ata tac acc cca cat att ttg tgt gtg tgt gta tat ata tag agt gta tac acc cct ctt tta tac aca cac act ctg tgc gca cat att ttg tgt gta tac act cta tat att tta tat atg tgc gct cta tac aca cat att ttc tct cta tat att ttt ttt tta tac act cta taa aat atg tga gag agc gcc cct ctg tgc gca cat att ttt tta tat att tta tat atg tgc gca cat atg tgt gtt ttt ttc tct ctt ttg tgg ggt gta tac aca cat att tta tat atg tgt gtt ttc tcg cgg ggg ggc gcc cct cta tat atc tcg cgt gtt ttc tcc ccc cca cat ata tat atg tgg gga gat atg tga gac acc cct ctg tgc gcg cgt gtc tct cta tat ata tac aca cag agt gtt ttg tgc gca caa aat atg tgt gtg tgc gct ctt ttt tta tag aga gac aca cac act ctt ttc tct ctt ttc tct ctg tgg ggg ggt gtt ttt ttt tta tag agc gct ctt tta tat att ttt ttt tta tag agt gta taa aag aga gaa aaa aac aca cat atg tgt gta tag aga gaa aag agt gtt ttt ttt ttt tta tac act ctg tga gac acg cgg ggt gta taa aag agc gct ctt tta taa aat att ttg tgt gta tag agt gtt ttt ttc tcc cca cag agg gga gac acg cgc gct ctg tgc gcc cct ctc tct cta taa aat ata tat atc tct ctt ttt ttg tgt gtt tta tat att tta taa aac aca caa aag agg gga gac aca cac act ctt tta tat atg tgc gca cag agc gct ctc tct ctt tta tag aga gaa aaa aac act ctc tct ctt ttt tta taa aac act cta taa aat atg tga gat atg tgc gcc cct cta tat att ttc tca cac acg cga gat att ttt ttt ttt ttg tgg ggg ggg ggt gtt ttg tgt gtt ttt tta taa aac aca caa aag agt gta tat ata taa aag agt gta tac act ctt ttc tct ctc tct ctg tgg ggt gtg tgc gct cta tat atg tgg gga gaa aaa aac aca cag agc gcc ccg cgc gct ctt tta tat atc tcg cgt gtg tga gaa aag agc gct ctg tgc gca cag agc gca cat atg tgt gtc tca cat atc tct ctt ttg tgc gct cta taa aaa aag agc gcc cct ctt tta tac aca caa aaa aac aca cat ata tac aca cag agc gcg cga gag aga gac act ctg tgg ggt gta tag agt gtg tga gat atc tct ctt ttc tct ctt ttt tta tac acc cca caa aac acc cca cac acc ccc cca caa aac act ctg tgt gta tag agc gca cat ata taa aac acc cct ctc tct ctg tgg ggc gcg cgt gtg tgt gtt ttg tgc gca caa aaa aag agc gcg cgg ggt gtt ttt ttg tgg ggt gtg tga gaa aaa aaa aat atg tgt gtc tca cac aca cat atc tcc ccc cca cag agt gtg tgg gga gag aga gat atg tgt gtt ttg tga gag agg ggc gct ctt ttg tgt gta tat atg tgg ggt gtt ttc tca cag agg ggt gtt tta tac acc cct ctg tgc gcg cgg ggt gta tag agc gca cat atg tga gac act ctc tct ctt tta taa aat atg tgg ggt gtc tct ctt ttt ttg tgg ggc gct ctt ttg tga gac aca caa aac aca cac aca cag agt gtc tct ctg tgg ggt gtg tgc gcc ccc cca cac acg cga gac aca cac acg cgt gta taa aat atg tgt gtg tgc gcc ccc ccg cgg ggc gct ctg tga gac acc cca cag agt gtt ttg tgt gtc tct ctg tga gat atc tcc cct cta taa aat att tta tat atg tga gat atg tgc gcc cct ctt ttg tgt gtt ttg tga gat att ttt ttc tct cta tat atg tga gac act cta taa aat atc tca cat ata tag agt gtt ttt ttc tca cag agt gtg tgt gtg tgc gca caa aaa aaa aaa aac aca cac aca cat att ttg tgg ggc gcg cgc gct ctc tcc cca cag agc gca caa aaa aac act ctt ttg tgc gcg cgt gtg tgt gtt ttg tgt gtt ttg tgg ggt gtc tca cat atg tgc gcc cca cat atg tgc gca caa aag agg ggc gca cac act ctc tct ctt ttt ttt ttg tga gaa aag agt gtt ttg tga gac act ctg tgt gtc tcg cga gat atg tgt gtt ttg tgc gct cta taa aac acc ccc cct cta tag agc gca cac act ctc tcc cca cag agc gcc cct cta tac aca cac act ctt ttt ttt tta tac aca caa aac aca cag agt gtg tga gaa aaa aac acc cct ctg tgg ggc gcg cgc gca cag agc gca cat att ttt tta tag agt gtg tgt gtg tgt gtt tta tag agc gca cat atg tgc gct cta tat ata taa aat atg tgg ggt gtc tcg cgt gtc tcc ccg cga gac act ctg tgg ggt gta tac aca cat att ttc tca cac act ctg tgt gtt ttg tgt gta taa aat atg tgc gcg cgc gcc ccc cct cta taa aac act cta tac aca cac aca caa aat att tta taa aag agg ggg ggt gtt ttc tcc cct ctt ttt ttc tct ctg tgt gtg tgt gtg tgg ggt gtt ttc tct ctt ttg tgt gtg tgg ggt gta tag agt gtg tgt gtt ttg tgg ggt gtt tta tac aca cac acc cca caa aag agg gga gag agg ggg ggt gta tag agt gtg tgt gtg tga gat atc tca caa aat att ttt ttt ttt ttg tgt gtt tta tac aca cat atg tgc gca cat atc tca caa aaa aat atg tgg gga gaa aac act ctt ttg tgc gct cta taa aat atg tgg ggt gta tac aca cac aca cat ata tac acc ccg cgg ggt gtt ttc tca cag agc gca cat att ttt ttg tga gat atg tgg ggt gta tac act cta tat atg tgt gta tat atg tgg ggt gtg tgc gcc cct ctt ttt tta tat atg tgg gga gat ata taa aaa aac aca caa aag agt gtg tgc gca cac acc cca caa aag agt gtt ttc tca cag agt gtt tta taa aac aca cag aga gac aca caa aaa aat ata tac act ctg tgc gca cag agt gtg tgt gtt tta taa aat atg tgt gta tag agt gta tag agc gct ctt ttg tgg ggc gct ctt ttt tta tac acg cgc gca cag agc gca caa aat ata tac act ctt tta taa aat atg tgg ggt gtt ttg tgc gcg cgc gct ctt ttg tgg ggt gtt ttt ttg tgt gta taa aaa aaa aac acc cct cta taa aat atc tcg cgc gca cac act cta tag agt gtg tgt gtt ttg tgt gtt ttt ttc tct ctt ttt ttt tta taa aat atg tga gaa aat atg tgg ggg ggc gct ctc tct ctt ttg tgc gcc cca caa aac acc cca caa aat att ttc tca cac act ctg tga gaa aat att ttt ttg tgt gtt ttg tgg ggc gca cac act ctc tca caa aat atc tcc ccg cgt gtt ttg tga gac aca cat atg tgt gtt tta tag agc gct ctg tgt gtc tca caa aaa aaa aac aca cag agg ggc gcg cgt gtt ttg tgc gct cta tat att ttg tga gaa aac aca cag agc gct ctg tgc gct ctt ttt tta tat atg tgc gcg cga gat atc tcc cca caa aac aca caa aac act ctt ttt tta tat ata tac act ctg tgg ggg ggt gtt ttc tcc cca cag agg ggg gga gaa aaa aag agc gca caa aaa aat atc tcc cct ctt ttg tgg ggc gca cag agt gta tac act cta tat atg tgt gtt ttg tgg gga gaa aag aga gat atg tga gaa aat att ttc tca cac aca cac acc cct ctg tga gag agg gga gat atg tgt gtt tta taa aat ata tat atg tgc gca cag aga gat att tta tat atg tgg ggg ggt gtg tgt gtg tgg ggt gtt tta tat atg tgc gca cag aga gag agt gtg tgg ggt gtg tgt gtg tga gag aga gaa aaa aaa aag agt gtt tta tac aca cat ata tat atg tgg ggt gta tac act ctg tgc gcg cgc gca cat att ttg tgg ggt gtt ttg tgt gtt ttc tcg cgc gcg cga gac acc ccc cct ctt ttg tgt gtc tct ctc tca caa aac acc cct cta tat atg tgt gtg tga gat ata taa aat atc tct ctt tta tac aca caa aag agc gcc cca cac act cta taa aaa aat att ttt tta tac act ctt ttt ttg tgt gtg tgg gga gaa aac act cta tac act ctt ttg tgt gtt ttt ttg tga gag aga gac act cta tat att ttc tcc ccc cca cac aca cac aca cag agt gtt ttg tgt gtt ttc tcc ccc cca cac act ctc tct ctt tta tat att ttt ttg tgt gtg tga gac act cta tat atg tgg ggc gcc cct ctt ttc tcg cgt gtt tta tat atg tgt gtt ttg tgt gtt ttg tgg ggt gtt tta taa aaa aac aca cac aca caa aaa aac aca cac aca cac acc cct ctt ttt ttt ttt ttg tga gac aca cac act ctt ttt ttt ttc tct ctt ttg tgt gtt ttg tgc gcc cct ctg tgt gtg tgg ggc gct cta tat att ttt ttg tgt gtt ttt ttg tga gac act ctt tta tat atg tgc gca caa aaa aac aca cat ata tag agt gtc tct cta tac acg cga gag agc gcc ccc cca cac act cta tac act ctc tcc ccc cca cat att ttt ttc tcg cgt gtc tca cag agc gcg cgc gct ctg tga gat att ttg tgc gca cag agt gtt ttg tgc gca caa aaa aat att ttg tgg ggc gct ctt ttg tgc gcc ccc ccc cct cta tac act cta taa aat atg tgc gct ctt tta tat ata tat atg tgc gcg cgc gca cac act cta tac aca cac aca cat ata tac act ctg tga gat ata tat att ttg tgg ggt gtg tgt gtc tct cta tac aca cat att tta tag agt gta tat atg tgt gtc tca cac act ctt ttg tgt gta tat att tta tag agt gtc tca cat att ttg tgt gta tag agt gtg tga gaa aag aga gag aga gat att ttg tgt gta tac aca caa aac acc ccc cca cat atc tca cac act ctt ttt ttc tct cta taa aac act ctt ttt ttg tgc gcg cgt gtt tta tag agc gca cat att ttg tgt gtg tgc gca cag agt gtg tgg ggt gtg tgt gta taa aat atg tgt gtg tgg ggt gtt ttg tgt gta tac aca cac act ctt tta tat ata tag agc gca cat att ttg tgg gga gag aga gaa aag agc gcc cct ctc tca caa aag agc gcc ccc ccc cca cat att ttg tgc gcc cct cta tat atc tct ctg tgg ggt gtt ttt ttt ttt ttg tgt gtc tca cac act cta tac aca cac act ctc tca cac act cta tag agt gtg tga gat att tta tat ata tac acg cga gat att tta tac aca cag agt gtc tct ctt ttt ttg tgt gtt tta tac act ctg tgt gtc tca caa aac acc cct ctt ttg tgc gca caa aaa aaa aag agt gtt ttt ttg tgc gca cac act ctt tta tat atg tgc gcc cca cat atc tct ctt ttt ttg tgc gct ctt tta tac act ctc tca cac acc cca cac aca cag agc gct ctt tta tac aca cac act ctt ttg tgt gtg tgt gtt ttt ttc tcc ccg cgg gga gaa aag agt gtg tga gaa aag aga gat atg tga gat ata tac act ctt ttt ttt tta tat att tta tat ata tac aca cac aca cat atg tgt gtt ttt tta tag agg ggt gtt ttt ttc tca cat atg tgt gtg tgt gta tac act ctt ttg tgc gct cta tat att ttt ttt ttg tgg ggt gtg tgt gtc tct ctt ttc tct ctc tct ctc tct ctt ttt ttt ttg tga gaa aac acc cct ctt tta taa aag agc gct ctt tta tag aga gag agc gca cac acc cct cta tat atg tgg ggg ggt gtg tgt gtc tct cta tat atg tga gac act ctt ttt tta taa aag agg ggt gtc tct ctc tca caa aac aca cac aca caa aag aga gag agt gtt ttc tca cag aga gat att ttc tca cat atg tga gac act ctg tgc gct cta taa aac aca caa aat atc tct cta taa aac act ctg tgc gca cac acc cct cta tag aga gaa aaa aat att ttc tct ctt ttg tgg ggg gga gag agg ggc gct cta tat atg tgg ggc gct ctc tct ctg tga gaa aac act ctt ttt tta taa aag agt gtt tta taa aat ata tag agg ggt gta tat att ttg tgg ggc gcg cgg ggt gta tac aca cac acc cct ctt ttg tgt gta tat ata taa aaa aag agg ggt gtt ttg tgc gct ctg tgc gct cta tat atg tgc gca cag agt gtc tct cta taa aaa aac act ctt tta tac aca cag aga gat atc tct ctt tta taa aaa aat atg tgc gca cac aca cat atc tct ctg tgt gtg tgg ggt gtt ttc tct ctc tcc cct ctc tct ctc tct ctg tgt gtg tgc gct ctc tcc cca caa aac aca cag agt gtt tta tac aca cac act ctt tta tag aga gag agg ggc gct cta taa aat ata tag agt gta tag agg ggg ggc gcc cct ctg tgg ggg ggc gct ctt ttt ttc tct ctg tgt gtg tgt gtt tta taa aaa aat atg tgc gcc cca cat ata taa aat atg tga gat ata tat ata tat att ttg tgg ggc gca cag agc gca caa aac aca cag aga gac acc ccc ccc cca cag agt gtg tga gag agg ggc gct ctt ttt ttc tcg cga gag aga gaa aaa aat att ttc tcg cgt gta taa aag agt gtc tct ctc tct ctt ttt ttg tgc gcc cca cac act ctt ttt tta taa aat atg tga gac act ctt ttt ttt ttt ttc tct ctg tgg ggt gta taa aat atg tgt gta tag aga gat atc tct ctt ttg tga gat atg tgc gcg cgt gtt tta tag agc gct cta tag agt gtg tga gat ata tat att ttt ttt ttt ttg tga gac aca cac act ctc tcc cct cta tag agc gcg cgt gta tac act ctt ttc tca caa aag agc gct cta tac act ctc tct ctt ttt ttc tct ctg tga gag agt gtt ttt ttt ttc tca cac aca cac act ctt tta tag agc gct cta tac acc cct ctt ttt ttg tgc gct ctg tga gag agt gtt ttg tgg gga gaa aag agc gct ctg tgc gcg cgc gca cag aga gaa aaa aag agc gcc cct cta tat atc tca cag agg gga gaa aag agc gct cta tat atg tgg gga gac act ctc tct ctg tgg ggt gtg tga gac aca cac acc cct ctc tca cac acc cca cac aca caa aag agt gtt ttc tct ctt tta taa aag agg ggc gct ctt ttt ttg tgc gca cag aga gaa aag agg ggc gct ctg tgt gtt tta taa aat ata tat ata tag agc gct cta taa aaa aaa aaa aac acg cgc gcc cct cta tat atg tga gag aga gaa aag agg gga gat ata taa aag agg ggc gca cag agt gtg tgg ggc gcc ccc ccg cgt gta taa aag agt gtt tta tag aga gaa aac acg cgt gta tat atg tgg ggc gct ctg tga gat atc tca cag agg ggc gct cta tat atg tga gac act ctt ttc tct cta tat atg tgt gta tat ata taa aag agc gca caa aag agc gca cac acg cgt gtg tgc gct ctg tga gaa aag aga gac aca caa aag aga gaa aaa aag agc gca caa aaa aaa aaa aat att ttg tgt gtc tca cag agt gtg tgc gct cta tat atg tgc gca caa aaa aac act cta tat atg tgt gtt ttg tgt gtt ttt ttg tgg ggt gta tat atg tga gat att tta taa aag aga gaa aag agc gct ctc tcg cga gac aca caa aac acg cga gat atg tgt gtt ttc tct ctt tta taa aat atg tgg ggt gta tat atc tca cat att ttt ttc tct cta taa aac acg cgc gct cta tag agg gga gaa aat atg tgg ggt gtt ttg tgt gta tat ata tac acc cct ctc tct ctt tta tag agt gtg tgt gtc tca cat att ttc tcc cca cac act ctg tgt gtg tgt gtg tgc gct ctt ttc tca caa aaa aat ata taa aaa aac act ctt ttc tcg cgc gcg cgt gtt ttg tgt gta taa aat att ttc tcc cct ctg tga gac act ctt ttc tca cac acc ccg cgt gtc tct ctg tgg gga gaa aat atc tca cag agg ggt gta tag agt gtc tca cac aca cat ata tat atc tcc ccc cct ctc tcg cgc gct ctt tta taa aac act cta tac acg cgc gct ctg tgg ggg ggg ggc gct ctt ttt ttg tgt gtg tgg ggg gga gac aca cat att tta tac aca cag agt gtt tta tat ata taa aaa aac aca caa aat atg tgt gtg tgg gga gac aca caa aat atg tga gaa aaa aat att ttg tgt gtt tta taa aag agt gtc tct ctt ttc tca cag aga gat atg tgt gtt ttg tgt gta tag aga gac aca cag agc gca caa aat atg tga gaa aaa aaa aat att ttt tta taa aac aca cat atg tgg ggc gcc cca cac act ctt ttg tgt gtt ttt ttt tta tag aga gaa aat atg tgc gca cac act cta tag agg ggg ggc gca cat atc tcc cca cac act ctt ttc tct ctg tgc gcc ccg cgt gtt tta taa aag agt gtt ttg tgc gca caa aaa aaa aat ata taa aat atg tga gag aga gat atc tca caa aaa aac acc cct ctt ttc tca cag agg ggt gtt ttt tta taa aaa aaa aaa aac acc cca cat atg tgg ggt gtt ttg tgt gtg tgt gtc tct ctg tgc gca cag agg ggt gtc tca caa aag aga gag agc gca caa aaa aac act cta taa aac act ctg tgt gta taa aat ata tac act cta tag agt gtt ttc tcc cct ctt tta tag agc gct ctt tta tat att tta tac acg cga gaa aac acc cct ctg tgt gtg tgc gca cag agg ggg ggt gtc tcg cgt gta taa aaa aaa aat atg tgc gct ctg tga gat atg tgg ggc gct ctc tct ctt ttc tct ctt ttt ttc tct ctg tga gat ata taa aat atg tgc gcc cct cta tat atc tct ctc tca caa aaa aat atg tgg ggg ggc gcg cgc gcg cgt gtg tgt gtt ttg tga gaa aag agg ggt gta taa aag agg gga gac acg cgg gga gat att ttt ttg tgt gtt tta tag agt gtg tgt gta tag aga gag agc gct cta tac aca caa aac acc cct ctc tcc cct ctt ttg tgc gca caa aaa aat att ttc tct ctt ttg tga gat att ttg tgc gcg cgg ggg gga gac acc cca caa aaa aaa aag agg gga gac acc cct ctg tga gaa aaa aat atc tcc ccg cga gat ata tat atc tct ctc tct cta tat att ttt ttt ttg tgt gtt tta taa aaa aaa aaa aat atc tct ctt tta taa aac aca caa aac acc cct ctt ttc tca cat atc tcg cgc gcg cgg ggg ggc gca caa aag agt gtg tgt gtt tta tag agg ggg ggc gca cac aca cat att ttg tgc gct ctg tgc gcg cga gac act ctg tgt gtt tta tag aga gat att ttg tgc gca caa aag agc gct ctg tgg ggt gtt ttc tct cta taa aac aca cac acc ccg cga gag agt gtt ttt ttg tgc gcc cct ctc tct cta taa aat att ttc tct ctt ttc tcg cgg ggt gtg tgt gtt ttg tgt gtc tca cac act ctt ttg tgt gtt tta taa aac act ctt ttc tca cac acc ccg cgt gtt ttg tga gat atc tcc cct ctc tca caa aaa aaa aaa aag agc gct ctt tta tat atc tct ctc tcg cga gat att ttt ttc tcg cgt gtc tca caa aat atg tgc gcg cgg ggg gga gag agg ggt gtg tgc gcc ccc ccc cca cat att ttg tga gac aca caa aaa aat att ttg tgt gtg tgt gtt tta taa aag aga gat atg tgc gct ctt tta tac act ctc tcc cct cta taa aaa aaa aac act ctg tgg ggt gta tac aca cag agg ggt gta tat ata tag agc gct cta tat ata tat atc tct ctg tgt gtt tta taa aaa aac acc cca cag aga gag aga gag agt gta tac aca cag agc gct ctg tga gat atc tca caa aag aga gag aga gac act ctt tta tat atg tgg ggt gtg tgg gga gag agc gct ctt ttc tca cag agt gtg tgt gtg tgt gtc tct ctc tct cta tat att ttg tgc gcc ccg cgt gtg tgc gcg cgc gca cat ata tat ata tag aga gaa aac aca cat atc tcc cct ctg tga gat atg tgt gtc tct ctc tct ctg tgg ggt gtg tgt gtt ttt ttg tgt gta taa aaa aat ata tat ata taa aag agg ggg ggt gta taa aag agt gtt ttt ttg tgt gtc tcc cca caa aaa aat atc tcc ccc cct ctg tgc gct ctc tca cag agt gtg tgt gtg tgt gtc tcc ccg cgt gtg tga gac acc ccc cct ctg tgt gtg tgg ggg gga gat att ttt ttt ttg tgt gtt ttt ttg tgt gtc tca caa aaa aat ata tac acc ccc ccc ccc cct ctg tgt gta taa aat atg tgt gtc tct ctg tgt gtc tca caa aat ata tat att ttg tgg gga gat att ttg tgg gga gat ata tat atg tgg ggg ggt gtg tgc gca caa aat att ttg tgt gtg tga gac act ctc tcg cgc gct ctt tta tag agg ggc gca caa aag agt gta tag agc gca cac act ctg tgc gcc ccc ccc cca caa aat atc tct cta taa aaa aag aga gat att ttc tcc cca caa aat att ttt ttt ttt ttt tta taa aaa aac acg cga gag agt gtc tcc ccg cgg ggg ggg ggt gtt ttc tct cta tat att ttg tgt gta taa aaa aat atg tgc gcc ccc ccg cga gaa aat ata tag aga gaa aac acc ccc cct ctg tgt gtt ttc tca caa aag agt gtg tgg ggt gtt ttt ttg tgt gtc tcc cca cac act ctg tga gat atg tgt gtc tcg cgt gtc tct ctt ttt tta tag agg ggg ggc gca cat att ttt ttg tga gac aca cat atc tct ctg tgc gca caa aac act cta tat ata taa aag agg ggc gct cta taa aag agg ggt gtt ttg tgc gct ctg tgg ggt gta tat att ttg tgg gga gaa aaa aaa aat ata tac act cta tac aca caa aag aga gac act cta taa aat ata tac act ctt ttg tgt gta tag agg ggt gtt ttt ttg tgt gta tag aga gaa aat att tta tag aga gat atg tga gac acc cca caa aag agg ggg ggc gca cat atc tca cat att ttt tta tag aga gac act ctc tcc cct cta tat att ttt ttt ttg tgt gtc tcg cgt gtt tta taa aag aga gag agg ggc gca cat ata tac act cta tat atg tgg gga gag aga gaa aat att tta tat atg tga gaa aac act cta tag aga gag aga gaa aag agc gca cac act ctg tgt gtt tta tac acg cga gat att ttt ttg tgt gtt tta tac acg cgt gtg tga gac act ctg tgt gtg tga gat atg tgc gct ctg tgt gta tag agc gct ctc tcc ccc ccc cca cat atg tga gat att ttt ttc tct ctt ttc tca cat atc tct ctt ttt ttg tga gat atg tgt gta tag aga gac aca caa aaa aag agt gtt tta taa aaa aaa aac aca cac acc cct ctc tca cat ata tat att ttg tgt gta tac acg cgt gtc tca cag agc gcg cgt gtt ttt tta taa aac act ctg tga gag agt gta tac aca cac act cta tat atg tga gat atg tgg gga gat atc tct ctt ttg tgt gta tat ata tat atg tgc gcc ccc cct ctg tga gag agg ggc gca cac act ctt ttt ttg tga gat atc tca caa aaa aaa aat ata tag agc gcg cga gaa aag agt gtg tgc gct ctt tta taa aag agg ggc gct cta tat atc tct ctt tta tag agt gtg tga gaa aag agt gta tat atg tgg ggt gtt ttg tgc gct ctg tgt gtg tga gat atg tgt gtt tta tac acc cct cta tac act ctt ttt ttg tga gaa aaa aaa aat ata taa aaa aac act ctc tct ctg tgg ggt gtt ttt ttg tga gat att ttt ttt ttg tgt gtt ttg tga gaa aaa aaa aat atc tcc ccc cca cag agt gtg tgt gtt tta tat att ttg tgg ggt gtg tgt gtt ttt tta tat atc tca cat ata taa aaa aac act ctt ttg tgg gga gag aga gaa aac acg cgt gtg tgt gta tac acg cgc gcc cca caa aag agc gct cta tat atc tct ctt tta taa aaa aac aca cac act ctg tgt gtt tta taa aaa aat att ttt ttt ttg tgt gtg tga gac acc cca cac aca cat atg tgg ggt gtc tca caa aag agg ggc gct ctg tgg ggt gtt ttt tta tag agt gtc tcg cgg ggt gtg tgt gtg tgc gct ctc tca cac aca cac act cta tag aga gac aca caa aac acc cca cag agg gga gac acc cct ctt tta taa aat atg tgg ggc gca caa aag agt gtg tgg ggt gta tat atg tga gat att ttt ttt ttg tgg ggt gtg tga gac act ctt ttc tcg cgt gta taa aat atc tca cac act ctc tca caa aac acc cct ctg tgg ggt gtt ttc tca cag agg gga gag agt gta tag agc gct cta tat ata tag agt gtt ttg tga gat ata tag agc gct cta tac act cta tat att ttc tct ctt tta tat att ttt ttg tga gat atg tgc gcc cct ctg tgt gtg tgc gct ctc tct ctc tca caa aat atg tga gac acc ccg cga gat att ttg tgt gtt ttt ttg tgg ggc gcc ccg cgc gct ctg tga gag aga gac aca cac aca cat ata tag agg ggg gga gat att ttg tgt gtg tga gat att ttt ttt tta taa aat ata taa aaa aac acc cca cac act ctc tca cat att ttg tga gag agt gtg tgg ggc gcc cca cac act ctt tta tac act ctg tga gag agt gta tat atg tga gat att ttt ttt tta tac act ctg tga gat att tta tat ata taa aag agg ggt gta tac aca caa aac act ctc tct ctt ttt ttg tga gag aga gaa aag agt gta tac act ctt ttt tta taa aaa aat ata tat att ttg tgg ggg gga gat atc tca cag aga gac acg cgt gta tat atc tca cac acg cgc gca caa aaa aat att ttg tgc gcg cgt gtt tta taa aat att ttg tgt gta tac act ctg tga gat atg tga gac acc ccg cgt gtt ttg tgt gtg tgt gtg tgt gtt tta tac aca cat att ttg tgt gtg tgc gct cta taa aat att ttt ttc tca caa aat atg tgt gta tat att ttg tgt gtt ttt ttg tgc gct cta tat atg tga gac acc cca cat atg tgc gcc cct cta taa aag aga gac act ctt ttg tgt gtt ttt ttc tcg cgg gga gac acc ccc cca cat ata tag agt gtc tcc ccg cga gaa aaa aag aga gat atc tct ctt ttt ttg tgt gtt ttg tga gat atg tgg ggc gcg cgt gtg tgc gcc cca cat att ttt ttg tgt gta tag agt gta tat atc tct ctt ttg tgt gtg tgg ggt gtt tta tat atc tca cac act cta tac aca caa aaa aag aga gaa aat att tta tag agg ggt gtt ttt tta tag agt gtc tca cat atg tga gaa aat ata tat atg tgg gga gat atg tgt gtt tta tag agt gtc tct ctc tcc cca cat ata tag aga gac aca cat ata tag agg ggc gct ctc tct ctc tct ctc tct ctt tta taa aag agg gga gag agt gtt ttg tga gat atg tga gat atg tgt gta tat atg tgc gcc ccg cgc gct ctg tga gat atc tcc cca cag agc gcc cca cat atg tgc gca cac aca cat att ttg tgc gcc cct ctc tcc cct ctc tct cta taa aac acg cgc gct ctt ttt ttt ttc tct ctt ttg tga gat att ttt ttg tga gag agg gga gac aca cat atc tca cat atg tgt gtt ttt ttt tta tag agt gtg tgt gtc tcg cgc gca cag agc gca cac act ctt tta tac aca caa aac act ctg tgg ggt gtt ttt ttg tga gac act ctt ttt ttt ttc tca caa aaa aac act ctg tgt gtg tgc gcg cgg ggc gcc cct ctg tgg ggc gca caa aat att ttt ttt tta taa aac acc cca caa aag aga gac act ctt ttc tct cta tat atg tga gat att ttt ttc tcg cgt gtg tgg ggt gta tat atc tct cta taa aaa aag agg ggt gtt ttt ttc tct ctt ttt tta taa aag agg gga gag agg ggg ggc gct ctc tct ctt ttc tca cag agt gtt tta tac acg cgc gct ctc tca caa aaa aac aca cat att ttt ttt ttt ttt ttc tct ctt ttt ttg tgc gct ctc tca caa aag aga gat atg tgg ggt gta taa aat atg tgc gct ctg tgc gct cta tat att tta tac aca cag aga gat att tta tat ata taa aat att tta tac act cta tat att ttc tct ctt tta tat ata taa aat atc tct ctg tgc gcc cct cta tac act cta tat atg tgt gtg tgt gtg tga gac aca cat atc tca caa aaa aac aca caa aaa aat atg tgt gtt ttg tgt gtt ttc tct ctg tgc gca cat atg tgg gga gaa aag agt gtt ttg tgt gta taa aaa aac aca caa aag agt gta tac act ctt ttc tcg cga gaa aaa aat atc tct cta tac acg cga gac acg cgg ggt gtg tgg ggt gtt ttg tgt gtc tct ctt tta taa aat atg tgc gct ctt ttc tct ctg tga gaa aag agt gtg tgg ggt gtt ttg tgt gtt tta taa aat ata taa aat att ttt tta tag aga gac aca caa aag aga gag agt gtg tgc gct ctg tgg ggc gcc cca cat atc tcc cct ctt ttt ttt tta taa aat ata taa aag agt gtt ttt ttg tgg ggc gca caa aaa aag agc gct ctc tcg cgt gtg tgt gtc tct cta tat att tta tat atg tga gag aga gag agc gca cat atg tgt gtc tct ctt tta tat atc tca cag agg gga gag agc gca caa aag aga gat atg tga gaa aac act ctc tct ctt ttt ttg tgc gcc cca cat atg tga gac aca caa aaa aag agc gcg cgt gta taa aac acg cgt gtc tca cat att ttc tcc cct cta tac acc cca cat atg tga gac act ctc tca caa aaa aat atg tga gaa aat atc tct cta taa aaa aaa aat ata tat atg tgc gct cta tat att tta tag agt gtg tgc gct cta taa aag aga gaa aat ata tag aga gag agc gct ctc tcg cgc gca cac act ctg tgt gtt ttg tgc gca cag agg ggc gcg cgt gtg tgt gtc tcc cca cat ata tac act ctt tta tag agc gca cac aca caa aat atg tga gac act cta taa aat atc tcg cgc gcc cca cag agt gta tac acc cca cat atc tca cag aga gaa aaa aaa aat atg tgc gct ctt tta taa aag agt gtc tcc cca cat atg tgg ggc gct ctg tgc gca caa aac act ctc tcg cgt gtg tgg gga gag agc gcg cga gac act ctt ttg tgc gcg cgt gtc tca cat att ttg tgg ggt gta tac act cta tac aca caa aaa aag agt gtt ttc tct cta tat atg tgg ggt gtg tgg ggc gct ctg tgg ggg gga gat att ttt ttc tca cat atg tgc gct ctt tta taa aaa aaa aac aca cat att ttg tgt gta tac aca caa aaa aag aga gat atg tgt gtt ttg tga gat ata taa aat atc tcc ccg cgc gca cat atc tct ctt tta tat atg tgg ggg ggt gtt ttg tgg ggg gga gat att tta tac acc ccc cct cta taa aag agt gtg tgt gtg tga gat ata tag aga gag agc gct cta tat atg tgc gcc cct cta taa aat ata tat atg tgt gtg tgt gta tag aga gaa aat atc tct ctt ttc tcg cgc gct ctt ttc tca cac act ctc tca cat ata tat att tta tag agc gct ctc tcg cgg gga gaa aac acc cca cat atg tgg ggc gca cac act ctt ttg tgt gtt ttg tgt gta tac act cta tac aca caa aag agg ggg gga gac aca cag aga gat att ttt ttt tta tat atc tcg cgc gct ctt ttg tgg ggc gca caa aaa aat atg tga gag agt gtg tgt gtg tgc gct ctc tca cag agg ggt gtg tgc gct cta taa aag agc gcg cga gaa aat ata tat atg tgt gtt ttc tct cta tat atg tgt gtg tgg ggt gtg tgg ggt gtg tgg ggt gtt tta tac act cta tac acg cgt gtc tca caa aaa aac acc cct ctg tgg gga gag agg ggt gta tac acc cca cag agt gta tag agc gcg cgg gga gag aga gat atg tgc gcc cca cac acc cca cac act ctg tgc gca cat ata tat atg tgc gcc cca caa aat ata tag agt gtg tgt gtc tct ctt ttt tta taa aac aca cat att ttt ttt ttg tgc gca cag agg ggc gcg cga gac aca caa aac act ctg tgc gct cta taa aat atg tgt gtc tca cag agt gtg tgc gca cac act ctt tta tat atg tgg ggg ggt gtg tgc gct cta taa aat atg tgg ggc gca caa aac aca caa aag aga gat att ttg tgt gtt ttg tga gac aca caa aaa aag aga gaa aag agt gtt tta taa aaa aag aga gac aca cat atg tgc gca cag agt gtt ttt ttg tga gat att ttt ttg tgt gta tat atg tgt gtc tca caa aat atg tgt gtt ttt tta tat ata tag agg gga gag agc gca cac act cta tag agc gcc ccc cca cag aga gac acc ccc ccc cca caa aaa aat att ttt ttg tgt gtt ttg tga gat ata taa aaa aat ata tac act cta tat atg tgc gct ctt ttt ttt ttc tct ctt tta taa aat ata taa aag agc gca cac act ctt ttt ttt ttc tct cta tat atg tga gat atg tga gat ata tac act ctg tgt gtc tct ctg tga gac acg cga gac acg cgg ggt gtg tgt gtc tcg cgt gtt ttt ttg tgc gct cta tat ata taa aat ata tag agt gtg tga gat att tta tat atg tgc gca cag agc gct cta taa aag agg ggg ggt gtt tta tac aca cat att ttg tgc gct ctg tgg gga gaa aat ata tac aca cag aga gaa aat att ttt ttt tta taa aag agg gga gaa aaa aac acg cgc gct ctg tgt gta tat att tta tat atc tca cag aga gaa aac aca caa aat atg tgt gtc tct ctt ttt tta tat atg tgt gtc tct ctg tga gaa aag agc gct cta taa aaa aat atg tgc gct ctg tgg ggg ggt gtg tgg gga gaa aaa aac acc ccg cga gat atc tct ctg tga gaa aag aga gaa aaa aag agg gga gac acc cca cac aca cat atg tga gaa aat att ttc tct ctg tgt gtt ttc tca cac aca cag agc gca cat ata tac acg cgc gct ctt ttt tta tat ata tat att tta taa aag agg gga gat atg tgg ggc gcg cga gac acg cga gat atg tgg ggt gtt tta tac act ctt ttc tcc cct ctt ttc tcc cct ctt tta tat atc tcc cca cag aga gac acc ccc cct ctt ttc tca caa aag aga gaa aat att ttt ttt ttg tgt gtc tct ctg tgc gcc ccg cgg ggt gtt ttg tgc gct ctt ttt ttg tgt gta tag aga gat atg tga gat ata tat atc tcg cgt gtt tta taa aag aga gac act ctg tga gac acg cgg ggt gta tac aca cac act ctc tca cat atg tgg ggt gta tag aga gag agc gcg cga gat att ttt ttg tgt gtg tgt gtc tct ctt ttt ttg tgg ggc gct cta tat ata tag aga gat atg tgc gct ctt tta tac acc ccc cct ctc tct ctc tca cac aca caa aaa aag agc gca cat atg tga gaa aag aga gat ata tat ata tag aga gaa aat ata tac acc cca cag aga gaa aat atg tgt gta tat att ttc tct ctg tgg ggg ggt gtc tct cta tac act ctt tta tac aca cag agt gta tat ata tat ata tag aga gaa aaa aaa aaa aac act ctg tgt gta tat ata taa aaa aag aga gac acc cct ctt tta tac aca cag agg gga gac aca cac aca cat atg tgc gct ctt ttg tga gac aca cag agt gtt tta tat att ttc tct ctg tgt gtc tca cat atg tgc gct cta tat atg tgt gtg tgg ggt gtg tga gat ata taa aat att ttc tct ctg tgc gct cta taa aag agt gtt ttt ttt ttg tgg ggg gga gaa aag aga gag agg ggc gca cat att ttc tct cta tac aca cag aga gag aga gat atc tct ctc tct cta tat ata tag agt gtt ttc tcg cgc gcc cct cta tac acc cca cac act ctt ttt ttg tgc gca cag agg ggc gct ctg tgt gtc tcg cgg ggt gtt ttc tca cat atg tgc gcg cgt gtt ttg tgt gta tat atg tgc gcc cca cat att ttc tca cac aca cag aga gac act ctt ttc tcc ccc cct cta tac acg cgc gct ctg tgt gtg tgg ggg gga gac aca cat atg tgc gca cat atc tcc ccg cgt gta tag aga gac acc cca cat att ttt ttc tct ctc tct ctg tgc gct ctg tgt gta taa aaa aat atg tgc gct ctg tgc gct cta tat atg tga gat atc tca cat atg tgt gtt tta tat ata tag agc gca caa aac act ctc tcc cca cac aca cat ata taa aag aga gat atg tgg ggt gtt ttt ttt ttg tgt gtc tct ctg tgt gtt ttt ttc tct ctc tcc cct ctt tta tac acg cgt gtt ttt ttg tgt gta taa aat atg tgc gcc ccc ccc cct ctg tgg ggt gtt ttg tgt gtg tgg ggc gcg cgt gtt ttt ttc tca cag aga gac acg cgt gtt tta tac act cta taa aag agc gct cta tat ata tat att ttt tta tag agg ggt gtg tgg ggt gta tat atg tga gag agc gct cta tac act ctt ttt ttt ttg tgt gtg tgt gta tag aga gat atc tca cat ata tag aga gac acc cct ctg tgt gtg tgt gtg tgt gta tag agt gtt ttt ttt ttc tcc cca cac act ctt ttt ttg tgc gcg cgc gct cta taa aat atg tgg ggt gtc tct ctt ttg tgt gta tat att ttc tcg cgg ggc gct ctt tta tat ata tac aca caa aag aga gaa aat ata tat atg tgt gtg tgc gca cac aca cag agg ggt gta tag agt gtc tcc cct ctt ttc tct cta tat ata tag agt gtt ttg tga gaa aat att ttt tta taa aat ata tag agg ggt gtt ttg tgg ggc gct cta tac acc cct ctg tgt gtg tga gac act ctg tgg gga gac act ctg tga gaa aaa aag agt gtg tgg ggt gtg tga gat att tta tac aca cac acc ccc cct ctt ttg tgc gcc cca caa aat ata tac act cta tac aca caa aac aca cag aga gaa aac acc cca cac act ctt tta taa aaa aac act ctt ttt ttt ttt ttg tgc gct ctg tgc gct ctg tga gag aga gac act ctt ttt tta tac acg cgt gtg tgc gcc cca cac act ctg tga gaa aag aga gag agg ggc gcg cgt gtc tct cta taa aag agc gca cag agt gtc tct ctt tta tat atg tgc gct cta tat att ttg tgc gcc cca cac acc cca cat atc tca caa aaa aag aga gaa aaa aat att ttg tgt gtt ttg tgg ggt gtg tga gag agc gcg cgc gcc cca caa aac act cta tat att tta tac act ctt ttg tgt gtg tgt gtg tgg ggg gga gag agg ggc gct ctg tgg ggc gca caa aag agt gtc tcc cca caa aaa aac acc cca cac acc cca cac act ctc tca caa aat atc tcg cgt gta taa aat att tta tat atg tgt gtt ttt ttt ttt tta tac act ctg tgg ggt gtt tta tat atc tca cat ata tat ata taa aac acc cca caa aaa aaa aaa aat ata tag agt gta taa aaa aag agt gtg tgc gca cag agc gct ctc tcg cgg ggt gtg tga gag agt gta tac aca cat atc tct ctt ttc tcg cga gag agc gcg cgc gca cat att ttg tga gat att tta tat ata tag agt gtg tga gat atg tgc gct ctg tgt gta tat atc tcc cct cta tac aca caa aag agt gtc tct cta tag agt gta tac aca caa aac acg cgt gta tat ata taa aaa aac act ctg tga gac act ctg tgt gta tag agg ggt gtg tga gac aca cat atc tct ctt ttc tcg cgt gta tac act ctt tta tac acc cct ctc tct ctc tca cac act ctc tct ctg tgt gtg tgg ggc gct cta tac acc cct ctt ttg tga gac acg cgg ggc gcg cgc gcc ccc cca cac aca caa aat att ttg tgt gtg tga gaa aat atc tca caa aag aga gag aga gag agg ggt gta tat atg tgt gtt tta taa aaa aaa aat att tta tac act ctg tgg ggg ggt gtt ttg tgt gta tac acc ccc cca caa aac acc cca cat att tta tac acg cgg ggt gta tac acc cct ctg tga gaa aag aga gag agt gtt ttc tcg cgc gca caa aag agt gtc tca cat atg tgt gtt ttg tgc gcc cca caa aac act ctt ttc tcc cca caa aaa aaa aaa aat atc tca cag agg ggt gtt tta tat ata tag agt gta taa aaa aat ata tat atg tgt gtc tca cac act ctg tgt gtt ttc tca cag agg ggg gga gac acc cca cac acc cct ctg tgg ggc gca cac act ctg tgg ggc gca caa aaa aaa aag agt gtc tca cat att ttt ttt ttg tgc gct cta tat ata tag agg ggg ggt gtt tta tag agc gcg cga gat att ttt tta tac act cta tac acc ccc cct cta tac aca cag agc gca cac acg cgt gtg tgt gtt ttg tgt gtt ttt tta tat ata tac aca cag agc gca cat atg tgt gtt ttc tca cac aca cac acg cgc gca cag agc gct ctg tgt gtt ttg tga gat atg tgc gct ctt ttt ttg tgt gtg tgt gtg tga gaa aaa aaa aaa aag agc gct ctt ttt ttt tta taa aaa aat ata tat att ttt ttg tga gaa aac aca cat att ttg tgc gct cta taa aaa aat atg tgt gtt ttc tcc ccc ccg cgt gta tat atc tca cat att ttc tcc cct ctg tgc gca caa aaa aag agg ggc gca cac acg cgt gtg tgt gtt ttg tga gag agt gtg tgc gct cta tat atg tga gac aca cag agg ggt gtt ttt tta taa aaa aag agt gtt tta taa aat atg tga gag aga gac aca caa aaa aat att ttc tct ctc tca caa aat ata tat att ttt ttg tgt gtt ttt tta tag agt gta tac act cta tat att tta taa aat atg tgc gct ctc tct cta tac acc cca cag aga gaa aaa aac act ctt ttc tct ctg tgc gcc ccg cga gat ata tat att ttc tct ctg tgg ggt gtg tgg ggt gtt ttg tga gat atg tga gag agg ggt gtt tta tag agt gta tat atg tgt gtg tgc gca cac act cta taa aat att tta tat atg tga gat atc tct ctt ttt ttc tca caa aat att tta tat att tta taa aat atg tgc gca cac acg cgt gta tat att tta taa aaa aag agc gct cta taa aag agc gca cac aca cat att ttg tgt gtc tct cta tat atg tgt gta tag agg gga gag aga gat atc tcc cca cag agc gca cac aca cag agt gtt ttg tgc gcc cca cag agc gct ctc tcc cct cta tag agg gga gac act ctt ttt ttg tgt gtt ttg tga gac act cta tag aga gag agg ggc gca cac aca cat att ttg tgg gga gaa aac acc cca cag aga gaa aaa aaa aat att ttt ttc tca caa aat ata tag agt gtg tgt gtc tca cac act cta tag aga gat att ttg tga gat atg tgt gtg tgt gta taa aac act ctt tta tag agg ggt gtc tcc cct ctg tga gac aca cat ata tat att ttt ttt ttt tta taa aag agt gta tat atg tgt gtg tgc gct cta tac aca cag agg ggt gtg tgt gtc tcc cct cta taa aag agg gga gaa aaa aat ata tag agt gta taa aag agc gca cac act ctg tgt gtg tga gag agc gcg cgc gct ctc tct ctt ttg tgt gtc tct cta tac aca caa aat ata taa aat ata taa aaa aat att ttg tgt gtt tta tag agc gcc cca caa aag aga gaa aag agg gga gag agc gct ctt ttt ttc tca cag agg ggc gcc cca cag agt gtg tgc gct ctt ttt tta taa aaa aaa aat ata tac act ctc tct cta tat ata taa aag agg ggg ggc gca caa aat atg tgt gtg tga gac acg cgc gca cat atg tga gat atg tgc gct cta tag agc gct ctc tct ctg tgc gcc cca cat att tta taa aat ata tag aga gac acc cca cac aca caa aac act ctc tca cac aca cat att ttt ttg tgt gtg tga gaa aag aga gaa aat att ttt ttt tta tat att tta tac act ctg tgc gcc cca caa aat atc tcc ccg cgg ggc gca cat atg tgg gga gag agt gta taa aag agg ggc gca cag agt gtc tct ctt ttt tta tat att ttt ttc tcg cgc gcc cct ctt tta tat ata taa aat att ttc tca cac aca cag aga gaa aat atg tgc gct ctg tgt gtg tgg ggc gct ctc tcg cgt gtt ttc tca caa aat atg tgc gct ctg tgg ggg ggt gtc tct ctt tta tac act cta tac act ctc tca cag aga gac act ctg tgt gtt ttg tga gat att ttc tcc cct ctc tca cac aca cag agg ggg ggt gtt ttc tca cag aga gaa aat ata tac acc cca cag agt gta tat atg tgt gtt tta tat atc tct ctt ttc tct ctg tgt gtc tca caa aaa aac aca cag agc gca cag aga gat ata tac acg cgg ggc gca cac aca cat atg tgc gct cta taa aac aca caa aac aca cat att tta taa aac aca cag aga gat att ttt tta taa aat atg tgt gtt ttg tgc gca caa aat atc tca cac act ctc tcg cgt gtg tgc gcc ccc cca caa aaa aaa aaa aag agg ggt gta tat att ttc tct ctt ttt ttg tgt gtg tgt gtt tta tat atg tga gac aca cat atc tct ctc tca cag agg ggc gca cac act ctc tct ctt ttt ttg tga gag agt gtc tcc cct ctt tta tag aga gag agt gtt ttt tta tac act ctg tga gaa aat att ttg tgt gtc tct ctt ttt ttt tta tac act cta taa aat att tta tac aca caa aag agc gct ctc tcc cca cag agt gtc tct ctc tca cag aga gat att ttg tgt gta taa aac act ctg tgg ggc gcc cct ctt ttt ttt ttt tta taa aaa aag aga gat att ttg tgc gct ctc tct cta tag aga gag aga gaa aaa aac act ctt ttc tct ctg tgg ggc gcc cct ctc tct ctc tca cac acc cct ctg tgc gct ctt tta tat atg tgc gca cac acc cca caa aac aca cat ata tac acg cgt gtt tta tag agt gtg tgt gtt ttg tga gat atg tga gac aca caa aag agt gta tat ata taa aag aga gac acg cga gag agt gtg tga gat atg tga gag agc gct ctt ttt ttg tgc gcg cgt gtg tga gaa aat atc tct ctt tta taa aat att ttt tta tac acc ccc ccg cgc gca caa aaa aac aca cat atc tcc ccc cca cat ata tac act ctc tct ctc tcg cgt gtg tgt gtt tta tat att ttt ttc tcc cca cag agg gga gat atg tgg ggg ggc gct ctt ttt tta taa aaa aac act ctc tcg cga gat atg tgc gca caa aac aca cag agt gtt ttc tcc cct ctg tgg gga gat ata tat atc tcc cct cta taa aag agc gct ctt ttt ttt ttc tca cat att tta tac act ctc tcg cgt gtg tga gaa aag aga gag agg ggc gct ctg tgt gta taa aag agg ggc gca caa aag agt gtt ttc tcg cga gaa aag agc gct ctg tgg gga gat ata tag agg ggc gct ctt ttc tcg cga gat atg tgt gtt ttg tga gag agg ggg ggt gtg tgc gct ctc tca cat atg tgc gct ctt ttc tcc ccc ccg cgt gta taa aat atg tgc gca cat atg tgt gtg tgg ggc gca cac acc cca caa aat atg tgt gtg tgc gcc cct ctc tct cta tac aca caa aat att tta tag agg gga gat att ttt ttt ttc tca caa aac act ctg tgg ggt gtg tgt gtg tga gaa aac act ctt ttt ttg tgt gtt ttg tgt gtt ttc tca cag agc gcc cca cat att ttt ttg tgg ggt gtg tgt gtt ttg tgt gta tag aga gac aca cac act ctg tga gag agt gtg tgg ggg ggg ggt gta taa aac aca cat atg tgt gtt tta taa aac acg cgg ggg ggc gca cat att ttg tgc gct ctg tgc gcc ccc ccg cgt gtc tcc cct ctc tcc cca cac acc cca cag agg ggt gtg tga gaa aac aca cag agt gtt ttt tta taa aag agc gca cac acc cct ctc tcg cgt gtg tgc gcc cct ctc tct ctt tta tat atg tgc gca cat ata taa aag agg ggg ggg ggg ggc gct ctg tgc gcg cgt gtg tgg ggc gcc cct cta tat att ttg tgt gtt tta tag aga gac acg cga gac acg cgt gta tat ata tag agt gtg tgc gca caa aaa aat atg tgt gtt ttg tgt gtc tca cag aga gac aca cac act ctt ttt tta tag aga gac aca caa aaa aat att ttg tgt gtc tct ctg tga gat att tta tac act ctg tgt gta tac acg cgt gtt ttt ttg tgt gtt ttt ttg tgt gtt ttg tgg ggg ggc gct ctc tca cat atg tgg ggc gct ctt ttt ttg tga gaa aat att tta taa aac acg cgt gtc tct ctg tgc gca cat atc tca cat ata tac act ctt ttt ttt ttg tgc gca caa aag aga gat ata tag agg ggt gta taa aag agg gga gaa aac aca cag aga gaa aag agt gtg tgt gtt ttg tgc gca cat atg tgt gtg tgc gca caa aat ata tag aga gac acg cgc gcg cgc gct ctg tgc gca cag agc gcg cgt gta tac act ctc tct ctt ttc tca cac acc cct ctc tct ctg tgc gca caa aat atc tct ctt tta tat atg tgc gcc cct ctg tgc gct ctg tgg gga gac act ctc tca cat att ttc tcc cct ctg tgc gcg cgg ggt gtt tta tat atg tga gat att tta tat atg tgt gtc tct cta tac aca caa aac acc ccc cct ctt ttt ttc tct ctt ttt ttg tgt gtc tcg cga gat atg tgt gtt ttc tca caa aac aca cag agt gtg tgg ggg ggg ggt gtt tta tat atg tgt gta tag agg ggc gca caa aat atc tct ctt ttg tgc gct cta tac act cta taa aat atc tca cac acg cga gat atc tcg cgt gtt tta tat att ttg tgc gct ctc tct ctg tgt gtc tcc cca cat atc tca caa aag agg gga gag agc gct ctc tca cat atg tgt gtg tgg ggc gct ctt ttc tct cta taa aat atg tga gat atg tgc gca caa aat ata taa aat atg tga gac act ctc tcg cgt gtt ttg tgt gtt ttt tta tag agc gct cta tat att ttc tca cat att ttc tct ctt ttg tgt gtt ttt ttt tta tat ata tag aga gaa aac acg cgt gtg tgt gtg tgg gga gat att ttg tgg ggg gga gat ata tat ata tag aga gag agt gta tat atc tcc cct ctt tta tat ata tat atc tct ctc tca cac aca cat atg tga gaa aaa aaa aag aga gaa aaa aat att ttg tga gaa aat att ttc tcc cct ctg tgt gtt ttg tgt gta tag aga gaa aat atc tcg cgt gtt ttg tga gag agc gcg cgc gca caa aac acg cgt gtc tcg cgt gta tac acg cgt gtg tgc gct ctg tgc gct ctc tct ctt ttc tct ctt ttg tgc gcc ccg cgg ggt gtt ttc tca cat att ttt ttg tga gac aca caa aaa aag agt gtc tct cta tat atg tga gat ata tat att ttg tgg ggc gca caa aat atc tcc cct cta taa aaa aag agg gga gaa aat att ttc tcc cct cta tat att ttg tgt gtt ttg tga gat atg tga gac acc ccc cct ctg tgt gtg tgg ggt gtt ttg tga gat att ttg tgg ggc gca cat att tta tat att ttt ttt ttg tga gat atg tgc gca cac aca cag agc gcc ccc cct ctt ttg tga gac acc cca cag aga gaa aaa aag agg ggt gta tac aca caa aac aca cag agc gct ctt ttt ttt ttc tct cta tat ata tac aca cag aga gag agg gga gac aca cat atg tgg ggc gcc cct ctc tca caa aag aga gat att ttt ttg tgc gct ctg tga gat atg tgg ggg ggc gct ctc tct ctg tgc gct ctt tta tat att ttt ttt ttg tgg gga gaa aac act ctg tgt gta taa aat atg tgt gta tac acc cca caa aaa aaa aat ata tat atc tcc cct cta taa aat ata taa aat atg tgc gca caa aat att ttg tgt gta tat atg tgc gca cag agg ggt gtt ttt ttg tga gac aca cac aca cac acg cgt gtg tgt gtg tgc gca cat att ttc tct ctg tga gag agt gtt ttc tca caa aat att ttt ttg tgc gcc cca cag agg ggt gtt ttg tgt gtg tga gat atg tgg ggc gcg cgg ggt gta tag agt gtt ttt ttg tgt gta tat atg tgt gtt tta taa aac aca caa aag agc gca cac acg cgc gct ctt ttt ttt ttc tca cat ata tac aca cac acc cca cag agc gca cat ata tat atg tga gat atg tgt gtg tga gag agt gtg tgc gca cat att ttc tcc ccg cgt gtg tga gat atc tct ctg tga gaa aaa aac acc cct ctt ttt tta tac acc cca cat att ttc tct ctt ttt ttt tta tat att tta tat att ttc tct cta tac act cta tac aca cac acc cca cat atg tgt gtg tga gaa aag agt gtg tgc gca cat atg tgg ggt gta taa aat atg tgg ggt gta tag agt gta tat atg tga gat ata tag aga gag agg gga gat ata tat att ttg tga gat att tta tat atg tgt gta tac acc ccc ccc cct cta taa aaa aaa aat atc tct ctg tgc gca cag agt gtc tct ctg tgt gta tat att tta tac aca cag agc gct ctt ttg tgt gta taa aat att ttt tta tag agg ggg ggg ggg ggc gcg cgc gct ctg tgt gtt ttt ttg tgt gta tag agg gga gaa aag agc gca cat atg tgc gct cta tac aca cag aga gag agt gta tac aca cag aga gag aga gag agt gta tat ata tat atg tgg gga gaa aag agc gca cat ata tat ata taa aat atc tct ctt ttg tgt gtc tct ctc tct ctg tgc gca cat atc tca cag agg ggt gtt ttt ttc tcc ccg cgc gct ctt ttt ttt ttg tgg ggt gtg tgt gtt tta tat ata taa aag aga gac acc cct ctt ttt ttg tga gat ata tat att ttt tta tat ata taa aat atc tct ctc tct ctg tgg ggt gtc tct cta tac act ctt ttt ttt tta tac aca caa aaa aaa aag agt gtt ttc tca caa aag agg ggt gtt ttt ttg tgg gga gaa aaa aaa aac aca cat att ttg tgc gct ctt ttt ttt tta taa aat atg tgt gtt ttg tgt gtt tta taa aaa aac aca caa aag agg ggc gcc cca cat att ttt ttt tta tat att ttg tgg ggt gtg tgt gtt ttg tga gag agg ggg ggt gtg tga gaa aac act cta tac acc cct ctg tgt gta tag agc gct ctg tgt gta tag agt gtc tca caa aat atg tga gat ata taa aag aga gat atc tct ctt ttc tca cac acc cca caa aag aga gag agt gtg tgg ggc gcg cgt gtt tta taa aat atg tga gac aca cat att ttt ttg tgt gta tat atg tgt gtt ttt ttg tga gag aga gaa aat ata taa aaa aaa aac acc cca cac act ctt ttt ttg tgc gcc cct cta tac act cta taa aat ata tat ata tag agc gct ctt ttt ttt ttg tga gaa aac act ctc tct cta tat atg tgc gct cta taa aag agc gcg cgt gtg tgc gct ctg tgt gta tac acg cgc gct ctc tcg cgc gca cat atc tcc ccc ccg cga gat att ttt ttc tca caa aaa aat att ttg tgc gct cta tac aca cac aca caa aat att ttt tta tac aca caa aag agc gca cag aga gac aca cat att ttt ttg tgc gct cta tac aca caa aag agt gtt ttc tcg cgt gtc tcc cct ctt ttt ttg tgg ggg gga gat att tta tat atg tga gaa aac acg cgt gta tag agc gca caa aat ata tat att ttt tta tat atg tgg ggt gta tac act ctg tgc gct cta tac act cta tat att ttg tgg ggt gtg tgt gta tat atg tgt gta taa aag agt gta tac aca cac act ctg tga gat ata tat att ttg tga gat atg tgt gtt tta taa aat att ttc tca cag agc gct ctt ttt ttg tga gaa aat ata tat ata tat atg tgt gtt ttt ttt ttg tga gac aca cat ata tac acg cgc gcg cga gat ata taa aat atg tgg ggt gtt ttc tca cat att ttg tgg gga gag aga gaa aag agt gtt ttc tca cat atg tgt gtc tct cta tac act ctc tcc ccc cca caa aat atg tgc gcc cca cat atc tct ctt ttt tta tat att ttt ttc tct ctg tga gat ata tag aga gaa aaa aaa aaa aat att tta taa aag aga gaa aaa aat ata tac acc ccc cct ctt ttg tgt gta tat att ttg tgt gta tag agg ggt gtc tcc cct ctg tga gat att tta tat atg tgc gct ctt tta tac act ctt ttc tca caa aat atg tgg ggt gtg tgc gct cta tat atc tca cat atc tcc ccg cgt gtg tga gat ata tag agt gtg tga gat atg tgt gtt ttg tgt gtt tta taa aaa aac aca caa aac acc cca cag agt gtg tga gaa aag agt gtt ttc tct cta tac act ctt ttg tgt gta tat ata taa aag aga gaa aaa aag agt gtc tca caa aat ata taa aat atg tga gag agt gtt ttt tta tat att ttg tga gat atc tcc cct cta tac act ctg tga gag agt gtg tgt gta tat att ttt tta tac aca cac act ctc tca cag aga gag agt gtc tcg cgc gct ctc tct ctt ttg tgt gta tag agt gtg tga gac act ctt ttc tcc cct cta tac acc ccc ccc cct ctg tgt gtc tct ctg tga gac aca cat atg tgg gga gag aga gaa aaa aag aga gac act ctt ttt ttc tct cta tat atc tct ctt ttt ttt ttg tga gat ata tag agt gtg tga gat atg tgt gtt ttt ttt ttc tca cat att tta taa aag aga gaa aag agt gta tat atg tgg ggc gct ctt ttg tgg gga gaa aaa aaa aac act cta tat atg tgc gct ctt ttt ttt ttg tga gag agc gca cac acg cgt gta tag agt gtc tct cta tat atg tgg gga gag aga gac act ctt ttc tct ctc tct ctc tca cat ata tac act cta tac acg cgt gtt tta tag agg ggc gcg cgg ggt gtc tct ctt ttc tca cac act ctt ttg tgc gct ctt tta tat att ttg tgg ggt gtt ttt tta tat ata tac aca caa aag aga gaa aag agc gca caa aac aca cag agg gga gaa aag agg ggt gtc tca cat ata tat att tta tat att tta tat atg tgg gga gaa aag aga gaa aaa aat atg tgc gct cta taa aaa aaa aag agg ggt gta tag agc gct ctc tca caa aac act cta tat att ttc tca cat ata taa aac act cta tat att ttt ttt tta tat att tta tac act ctg tga gag aga gac act cta taa aac aca cac aca cag agc gcg cgg ggc gct ctt ttt ttt tta taa aag agg ggc gcg cgg ggt gtg tgt gtg tgt gtt ttc tct ctg tgt gtt tta tat ata tag aga gat att ttt tta taa aaa aag agc gct ctt ttg tga gac acg cga gac act ctt ttt ttg tgt gtt tta tat atg tga gat att ttt ttt tta taa aaa aag aga gag agt gtc tca caa aag aga gac acc cct ctt ttg tgg ggc gcg cgt gta tag agt gta tat atc tcc cca caa aag agg ggt gtt ttg tgt gtc tca caa aag agg ggt gtt ttc tcc cct cta tat att ttg tga gac act ctt tta taa aac aca caa aat atg tga gat att ttg tga gag agt gtt ttt tta tat atg tgt gtt tta tat atg tgg ggt gtg tgt gta taa aag agg gga gat atg tgg gga gac aca cag agg ggt gtc tcc cca caa aaa aac acc cct ctt ttc tct cta tac acc ccc cct ctc tcg cga gac act ctc tcc cca cag agg ggc gct ctt ttc tct ctg tgc gca cag aga gat att ttg tgg gga gaa aaa aac acc cct ctg tgg ggt gtc tca cat atg tgc gca caa aat atg tgc gcc cca cat atc tcc ccc cct ctc tct ctt ttt tta taa aaa aag agt gtt ttc tca caa aaa aaa aat atg tgt gta taa aaa aac acc cct ctt ttg tga gaa aac acg cgt gtt ttg tgt gtg tga gag agc gct ctt ttg tgc gct cta taa aat att tta tac aca caa aag agc gca caa aat atc tct cta tat att ttc tcc cct cta tat atg tgc gcc cct ctc tcg cgc gcg cgg ggt gtg tgt gtg tgc gca cac aca cat atg tga gaa aac aca cat atc tcg cgc gct cta taa aaa aat ata tat ata tat atg tgc gca caa aat att ttg tgt gtg tgc gcc cca cag agt gta tat att ttt tta taa aaa aat ata tac act ctt ttg tgc gca cac aca cat att tta tag agc gcc ccg cgt gtg tgc gcc cct ctg tgc gcc cca caa aat ata tat atg tgc gcg cgt gtg tgt gtt tta tat ata tac aca cat att ttt ttt ttg tgg ggc gcg cgc gct ctg tgg ggt gtt ttc tct ctg tga gat ata taa aaa aag agg ggt gta tat atc tcg cgc gct ctc tcc cct ctg tgg ggt gta tac aca cat atc tca cag agt gtt ttt ttt tta tac acg cga gac aca cag agt gtg tgg ggc gct ctt ttc tcc cct cta tac aca cag aga gat atg tgc gcc cca cat att tta tat att tta tat ata tag aga gat ata taa aat atg tga gat att ttt tta taa aaa aat atg tga gag agt gtt ttt ttg tgt gtg tgt gtc tca cag aga gat atg tgc gct ctg tga gac aca cat ata taa aac act ctt ttt tta tat att ttt ttg tgg gga gag aga gat att ttg tgt gtg tgt gta taa aac act ctg tgt gta tac acg cgt gtg tgt gtc tcg cgg ggc gcc cca caa aac aca caa aag agt gtg tgg gga gat atc tct ctt ttg tgt gtt tta tat att ttt ttc tcc ccg cga gac aca cat atg tgt gta tat atg tga gat atc tcc cct cta tac act cta tac act cta taa aag aga gaa aat atg tgt gta taa aac aca cag agg ggt gta tag agt gta taa aat atg tga gag agt gtc tca caa aaa aag agg ggc gct ctt ttt tta tat att ttc tct ctt ttt tta tac act ctt tta tac acc cct ctg tgt gtg tgt gta taa aac acc cct ctc tca cat att tta taa aat ata taa aat ata taa aat atc tct ctt ttg tgc gct ctc tct ctt ttg tgg ggt gtg tgg ggg ggt gtc tct ctg tgt gtt ttg tgc gct cta tat att tta taa aaa aaa aat ata taa aac aca cag aga gaa aac aca cac act ctc tct ctt ttg tgg gga gag agc gcg cgt gtt ttg tga gaa aac act ctt ttt tta tat atg tga gaa aac act ctt tta tat atg tgg ggg gga gaa aaa aaa aat att ttt ttg tgc gct ctt ttg tgg ggt gtg tgg gga gac act ctg tgt gtt ttt ttt ttc tct ctg tgc gca cac acc cca caa aat atg tgc gca caa aaa aat atg tgc gca cat atc tcc cct ctc tca cat atc tct ctg tga gaa aag agg gga gat att ttc tcc cct ctc tct ctt tta tag agg ggt gta tat att tta taa aat att tta tac act ctt ttg tgg ggg ggt gta tac act cta tat att tta taa aaa aag aga gaa aaa aaa aat ata tat ata tag aga gat atg tgg ggt gtg tgg ggt gtg tgc gct cta tat atg tgc gca cac acg cgc gcc cca caa aac act cta tat ata tat ata tat att ttt ttt ttg tgg gga gag aga gaa aaa aat att ttc tcc cca cac act ctc tcc cct cta tat atg tga gaa aat atc tct ctg tga gag agt gta tac act ctt tta tac act ctc tca cac act ctt ttt ttt ttt ttg tga gat att ttt tta tat atc tcc cca caa aag agt gtt ttt ttc tca caa aat att tta taa aaa aaa aat att tta taa aaa aaa aag agg gga gaa aac aca cac acc cca cag agt gtt ttc tct ctt ttc tca caa aat att tta taa aaa aag agg gga gag aga gag agt gtc tca caa aaa aat att tta taa aac acg cga gaa aac act ctc tcg cgt gta taa aat ata tat atc tct ctc tct ctc tcc cct ctg tgt gtc tcg cgc gca cag agg ggg ggt gta taa aag agt gtt tta tac act ctt tta tat atc tcc ccg cgt gtg tga gac aca caa aat atg tga gat ata tac aca cac act ctc tca cag agt gtg tgt gtt ttt ttc tct cta tac act ctg tga gat atg tgt gtt ttc tct ctt ttg tgt gtt tta taa aac aca cac acc cct cta tac aca cag aga gaa aaa aag agt gtt tta tac acg cgt gtt ttg tga gat atg tgt gta tag agg ggg ggc gcc cca cag aga gat att ttc tct ctc tct ctt tta taa aag agt gtc tct ctg tgc gct ctt ttg tgt gta tat att ttg tga gag agg ggt gtt ttg tga gat ata tat ata tac aca caa aac aca cag aga gac act ctt ttt ttc tct ctt ttt ttg tga gat ata taa aaa aaa aac act ctt ttg tgg ggc gcc cct cta tag agg ggc gcc cca caa aat att ttg tga gat atg tgt gtt ttt ttc tct cta taa aag agg ggc gct ctg tga gac acg cgg ggt gta tat att tta tat ata tat ata tac acc ccc cct ctc tca caa aag agg ggc gcc ccg cgt gta tac aca cat ata tat att ttc tct cta taa aac aca cat ata taa aac act cta tat atc tca cac act ctt tta tat atc tca caa aag agg ggt gtc tct ctt ttt ttt ttt ttc tcc ccc cct cta tat atc tca cag agg ggg gga gag aga gac acc cca cat atg tgg ggt gtg tga gat ata tat atg tgt gta tat atg tgt gtc tct cta tac act ctc tct ctg tgc gca cag agg gga gac aca cat atg tgc gct cta tac aca cag agg ggc gca cac aca caa aac act ctc tcc cca cac aca caa aaa aaa aag agt gtt ttg tgt gtt ttt ttg tgt gta tag agc gct cta taa aac act cta tat att ttc tct ctc tca cag agg gga gac acg cgt gtc tca caa aaa aac aca cag agt gtt ttt ttg tgc gct cta taa aat atg tgg ggg ggt gtt ttt ttg tgt gtc tcg cgt gtc tcc ccg cgt gta tat ata tag agg gga gag agc gca cag agc gct ctg tgc gcc cca caa aat att ttc tcc cca cac act ctg tgg ggc gca cac act ctg tgt gtt tta tat att tta tat att tta tag agc gcc ccc cca cat atc tct cta tac acc cca cag agc gcg cgc gct cta tac act cta tat ata tac acg cga gaa aaa aaa aaa aat att ttt tta tac acc ccc cct ctg tgc gct ctt ttt ttt tta tat atg tgc gct ctg tgg ggg ggt gtt ttc tct ctt ttc tca cag agt gtt ttg tgg ggt gta taa aat att ttt ttc tct ctc tca cag aga gat atg tgg ggt gta taa aaa aaa aat atg tgg ggg ggc gcc ccg cgc gct ctt ttc tct ctt ttc tca caa aat atc tca cat ata tac act ctc tct cta tag agt gtt ttc tct ctt ttt ttt ttg tgc gcc ccc ccg cga gat atg tgg gga gat atg tgt gtg tgg ggc gca cac act ctt ttt tta tac act ctt tta tag aga gag agc gct ctt ttt ttt ttt tta tat att ttg tgt gta tat att ttc tct cta tag aga gag agc gcc cct ctc tcg cgc gct ctc tct ctg tgg gga gaa aaa aat atc tca cat att ttg tgt gtc tcc cct ctg tgc gct ctg tgg ggc gca caa aat att ttc tcc cct cta tat ata tac act ctt ttc tct ctt ttt ttt ttg tgc gcc cca cac act ctt tta tat atc tca cac aca cac act ctc tcc cct ctg tgc gca caa aac aca cag aga gat att ttg tgt gtt ttc tct ctg tga gat atg tgg ggc gca caa aat att tta tac aca caa aat atc tcg cgt gta taa aat atg tgc gcc cca cag agt gtc tct ctg tga gaa aac act ctc tct ctt ttt ttt tta taa aag agg gga gag agt gta tat att ttt ttt tta taa aat att ttt tta tac acg cgt gta taa aac act ctg tgc gca cac acc cct ctt ttt tta tat atg tgt gta tac aca cac act ctt tta tat ata taa aac aca cat att tta tac acc ccg cga gaa aag aga gat atg tga gag aga gat att ttc tct cta tag aga gag agt gtg tgg ggt gtt ttt ttg tgg ggt gta tat att tta tac aca cac aca caa aaa aac act ctg tgc gct ctc tca caa aag agg ggt gtg tgt gtt ttc tca cac acc cct ctc tct ctt ttc tct ctc tct ctt ttc tct ctc tcg cgg ggt gta tat atg tgt gtt ttg tga gat att ttt ttg tgt gta tac acg cgg ggc gcg cgg ggc gca caa aat ata tat atg tgt gtt ttt ttc tca caa aat att ttt ttg tgc gcc cca cac acc cct ctt ttg tgc gcc cct ctg tgt gtt ttt tta tat atg tga gat ata tac act cta tat att tta taa aag agt gta tat att tta tat att ttc tct cta tat atc tca cat att ttc tcc cct ctc tca cac aca cag agt gta tat att ttc tcg cgt gtt ttc tct cta tat atc tcc cca caa aaa aag agt gtg tga gat ata tag aga gaa aaa aaa aag agc gct ctt ttg tgg ggg ggc gct ctg tgc gcc cct ctt ttc tct cta tac acg cgt gta tat ata tat ata taa aaa aac act ctt ttc tca caa aac acc ccg cgt gtt tta taa aac acc cct ctt ttc tcc cct ctg tgt gtt ttg tgg gga gat att ttt ttt ttt ttc tct ctg tgt gtt ttg tga gat atg tgg ggt gtt tta tat ata tat ata tac acg cgc gca cag aga gag agc gct cta tat ata tag aga gac act ctg tgt gtg tgg ggt gtt ttt ttt tta taa aat atg tga gat att ttt ttg tgt gtc tca cac aca caa aac act ctc tcc cca cac act ctg tgc gct ctc tca cat ata tat atg tga gaa aat atc tcc cct ctt ttc tcg cga gat atg tgt gtt ttg tga gaa aat atc tct ctg tgg gga gag agt gtt ttt tta tat att ttc tca cag agt gtt ttt ttc tcg cgt gtc tct ctt ttt ttc tcg cga gaa aag agc gca caa aaa aaa aac acc cct ctt ttc tct ctg tgg ggc gct ctc tca cag agt gtt ttg tgt gtg tgg gga gaa aac aca cag agg ggc gct ctg tga gaa aag agg ggt gtg tgt gtt ttg tga gaa aat atg tgt gtg tga gat att ttt ttt ttt ttc tca cac acc cct ctc tct ctt ttc tct ctg tgt gtc tct ctg tgg ggc gca cac aca cac acc cct ctc tcc cct ctc tca cag agg ggt gtt ttt tta tat ata taa aat att ttt ttc tca caa aag agc gcg cgt gtt ttt ttg tgg ggt gtt ttt ttt ttt tta tac acc cca caa aat att ttg tgc gca caa aat att tta tat ata taa aat atc tct ctt tta tac acc cca caa aaa aat att ttg tgc gct ctt ttt ttc tca cac act ctt ttt ttt ttt ttt ttc tct ctg tgt gtg tga gaa aat atg tga gat att ttt ttt tta tat att ttt ttg tgt gta tag agt gtc tca caa aaa aat ata tat atc tcc ccc ccc cca cag agc gca cag agc gca caa aat att ttg tgc gct cta tag agc gca caa aac act ctg tgt gtt tta tat att ttc tct ctt ttc tca cac act ctg tga gat att ttt ttt ttg tgg gga gat att tta tat att ttt ttt ttt ttc tca cat ata tac acc ccc cca cac act ctt tta tag agt gta tat atg tga gaa aaa aat atc tcc ccg cga gat atc tct ctc tca cag agt gtg tgt gtt tta tag agt gtt ttc tct ctg tgc gct ctg tgg ggt gtc tcc cca caa aat ata tat atc tcc ccc cca cag agt gtt ttt tta taa aat att tta tat ata taa aaa aac aca cag agt gtc tct ctt ttt ttt ttt ttc tct cta taa aat atc tcc ccc cca cac act ctt ttg tgt gtt ttt ttg tga gat att ttt ttt tta tag agc gcg cga gac act ctg tgt gtt ttc tcc cct ctc tca cat ata taa aac acc cct ctt tta tac act cta tac act cta tat att tta tac act cta taa aag agc gcc cct ctc tct ctt tta taa aag agt gta tac aca cag agc gct cta tat ata tat att tta taa aac aca caa aag agt gtg tgc gct ctc tct ctc tcg cgt gtc tct ctt ttc tct ctt ttt ttc tct ctg tga gat atg tga gat atc tcg cgt gta tac act ctg tga gaa aag agt gta tac acc cct ctc tca cag agt gtt tta tag agt gtg tga gaa aac acg cgc gct cta taa aat atc tca caa aat ata tac act ctc tca cac acc ccc cct ctg tgt gtg tgt gta tat atc tcc cca cat att ttg tgt gtc tcc ccc cca cat atc tcc cca cac act ctg tgt gtg tgt gtg tgg ggg gga gaa aag aga gac acg cgg ggt gtg tga gat att tta tat att tta tat ata tag agg gga gaa aaa aac aca caa aac act cta tat atc tct ctc tcc cca cac act ctt ttg tga gaa aag agg ggt gtg tgg ggt gtg tgg ggc gct ctg tgg ggc gct ctt ttg tgt gtt ttg tgc gct cta tag agt gtg tgg ggc gct ctc tca caa aac act ctg tgt gtt ttg tgc gcc cca cat atg tga gac act ctg tga gag agc gca caa aat att tta tac aca cag aga gat atg tgg ggg ggc gct ctt ttt ttg tgg ggt gta tat att tta tac aca cag agt gtt ttc tca caa aat ata tat atg tgg ggt gta tac aca cag aga gac aca cac acc cca caa aat ata tag agt gtg tgt gtt ttt ttg tgc gcc ccc ccc cca caa aag agc gct ctt ttg tga gaa aat att ttt ttg tgc gct cta taa aat atg tga gac aca cac aca caa aaa aaa aaa aat att ttg tgc gcc cct ctc tct ctc tca caa aat att tta tag agg ggc gca caa aat att ttg tgc gcg cgt gtg tgg gga gaa aat ata tat att ttc tcc ccc cct ctc tct cta tat atg tgg ggt gtg tgt gtt ttt ttc tcg cgg ggg ggc gcc ccg cgt gtg tgg ggt gtg tgt gtt ttt ttt ttt ttc tca cag aga gaa aat att ttg tgc gca cac aca cag agc gct ctg tgt gta tag agg ggt gtg tgt gtt ttc tcg cga gac aca cag agc gca cag agc gcg cgc gct ctt ttt ttg tgt gtt ttt tta tat atg tga gat atg tgc gcg cgt gta tac acc cca cag aga gaa aat att ttt tta tag agt gtt ttg tgg ggc gct cta tat att tta tat att ttc tct ctg tga gat atg tga gat atg tgg ggc gca caa aac act cta tac act cta tac act ctg tgt gtt ttt ttg tgc gcg cgt gtg tgc gct ctt ttg tgt gtg tgt gtt tta tag agt gtg tgt gtt ttc tcc cct ctg tgt gtt ttt ttc tct ctg tgt gtc tca cat atc tct cta tat atg tga gat ata taa aaa aag aga gaa aaa aac act cta taa aaa aaa aac acc ccc cca cac acg cgc gct cta tac act ctc tct cta tat att ttt ttg tgg ggt gta tag agt gtg tgt gtt ttg tgc gca cat atg tgt gtg tga gaa aac aca cac aca cat att ttt ttc tcc cct ctc tct cta tac acc cca cat atg tgt gtc tct ctc tca caa aat ata tac act ctc tcc ccc ccg cgt gtt ttc tct cta tac acg cgc gcg cga gat atc tca caa aat atg tgc gct ctt tta taa aaa aac acg cgg ggc gcg cga gag aga gat att ttc tct cta tac aca cat ata tat atg tgg ggt gtc tcc ccc ccc cct ctt ttc tca cag aga gac aca cac acc cct ctg tgt gtt ttg tgg ggt gtt ttg tgt gtg tgt gtc tcc cct cta tag agg gga gac act ctt ttg tgt gtt tta taa aat att ttc tcc cct ctc tct ctt ttt ttg tgt gtt ttc tcg cgt gta tag aga gag agg gga gac act ctg tgc gca caa aag agt gtt ttg tgc gcc cct ctc tct ctt ttg tgg ggt gtc tca caa aat atc tct ctc tct ctc tct ctg tgt gtg tgc gct ctc tct ctt ttc tcc cct ctg tga gac aca cac aca cac acc cct cta tag agt gta tac act ctc tct ctc tca cac aca cac acc ccc ccc ccg cgc gca cag agt gtg tgt gtg tgc gcg cgc gct ctc tct ctg tgt gtt ttc tcc cca cag agg ggt gtg tga gaa aaa aat atg tgc gcg cgc gct ctt ttg tgg ggc gca cat atc tcc cca cat att ttg tgc gct ctt ttt ttt tta taa aat atc tca cat atc tcc cct cta tat att ttc tca cag agg ggt gtt ttg tga gat atc tca caa aac act ctt tta taa aat ata tag agt gta tag agt gtt tta tat att ttt ttt tta taa aaa aat att tta taa aag agt gta tat ata tac acc cct cta tac act cta taa aat att ttt ttt ttt ttc tcc cct ctt ttt ttg tgg ggt gtg tgt gtg tga gac act ctc tca cag agg gga gag agt gta tac aca cat att ttc tca cag aga gac aca caa aac acc cca cat att ttc tca cag aga gaa aaa aag agt gtt tta tac act ctg tgt gtt ttg tga gat att ttg tgt gta taa aaa aac aca cag agt gta tac acg cgt gtt ttt ttg tgc gca caa aat atg tgg ggt gtt ttt ttc tcc cca cag aga gaa aag agt gtg tgt gtg tga gag agc gca caa aat att tta tac act ctg tgc gcg cgc gcg cga gag agt gta tat atg tgg ggc gcc cca cag agt gtt ttt ttt ttg tgt gtt ttc tcc cca caa aaa aaa aat ata taa aaa aac acc cca cag agg ggc gct ctc tct ctc tcc cca cat atg tgg ggt gtg tgc gcc cca caa aat att ttt tta tac acg cgc gcc cca cag agg gga gat atg tga gat att ttc tct ctg tgt gta tac acg cgt gta taa aat att ttt ttg tgt gtt ttt ttg tgc gcg cga gag agc gcg cgt gtg tga gaa aaa aaa aag agc gct ctc tct ctc tca caa aat atc tca cat atc tct ctc tcc cct cta tat atc tca cat ata tac acc cca cag agg ggt gtt ttt ttt ttg tgg gga gag agg ggt gtg tga gac act ctt ttt tta taa aat att ttt ttg tga gac aca cac act ctt ttc tct cta tag aga gaa aac acc cct ctg tgt gtt ttt ttc tct cta tat ata tat atc tct cta tac act ctg tgg ggc gca cag agt gtc tcg cgt gta tag agt gtg tgc gca cac acg cgt gta tag agt gtg tgc gct cta tat att ttg tga gag agg gga gat att ttt ttg tgc gct cta tat att ttt ttg tga gac aca caa aaa aag agt gtc tca cac act cta tat ata tag agc gct ctg tga gat atc tcc cct ctg tgg ggt gtt tta tat ata tat atg tgc gca caa aag agg ggt gtt tta tac acg cga gat atg tga gat att ttg tgt gta tat atg tgc gca cag agc gca caa aag agg ggt gtc tcc cca cag agc gca cat atc tca cag agc gct ctc tcg cgt gtg tga gat atc tct ctt tta tat att ttt ttg tgt gtg tgc gct ctc tca caa aat ata tat atg tgt gtg tgg ggc gct ctg tgg ggt gtt tta tat ata taa aaa aag agt gta tat att tta tac acc cct ctc tcc cct ctc tct ctt tta tat atg tgg gga gat atg tgt gtt tta taa aat ata tat atg tgg gga gaa aag agc gcc ccg cgc gcg cgt gta tac aca cac act ctt ttc tca cat atc tct ctt ttt ttg tgc gct ctt ttg tgg ggc gca cag agc gca cat ata tag agc gca cag agg ggt gtg tgt gtt ttg tgg ggc gct ctg tgg gga gac act ctg tgc gct ctg tgg ggc gct ctt tta tat atc tcc cct ctc tcc cct ctt ttt ttg tgc gct ctg tgc gct cta tat att ttc tcc cca cat att ttt ttg tgc gca cac aca cag aga gag agt gta tat atc tct ctt ttt ttt tta tat ata tag agg ggt gtt tta taa aaa aac acg cgg ggt gtg tgt gtt ttg tgg ggc gca cat att tta tac act ctc tca caa aac aca cag agg ggt gtt ttc tct ctt ttt ttc tca cag aga gag aga gaa aac acc cca caa aaa aaa aag agc gct ctt tta tat att ttg tgc gcc cca caa aat ata taa aag agt gtt ttt tta taa aat atc tca cag agg ggc gct ctc tct ctg tgg ggg gga gag agc gct cta tat atg tgc gct cta taa aac aca cag agg ggc gct ctt ttc tca cac act cta tac aca caa aac act cta taa aat atg tga gaa aag agc gct ctt ttt ttt ttc tcg cgg gga gaa aag agg ggt gtt ttc tca cag agg gga gat atg tgc gct ctg tgt gtg tga gaa aac aca caa aac aca caa aat atg tgc gca cac aca cag agg ggc gct ctc tct cta tat atc tcc cca caa aaa aat att tta tag agc gct cta tag agc gcg cga gag agc gct cta tat atc tct cta taa aat ata tac act ctt ttt ttt ttg tgg ggt gtg tgc gct cta tat att ttt ttc tcc ccg cgc gcc cct ctc tct cta tat att ttg tgg gga gag aga gac aca cat atc tca cat ata tac aca caa aac acg cgt gtc tct ctt ttg tga gat atg tgt gtt ttc tct ctc tcg cga gaa aac aca cag agg gga gac acg cgc gcc ccc cca caa aaa aat ata tag aga gac aca cag aga gac act ctt tta tat att tta taa aat atg tgg ggc gcc ccg cgt gtt ttt ttg tga gac aca caa aac aca cac act cta taa aaa aat atg tgc gct ctt ttt ttc tcg cgt gtt ttg tgc gca cac aca cag agc gca cag agc gct ctt ttg tgt gtt ttc tcg cgt gtt ttc tcc ccg cga gaa aat atc tca cag agc gct ctg tgc gct ctc tct ctt ttt ttc tcc ccg cgc gct ctc tca caa aat att ttg tgg ggc gct cta taa aaa aag aga gat ata taa aaa aag agt gtc tca caa aat atg tga gag agt gtg tgt gtg tgt gtc tca caa aag agg ggc gca cac aca caa aat atc tcc cca caa aag agc gcg cgt gtt ttc tct ctg tgg gga gat att ttt ttt ttg tgc gcg cgg ggt gtc tca caa aag agg ggc gca cac aca cac aca cat ata tat ata tag agt gtg tgt gtc tcc cct ctt ttt ttg tgt gtt ttg tgt gta taa aaa aat atg tgc gcc ccc ccc cct cta taa aat atg tgg ggc gcc cct ctt ttt tta tac act ctt ttt tta tat atg tgc gca cat atg tgt gtt ttg tgg ggt gtt tta tat att tta tac acc ccc cct cta tag agc gca caa aac acc cca cac aca cat att ttg tga gag agg ggt gtt ttg tgt gtt ttt ttc tct ctg tgc gct ctt tta tat atg tgg ggt gtc tct ctt ttt ttg tgc gcg cga gat atg tgc gca cag agc gct cta taa aac acc ccc cct cta tac act cta taa aat att ttg tgt gta tat ata tag agc gcc ccc ccc cct ctg tgt gtt tta taa aat atg tgg ggc gct cta tac act ctt ttt tta tat att tta taa aaa aaa aac act cta taa aat ata taa aac aca cac act cta tag agg gga gat att ttg tgt gtt ttg tga gat atg tga gag agt gtg tgg ggt gtc tca cat ata tat ata tac act ctg tgg ggc gct ctc tcg cgt gtc tcc cct ctt ttc tct cta tat atg tgc gca cac acc cct ctg tga gag agc gcc ccc cca cat atc tca cac acc cct ctc tct ctc tct ctt tta taa aat ata tac act cta taa aag agt gta tat atg tgt gtt ttg tgc gca cac acc cca cac aca cag agg ggt gtg tga gac aca cat ata tac acc cca caa aaa aaa aac aca cat att ttt ttc tct cta tac act cta taa aac acc cct ctc tcc ccc cct ctc tcc cct ctc tcc cct ctc tct ctt ttc tct ctc tcg cgg ggc gca caa aat att ttc tcc cca cac acc ccg cgg ggg gga gat att ttg tga gac act ctt ttc tcc cca caa aag aga gat atg tga gag agt gtt ttg tgg gga gat atg tga gag agt gtt ttt ttt ttt ttc tca caa aaa aaa aaa aat atg tgt gtt tta tag agc gca cac acc cca cag agt gta tat ata tac acc cct cta taa aat att ttt ttt ttg tgg ggt gtt ttc tct ctc tct cta taa aac aca cac aca cag aga gat att tta taa aat ata tac act cta tac aca cat att tta tac act ctc tcg cga gat atc tct ctt tta tac acc cct cta tac acg cga gag aga gat atg tgt gtt ttg tgt gtc tct ctc tct ctt ttc tca caa aac aca caa aag agt gtt ttg tgt gtt tta taa aaa aag agc gcc ccc cct ctt tta taa aat atg tga gag agt gtc tct ctt tta tac aca cat ata tag aga gac acc cct ctt tta taa aaa aag aga gag agc gct ctt ttg tgg ggc gca caa aat att tta tat ata tac act ctt tta tat att tta tac aca caa aac aca caa aaa aat atg tgg ggc gcc ccg cgt gtg tgg ggt gta tac aca cat att ttt ttg tgg ggc gct ctt ttg tgg ggt gtt ttt ttc tca cat att ttg tgc gct ctg tgg ggg ggc gct ctt ttg tgt gtt ttg tgc gcc cct ctt tta tag agc gct ctc tct cta tat atg tgc gcg cgt gtc tct ctt ttc tct ctt ttc tca cat ata tac act ctg tgt gtg tgc gct ctg tgc gca cac act ctg tgg ggt gtt ttg tgt gtg tgg ggc gca cac aca caa aaa aac act ctg tgt gta tat atg tgg ggg gga gaa aaa aaa aac act ctt tta taa aag agt gtg tgt gta taa aat atc tcg cgt gtt ttg tgt gtt ttg tgt gtg tga gat ata tag aga gat ata tac acg cga gag agg gga gaa aat ata tac acg cga gac acc cct ctc tcg cga gag agc gcc ccg cgc gca cat ata taa aag agg ggt gtt ttc tca cat atg tgt gtt ttc tca cac act cta taa aat att tta taa aac acg cga gaa aac act cta tat atc tca caa aat atg tga gag aga gag agt gtt ttc tca caa aaa aag aga gac acc cca cac acc ccc cca cac act ctc tct ctc tct ctt ttg tgt gtt tta tag agt gtg tgt gtt ttc tct ctc tca cac act ctc tct ctc tct ctt ttt ttt ttt ttt ttg tgg ggt gtc tca cac act ctg tgc gca cat att ttt ttt ttc tca caa aaa aaa aac acc cct ctc tct ctc tct cta tat atg tgt gta tac acc cct ctg tga gag agc gca cat att ttg tgt gtc tca cag aga gaa aat att tta tat att ttc tct ctg tgg ggt gtt ttg tgc gca cat atg tgc gct ctt tta tag agg ggg ggc gct ctt ttg tgt gta tat att tta taa aaa aaa aac act ctg tgc gcc ccc cca caa aag agc gct ctg tga gat ata tac aca cag agc gct ctg tgg ggt gtc tct ctt ttt tta tat ata tac aca caa aaa aat att ttt ttt ttc tcg cga gaa aat att ttg tga gac act ctt ttc tcc ccc cca cat atc tct ctg tgc gca cag aga gaa aat atc tca caa aac act ctg tgg ggt gta tac act ctc tca caa aat atc tca cag agt gtt ttt ttc tct ctg tgt gtc tcg cga gat atc tcg cgt gtg tga gag agt gtc tct cta tac act ctt ttc tca caa aac act ctc tca cat atg tga gat atg tgg ggt gtc tct ctt tta tac acc ccg cga gaa aac aca cat atg tgt gtt tta tac act cta tag agt gtg tgt gtg tga gaa aat atc tct ctt ttt ttt ttt ttg tga gac acg cgt gtt ttg tgg ggt gtt tta tac act ctc tca cag agt gtt tta taa aat att tta taa aac acg cga gaa aac act ctc tct cta tat atg tgg gga gat att tta tac acg cgt gtg tgt gtc tct ctc tct ctg tgc gct ctt tta taa aat atc tca caa aaa aat att ttt ttg tgg ggc gca cag aga gaa aag agt gta tac acc cct ctt tta taa aat att ttc tca cac acc ccg cgt gta tat ata tac act cta tac act ctt ttg tgt gtt ttt ttg tgt gta tat ata tat atc tcc ccc cct cta taa aaa aac acc ccc cca cac aca cag agc gct cta taa aag agt gta tat ata tac aca cac acc cct ctt ttt tta tag agt gtt ttg tgg ggc gca cac act ctt ttc tca cat att ttg tgc gca cac acc ccc cct ctg tgt gtg tgc gct ctg tgt gtg tgg gga gaa aac act ctg tgt gtc tca cag agc gct cta tat atc tcc cct ctt ttt ttg tgc gct ctg tgg ggt gtt tta tat ata tac act ctg tga gaa aat atc tct ctg tgc gct ctg tgt gtt tta taa aat att ttc tct cta tac aca caa aaa aaa aag agc gct ctt ttt ttg tgg ggc gcc cca caa aaa aac aca cag agg gga gac acg cgc gca cag agc gct ctc tca cag agc gcg cga gaa aat atc tcg cgc gct ctt ttg tgg ggt gtt ttg tgc gct cta tac aca cat ata taa aag agg gga gat atg tgg gga gag agg gga gaa aat atc tcc ccc cct ctg tga gac acg cgg gga gat atg tgt gtt ttc tcc ccc cct ctc tct cta tac acc cct ctc tcc ccg cgg ggc gca cac act ctc tca caa aag agt gtt ttt tta tat att ttc tcg cgc gcg cgc gca caa aaa aag agc gcg cga gag agg gga gaa aag aga gag agg gga gag agt gtc tca cat att ttc tct ctc tcc cca caa aac act cta taa aag aga gaa aaa aac act ctg tgc gcg cgc gct cta tac acg cgt gtt tta taa aag agc gcg cgt gta tag aga gat att ttt ttt ttc tct ctc tct ctt ttc tct ctg tgc gcg cgc gcc ccc cct ctg tga gaa aag aga gac acc cct ctt tta tag agt gtg tgt gtt tta tat att ttg tgt gtc tcc cca caa aac acc cca caa aac aca cac aca cac act cta tat atg tgt gtc tca cag agg ggg ggt gtt tta tac aca cat att ttt ttt ttc tca cag aga gac acc ccc ccc cca caa aac aca cat atg tgt gtg tgg ggt gta tat atc tct cta tac acg cgt gtt ttc tcg cgg ggg ggt gtc tca cat atc tca cat att ttt tta tac aca cac act ctc tca cag agt gtt ttc tca cac aca caa aat att ttg tgg ggc gct ctt tta taa aaa aac acc cct ctt tta tat atg tgg ggc gcg cgg ggc gcc cca caa aac acc cct ctg tgt gtt ttt ttc tct ctg tga gag agt gta tac acc cca cat ata tat att tta tac act ctc tct cta tag agc gct ctt ttt ttg tgc gct cta taa aaa aat atc tct ctc tca cac act ctg tga gat atg tga gaa aag aga gat att ttt tta tag agc gct cta tag aga gag aga gat att ttt ttt ttt ttc tca cac acc ccc cca cat att ttg tgc gcg cgc gct ctc tct ctt ttt ttt ttt ttg tgc gcg cgc gca caa aat atg tgt gtc tca cag aga gat att ttt ttg tga gag agc gct cta tac aca cat atg tga gag agt gtt ttc tcg cgc gcc cct ctt ttg tgc gct ctg tgc gcg cgc gca caa aaa aaa aac act ctc tct ctt ttg tgt gtt ttc tct ctt tta taa aat atg tgc gca cat atc tca cag aga gag aga gat atc tct cta tac act ctg tgt gtg tgc gct cta taa aac act ctt tta tac aca cat ata tag aga gat att ttt tta taa aag agc gcc cct ctg tgt gtg tgt gta tat ata tag aga gag agt gtt tta taa aac aca cac acg cgg ggc gca caa aat atc tcc ccc cct cta tac act cta tat att tta taa aag agg gga gat att ttg tgg ggc gct ctt ttc tct ctc tcg cgt gtt ttc tca cag agg ggg gga gat att ttt ttt ttc tcc ccc cct ctt ttt tta tac acc cca cat ata tag agt gtg tgg ggc gcc cct ctc tcc ccc cct ctt ttt tta tac aca cat ata tat atg tgt gtc tca caa aat atc tct ctc tct cta taa aaa aat att ttg tgc gca cat atg tgc gca cac act ctt ttg tga gat atg tga gat atg tgt gtt tta tac act ctc tcg cgc gca caa aat att tta tac aca cat atc tca cat att tta tac aca caa aat atg tgc gcc cca cat atg tgc gct ctt ttt tta tag aga gaa aac act ctt tta tat atc tcc cct ctc tca caa aac aca caa aaa aat atg tgt gtt ttt ttg tgt gtt tta tac act ctc tcc cct ctt ttt ttg tgt gtc tcc ccg cgt gta tag aga gat atg tgt gtt ttg tgt gtc tct ctc tcc cca cat ata tac acg cgg ggt gtc tct ctt ttc tcc cca caa aat atc tca cag agg ggg ggt gta taa aat ata taa aaa aac aca caa aaa aat att ttg tgt gtt ttc tca cat att ttc tct ctt tta tac acc ccc ccc cca cat att ttt ttt tta tac aca cat atc tca cat atc tcc cca cag agg gga gat att ttt ttt tta taa aac acg cga gaa aac act cta tat atg tgg ggc gct ctt ttt ttc tct ctc tcg cgg ggc gcg cgt gtc tct ctt ttt tta tat att ttt tta taa aaa aac acc ccc ccg cgt gtc tcc cca cag agc gct cta tag agt gtc tcc ccc cca cag agt gtt ttt ttc tct ctc tcc cct ctg tgc gca cat att ttt ttc tca cat atc tcg cgc gca cat att ttg tga gag agt gtc tct cta tac act ctg tga gac act ctc tct cta tat atc tcg cgt gtt ttt ttt ttc tca cac aca cat ata tac aca cat att ttc tcc cct ctg tgc gct cta tag agc gcg cgg ggc gct cta tat atg tgt gta tag agc gct ctg tgc gct ctt ttt tta tag agc gct ctg tgt gtc tca caa aat atg tgt gtg tgt gtg tgt gtc tct ctc tca cat att ttc tcc ccc ccc cct cta tat att tta tat att tta tac act ctg tgc gct cta tac acg cgt gtc tca caa aag aga gat ata tac act ctt ttg tgt gtc tcg cgt gtc tcg cgc gca cag agc gca cat att tta tat atc tca cag aga gaa aac act cta tat atg tgg ggt gtt ttc tct ctc tct cta tat att ttt ttc tcc cct ctt ttg tgt gtt ttc tct ctt ttt tta tat ata taa aac act ctt ttt ttt ttt tta tat att tta tag agc gcc cca cat att ttg tgt gta tac act cta tag agt gtc tca caa aat atg tgg ggt gtg tgt gta tac aca cat att tta tat atc tcc cca caa aac act ctg tgg gga gaa aag agt gtt ttg tgc gcc cct ctg tga gat ata tag agc gcc cct ctt ttc tct ctt tta tag agt gtt tta tat atc tcc cct ctc tca cat ata taa aat ata tac act ctt ttt ttg tgg ggt gtt ttt ttg tgt gta tag aga gat ata tag aga gaa aat att ttc tcg cgt gtt ttt ttc tct ctg tgt gtc tct ctc tca cat atg tgc gct ctg tga gaa aat att ttc tcc cct cta tac aca cat att ttc tcc cca cac act ctg tgt gtt ttt ttg tga gac aca cat atg tgc gcg cgt gtt ttc tct ctc tca cac act ctt ttt tta tat att ttc tcg cgt gtg tgt gtt tta tag agt gta tac aca cag agt gtt ttt ttc tct ctt ttc tct ctc tca cat atg tgg ggt gta tat atg tgg ggt gtc tcc ccc cct ctg tgt gtc tca cat ata tac aca cac aca cac acc cca caa aaa aac acc cca cat att tta tat att ttt tta tat att tta tag aga gaa aaa aac act ctt ttc tcg cga gat atc tca cag agc gcg cgt gtt ttg tgc gca cag agc gct ctg tgt gtt ttc tct ctc tcg cgt gtt ttg tgt gtt ttt ttt ttt tta tat att ttt ttg tgc gca cac act ctc tct ctt ttc tct cta tac act ctt tta tat ata tat ata tag aga gag agt gtg tgc gca cac act ctt tta tat ata tat att tta tag agc gcc ccg cgt gtt ttt ttt tta tag agt gta taa aag aga gat att tta tag agc gcc cct cta tag agt gtt ttt ttc tct ctg tgt gta taa aac act ctg tga gac act ctt ttc tct ctc tcc cct ctt tta taa aaa aac acg cgg ggc gca caa aat atg tgt gtt ttt ttc tcc cca cac act ctg tgt gtt ttt ttt ttc tcg cgt gtg tgc gcc cct ctg tgc gca caa aac acg cgc gcg cgc gcg cga gat att ttc tca cag agt gtt ttc tcc cct ctc tct ctt ttc tca cac aca cat ata taa aat atc tcg cgc gcc ccc ccc ccg cga gag agc gct ctc tcg cgc gct ctt tta tat atc tcg cgt gtt ttt tta taa aag agc gca cag agc gct ctc tct ctg tgc gcg cgc gct cta tac act cta tat atg tgg ggg ggt gtc tcc ccc ccg cgt gtg tgt gta tag aga gag agg ggc gct cta taa aat atc tcc cca cat att tta tag agt gtc tct ctc tct ctc tct ctt ttt ttg tgg gga gac aca cat ata tat atg tgg gga gaa aaa aaa aac acg cga gaa aac act cta tat atg tgt gtt tta tac acc ccc cct ctt ttt ttg tgt gtc tcc cca caa aag aga gaa aac acg cga gaa aat ata tag agg ggg ggt gtt ttg tgt gtt ttc tca cat ata tag agt gta taa aaa aac act ctt ttt ttt ttt ttc tca cat att ttt ttt ttt tta tac acc ccg cgt gta tag agt gta tat atg tgt gtg tgc gct cta tat ata taa aac aca cac act ctc tct ctt ttg tgg ggt gtg tgt gtg tgt gta tat atg tgg ggc gct ctt ttt ttc tcc cct ctt tta tac acg cgg ggc gct cta tac act cta tag aga gat att tta tat atg tgt gtg tgt gtg tgc gca caa aat atg tgt gta tat atg tga gac aca cag agg ggc gct ctt ttc tca caa aat ata tac acc ccc cct ctg tgt gtt tta tag agt gtt ttc tca cag agc gcc ccc ccg cgc gca cat att tta tat ata tac act ctt ttg tgt gta tat ata taa aat ata tac act ctg tgg gga gac acg cgt gtt ttc tca cag agt gtc tct cta tat atg tgt gta taa aaa aaa aat att ttc tcc cca cag agg gga gat ata tag agt gta taa aaa aac acc ccc ccc ccc cct ctc tct cta tac acc cca cac acc cct ctg tga gac acg cga gag agt gtg tgg ggg ggt gtt ttt tta taa aac acg cga gaa aac act ctc tcc cct ctt ttc tca cat ata taa aat atg tgt gtc tct cta taa aat ata tat atg tga gac acg cgc gca caa aac act ctc tca cac act ctg tga gag agg ggc gcg cgc gca cag aga gat att tta tat att ttg tgc gcc cca cat att tta tat att tta taa aaa aag aga gac act ctg tgg gga gaa aac act ctt ttt ttg tgc gca cat atg tgg ggt gtc tcc ccc cct ctg tga gat atc tct ctt ttt ttc tct ctc tct ctt tta taa aat att tta tac act cta tat atc tcg cgt gta tac act cta tac aca cag agt gta tat atg tgg gga gat ata tac acc ccc cca cat atc tcc ccc ccg cgt gta tag agt gta tat atg tga gac act ctg tgt gtc tct cta tat atg tgt gtc tct ctt ttt tta taa aaa aaa aat atg tgt gtt ttt ttg tgt gtt ttt ttt tta tat atg tgg ggc gct ctc tcc cct cta tat atg tgg ggc gcc cca cat atc tct ctt ttc tcc cca cat atg tgg ggc gcg cgc gct cta tat atc tca caa aat ata tat att ttt tta tag agc gcg cgc gcc cca cat att ttt tta tat atc tcc cca caa aat att ttg tga gat atc tct cta tag agc gct ctt ttc tcc ccc cca cag aga gat ata taa aat atc tct ctc tct ctg tgg ggc gca cat att ttg tgt gta tag agc gca cag agc gct ctg tgt gtt ttt ttc tca cag agc gct cta tat atg tga gat atg tgt gtg tgg gga gat att ttt ttc tcc cct cta tac act ctt ttt ttg tgt gtg tgc gca cag aga gag agt gta tat atc tcc ccg cgg ggc gct ctg tgt gtt ttt tta tat atg tga gag aga gaa aac act ctg tgg gga gat atc tca cat atg tgg ggt gtg tgg ggt gtc tca cat att ttc tca caa aat atc tcc cct ctg tga gag aga gac act cta taa aat att ttg tgc gcc cct ctt ttt ttt ttg tga gaa aac acg cgt gtt ttc tcc cca caa aat att ttg tgg ggt gtg tgg ggt gta tac aca caa aac act ctg tgt gtc tcg cgt gta tac acg cgt gtc tcc cca cac act ctc tcg cgt gta tag aga gag agg gga gac act ctc tct cta tac acc cca cag agt gtg tgt gta taa aac act ctg tgc gct ctg tgt gtt ttg tgt gta taa aac acc cca caa aat atg tgg ggt gtc tca cac acc cct ctc tca caa aaa aaa aat atg tgg ggc gct ctg tgg ggc gca cat atg tgc gca cat att ttt ttc tcg cgg ggt gtg tgc gct ctt ttg tgt gtg tga gac act cta tac acg cga gac aca cag aga gac act ctt ttc tcc cct cta taa aat atg tga gaa aag agt gtc tca cac acc ccg cgt gtg tgg ggc gcc cca caa aaa aac acc ccc cca caa aat atg tgt gtg tgc gct ctg tga gat att ttg tgc gct ctt ttt tta taa aaa aaa aaa aat atg tgg ggt gtg tga gaa aag agc gcg cgg ggc gca caa aaa aag agc gct cta tac acg cgg gga gaa aac act cta taa aat att ttc tcc ccg cgg ggc gcg cgt gtt ttg tgc gcc cca cat att ttt tta tac acc cca cat ata tag aga gat ata tat ata taa aag agg ggc gca cag agg ggt gta taa aat att tta tac aca cag agg gga gag agt gtc tcc ccg cgc gcc cct cta tat att tta tac acg cgg ggc gcg cgg gga gat ata tat att ttg tga gaa aac act ctt ttg tgc gca cat att ttg tgc gct ctt ttc tcg cga gag agc gct ctt tta tag agg ggc gct ctc tct ctt ttt tta tag agt gta taa aag aga gag agt gta tat atc tct ctt tta taa aat att ttg tga gat att ttt ttt tta taa aac acg cga gaa aat atc tct ctc tca caa aat att ttt ttc tca cat att ttg tgt gtt tta tat atg tgg ggc gca cat atc tcc ccc ccc cct ctg tgc gct ctg tgc gca cac acc cct ctc tcg cgt gtg tgc gct ctg tgt gtt ttt ttc tcc cct ctt ttt ttg tgc gcc ccg cga gat ata taa aac aca caa aat atg tga gat ata tat ata taa aac aca caa aaa aat ata tac aca caa aaa aac acc cct ctg tgt gtc tct ctc tcg cga gag agg ggt gta tag aga gag agg gga gac acg cgt gta taa aat atc tcc cca caa aaa aaa aac acc cca cac acg cga gag agc gct ctg tgc gca cac acc cca caa aaa aat ata taa aac aca cac act ctg tgt gtc tct ctc tct ctt ttg tgg ggt gta tac aca cac act ctg tgg ggg ggc gct ctt tta tac acc ccc cca caa aac aca cac acg cgg ggg gga gaa aaa aag agt gtc tcc ccc cct ctc tct ctt tta tac acc cct ctt ttt ttc tcc cca cac acc cct ctg tgg ggg ggc gca cag agg ggg ggt gtg tgt gta tac acc cct ctc tct ctt tta taa aat atg tgc gcc cca caa aat att ttc tcc cca cac acc ccc ccc cct ctg tgc gcg cgc gca caa aaa aaa aat atg tgc gct ctg tgg ggg ggt gta tat att ttg tgg ggc gcg cgg gga gag aga gac aca cag agg gga gac aca cag aga gaa aaa aaa aaa aat att tta taa aat ata tac acc ccg cgg ggg gga gaa aat atg tgg gga gaa aat att tta taa aag agc gca caa aac act ctg tgg ggc gct ctc tcc ccc cca cag agg ggt gtg tgg ggt gta tac act ctt ttc tct cta tac act cta tac aca cac act ctg tgg gga gaa aac act ctg tgg gga gac acc ccc ccg cga gaa aag agc gca cag agc gca cac act ctc tcc ccc cca cat att ttc tcc ccg cgg ggg ggc gct ctg tgt gtt tta taa aag agg gga gat atg tgg ggc gca cat atc tcg cgt gtt ttt ttg tgg ggg ggt gtc tcc cca cat atg tga gaa aag aga gat atg tgg ggc gcg cgc gcc cca cac act ctg tga gat atg tgc gct ctc tcc cct ctt ttc tca caa aac act ctt ttt ttt ttg tgg ggg gga gac acg cgc gcg cgg gga gaa aac acc ccc cct cta taa aac aca caa aat atg tga gat att ttc tca cag agc gct cta tat att ttg tgt gtt tta tac aca cac aca caa aat att ttc tcg cgc gcg cgc gcc ccc ccg cgg ggt gta tac act cta taa aag agc gct ctt ttc tcc cct cta taa aaa aaa aaa aac act ctt ttc tcc cca cac aca cat att ttg tga gag agg ggg ggg gga gac act ctg tgg gga gag agg ggc gca caa aat ata tag agt gtc tca caa aat atc tca cat atc tct ctt ttc tca caa aag aga gag agc gcc cct ctc tct cta tag agc gcg cgc gca caa aag agc gca cag aga gaa aaa aac act ctc tct ctt ttc tcc cca cag aga gat atc tct cta tag agt gtt ttc tca cac aca caa aag agg ggt gtt ttc tca caa aag aga gat atc tca cag agg gga gaa aaa aac act ctc tct cta tac acc ccc ccg cgc gca cag agc gca cac act ctt ttc tct ctc tcc cca cag agg ggt gtc tcc cca cat atc tct ctg tgg gga gaa aat atc tcg cgg gga gag agc gca cag agt gta tag agg gga gag agg ggt gtg tga gat att ttt tta tac act ctt ttt tta tac acc cct ctt ttg tga gat atc tct ctt ttc tct ctg tga gaa aac aca cag aga gac act cta tac aca caa aag agc gcc ccc cct ctt ttg tga gag agt gtc tct ctg tgg ggc gca caa aaa aag agt gta taa aaa aag agc gca caa aat atc tcg cgc gca cag agc gcc cca caa aaa aaa aag agt gta taa aat atc tca cac act cta taa aag aga gaa aaa aag aga gat atg tgc gct ctg tgc gct ctg tgc gct ctg tgc gct cta taa aaa aaa aaa aat ata taa aag aga gat atg tgc gcg cgc gcc cca cac aca caa aag agc gcg cgc gca cac act ctt ttc tcc cca cac acc cca caa aaa aaa aag agt gtt ttt ttc tca caa aac aca cat atg tgg ggt gtg tgc gca caa aag agc gct ctt ttt ttt ttg tgg ggt gtc tct ctt ttc tcg cgc gcg cgg gga gac acc cca cag agg gga gag aga gac acc cct ctc tcc cca cag agg ggg gga gaa aaa aac act ctt ttt ttg tgg ggt gtg tga gat atc tct ctt ttc tca caa aat att ttg tga gaa aat ata taa aaa aac act ctc tcg cgg ggc gca cac act ctg tga gag agg gga gac acc ccc cca cac acc cct ctt ttg tgg ggc gcc ccc ccc cca caa aaa aat att ttg tgc gct ctg tga gag agc gct ctt ttg tgt gtt ttc tcc cct cta tac aca cag agc gcc cca cag agt gtg tgc gct ctt ttt ttt tta tat atg tgg ggg ggt gta tat atg tgt gtc tcg cgc gca caa aat att ttt tta taa aaa aac act ctt tta tac acc ccc cca cat atc tca cag aga gaa aac aca caa aat atg tga gat atg tga gat atc tca cat atg tgg ggc gca caa aac acc ccc cct ctg tgt gtg tgt gta tac act ctt ttc tcc cct ctt ttc tcg cgg ggt gta tac aca cag agt gtg tgg gga gag agc gcc cca cat att tta taa aaa aac act ctt ttg tga gac acc ccc cca caa aaa aag aga gaa aat atc tcc ccc cca caa aac act cta tac aca caa aat ata taa aag agt gtg tgg ggt gtt ttg tgg gga gag agc gct ctt ttc tct ctt ttg tga gag agc gca caa aaa aaa aat ata tat att ttg tga gat atg tgc gcc cct cta tac aca caa aaa aaa aac acc cct ctt ttc tcc ccc cct cta taa aag aga gaa aaa aag aga gaa aaa aaa aag aga gaa aaa aac aca caa aaa aaa aag agg ggc gca cac acc cca caa aaa aaa aag aga gaa aag aga gaa aat atc tca caa aac aca cag aga gac acc cca caa aaa aat atg tgt gtc tct ctg tga gaa aac acc cct ctc tcc cca caa aaa aag agg gga gag agc gca cag agc gcg cgt gtg tgt gtg tgc gca caa aag agg ggt gta tat atc tca cat atc tca cac act ctc tca cag agc gcg cgc gca cac act ctc tcg cgc gca cac acc ccc ccg cgt gtc tcc cca caa aag agt gtg tgt gtt ttc tca cag agc gcc cct ctg tgg ggt gtc tcc cca caa aat atg tga gat att ttg tga gat atg tgt gtt tta taa aac aca cac act ctg tga gat att tta tag agt gtg tgt gtc tca cac act ctc tca caa aaa aag agt gta taa aac aca caa aag aga gat atc tcg cgc gcg cgg ggc gca caa aat atc tcg cgt gtt ttg tgg ggg ggg ggt gtg tgt gtg tgg ggt gta taa aac acc ccc ccc cca caa aac act ctc tca cac acc cca caa aac acg cgc gct ctt ttg tgt gtc tcc cca cac act ctc tct ctt ttg tgc gca cac aca cag aga gaa aat atg tgg gga gaa aat atc tca cat atg tgt gtt ttg tgc gca caa aat att tta tac aca cag agt gtg tgc gca caa aat ata taa aag agg ggt gta taa aat att tta tat ata taa aac acc ccc cca cat att ttt tta taa aat att ttg tga gat ata tag agc gct cta tat atg tgc gct ctt ttt tta tat att tta taa aaa aag agt gtg tgt gtg tgt gta tag agc gct ctg tgt gta tag aga gag aga gag aga gaa aat atg tgc gct cta taa aaa aag aga gac act ctg tgt gtc tca cac acc cct ctc tct ctg tgc gcg cgt gtg tga gat att ttg tgc gca caa aag agt gtg tga gaa aac aca cag agt gtg tgc gcc ccc ccc ccc ccc ccg cgg ggg gga gaa aag aga gag agc gct ctc tct cta tac aca cag agt gtg tgt gtg tga gaa aaa aat atg tgt gta taa aaa aat ata taa aaa aaa aaa aat ata tag agc gct cta tat att tta tat att ttc tca caa aat att tta tag aga gat att tta tag agg ggc gct cta taa aat att tta tag aga gat atg tga gat att ttt ttg tgc gca caa aaa aaa aaa aaa aaa aaa aaa aaa aaa aaa\n"
          ]
        }
      ],
      "source": [
        "print(texts[1])"
      ]
    },
    {
      "cell_type": "markdown",
      "metadata": {
        "id": "0ECaTpos5Jgn"
      },
      "source": [
        "8. Now apply the BAG of WORDS using CountVectorizer using NLP"
      ]
    },
    {
      "cell_type": "code",
      "execution_count": null,
      "metadata": {
        "id": "dTeTlUg65Jgn"
      },
      "outputs": [],
      "source": [
        "cv = CountVectorizer(ngram_range=(2,2))\n",
        "X = cv.fit_transform(texts)"
      ]
    },
    {
      "cell_type": "code",
      "source": [
        "cv"
      ],
      "metadata": {
        "colab": {
          "base_uri": "https://localhost:8080/"
        },
        "id": "rxVhSuAUpD2v",
        "outputId": "397b3c21-945a-4466-b77f-86f50aea7996"
      },
      "execution_count": null,
      "outputs": [
        {
          "output_type": "execute_result",
          "data": {
            "text/plain": [
              "CountVectorizer(ngram_range=(2, 2))"
            ]
          },
          "metadata": {},
          "execution_count": 49
        }
      ]
    },
    {
      "cell_type": "code",
      "source": [
        "X"
      ],
      "metadata": {
        "colab": {
          "base_uri": "https://localhost:8080/"
        },
        "id": "-3m_IkbwpHdG",
        "outputId": "815b0927-1d35-482f-d10a-f7b425893af0"
      },
      "execution_count": null,
      "outputs": [
        {
          "output_type": "execute_result",
          "data": {
            "text/plain": [
              "<553x1172 sparse matrix of type '<class 'numpy.int64'>'\n",
              "\twith 143022 stored elements in Compressed Sparse Row format>"
            ]
          },
          "metadata": {},
          "execution_count": 50
        }
      ]
    },
    {
      "cell_type": "code",
      "execution_count": null,
      "metadata": {
        "id": "_E1v9BRh5Jgn",
        "outputId": "9804f40c-98de-446a-85e2-a54e31d37c30",
        "colab": {
          "base_uri": "https://localhost:8080/"
        }
      },
      "outputs": [
        {
          "output_type": "stream",
          "name": "stdout",
          "text": [
            "(553, 1172)\n"
          ]
        }
      ],
      "source": [
        "print(X.shape)"
      ]
    },
    {
      "cell_type": "markdown",
      "metadata": {
        "id": "mdpTObAF5Jgo"
      },
      "source": [
        "9. Check class distributation of the dataset"
      ]
    },
    {
      "cell_type": "code",
      "execution_count": null,
      "metadata": {
        "id": "CCx_yxEh5Jgo",
        "outputId": "94afa887-2328-4503-db0d-557a67fef3c7",
        "colab": {
          "base_uri": "https://localhost:8080/",
          "height": 279
        }
      },
      "outputs": [
        {
          "output_type": "execute_result",
          "data": {
            "text/plain": [
              "<matplotlib.axes._subplots.AxesSubplot at 0x7fa6baa6d8d0>"
            ]
          },
          "metadata": {},
          "execution_count": 52
        },
        {
          "output_type": "display_data",
          "data": {
            "text/plain": [
              "<Figure size 432x288 with 1 Axes>"
            ],
            "image/png": "[encoded data removed]"
          },
          "metadata": {
            "needs_background": "light"
          }
        }
      ],
      "source": [
        "data['class'].value_counts().sort_index().plot.bar()"
      ]
    },
    {
      "cell_type": "markdown",
      "source": [
        "10. Dictionary representation of One-hot 2D vector representation of generated DNA sequence words with region size = 2"
      ],
      "metadata": {
        "id": "OTwqUNJR42yx"
      }
    },
    {
      "cell_type": "code",
      "source": [
        "seqs = texts\n",
        "CHARS = 'ACGT'\n",
        "CHARS_COUNT = len(CHARS)\n",
        "\n",
        "maxlen = max(map(len, seqs))\n",
        "res = np.zeros((len(seqs), CHARS_COUNT * maxlen), dtype=np.uint8)\n",
        "\n",
        "for si, seq in enumerate(seqs):\n",
        "    seqlen = len(seq)\n",
        "    arr = np.chararray((seqlen,), buffer=seq)\n",
        "    for ii, char in enumerate(CHARS):\n",
        "        res[si][ii*seqlen:(ii+1)*seqlen][arr == char] = 1"
      ],
      "metadata": {
        "id": "Ng-OXu6VsGFG"
      },
      "execution_count": null,
      "outputs": []
    },
    {
      "cell_type": "code",
      "source": [
        "res"
      ],
      "metadata": {
        "colab": {
          "base_uri": "https://localhost:8080/"
        },
        "id": "Os6pckEmsHvf",
        "outputId": "3083806b-0cf0-4ad0-8d39-cca80aa123eb"
      },
      "execution_count": null,
      "outputs": [
        {
          "output_type": "execute_result",
          "data": {
            "text/plain": [
              "array([[0, 0, 0, ..., 0, 0, 0],\n",
              "       [0, 0, 0, ..., 0, 0, 0],\n",
              "       [0, 0, 0, ..., 0, 0, 0],\n",
              "       ...,\n",
              "       [0, 0, 0, ..., 0, 0, 0],\n",
              "       [0, 0, 0, ..., 0, 0, 0],\n",
              "       [0, 0, 0, ..., 0, 0, 0]], dtype=uint8)"
            ]
          },
          "metadata": {},
          "execution_count": 54
        }
      ]
    },
    {
      "cell_type": "code",
      "source": [
        "res.shape"
      ],
      "metadata": {
        "colab": {
          "base_uri": "https://localhost:8080/"
        },
        "id": "wI2Z-3KKsLit",
        "outputId": "3ff2c9f2-0430-41ff-92b0-932b600b8cc6"
      },
      "execution_count": null,
      "outputs": [
        {
          "output_type": "execute_result",
          "data": {
            "text/plain": [
              "(553, 496428)"
            ]
          },
          "metadata": {},
          "execution_count": 55
        }
      ]
    },
    {
      "cell_type": "markdown",
      "source": [
        "11. Print full 2-D vector"
      ],
      "metadata": {
        "id": "F_ZIQriy6heI"
      }
    },
    {
      "cell_type": "code",
      "source": [
        "np.set_printoptions(threshold=100000000)\n",
        "print(res)"
      ],
      "metadata": {
        "colab": {
          "base_uri": "https://localhost:8080/"
        },
        "id": "AjOTAM94vOyP",
        "outputId": "f71965f6-a1bc-4539-c288-77e68fcd4eb9"
      },
      "execution_count": null,
      "outputs": [
        {
          "output_type": "stream",
          "name": "stdout",
          "text": [
            "[[0 0 0 ... 0 0 0]\n",
            " [0 0 0 ... 0 0 0]\n",
            " [0 0 0 ... 0 0 0]\n",
            " ...\n",
            " [0 0 0 ... 0 0 0]\n",
            " [0 0 0 ... 0 0 0]\n",
            " [0 0 0 ... 0 0 0]]\n"
          ]
        }
      ]
    },
    {
      "cell_type": "code",
      "source": [
        "df = pd.DataFrame(res)\n",
        "df"
      ],
      "metadata": {
        "colab": {
          "base_uri": "https://localhost:8080/",
          "height": 672
        },
        "id": "tqTcn98V-LPy",
        "outputId": "d8b1f5f5-5f1a-4f25-a3b0-740636fef89c"
      },
      "execution_count": null,
      "outputs": [
        {
          "output_type": "execute_result",
          "data": {
            "text/plain": [
              "     0       1       2       3       4       5       6       7       8       \\\n",
              "0         0       0       0       0       0       0       0       0       0   \n",
              "1         0       0       0       0       0       0       0       0       0   \n",
              "2         0       0       0       0       0       0       0       0       0   \n",
              "3         0       0       0       0       0       0       0       0       0   \n",
              "4         0       0       0       0       0       0       0       0       0   \n",
              "..      ...     ...     ...     ...     ...     ...     ...     ...     ...   \n",
              "548       0       0       0       0       0       0       0       0       0   \n",
              "549       0       0       0       0       0       0       0       0       0   \n",
              "550       0       0       0       0       0       0       0       0       0   \n",
              "551       0       0       0       0       0       0       0       0       0   \n",
              "552       0       0       0       0       0       0       0       0       0   \n",
              "\n",
              "     9       ...  496418  496419  496420  496421  496422  496423  496424  \\\n",
              "0         0  ...       0       0       0       0       0       0       0   \n",
              "1         0  ...       0       0       0       0       0       0       0   \n",
              "2         0  ...       0       0       0       0       0       0       0   \n",
              "3         0  ...       0       0       0       0       0       0       0   \n",
              "4         0  ...       0       0       0       0       0       0       0   \n",
              "..      ...  ...     ...     ...     ...     ...     ...     ...     ...   \n",
              "548       0  ...       0       0       0       0       0       0       0   \n",
              "549       0  ...       0       0       0       0       0       0       0   \n",
              "550       0  ...       0       0       0       0       0       0       0   \n",
              "551       0  ...       0       0       0       0       0       0       0   \n",
              "552       0  ...       0       0       0       0       0       0       0   \n",
              "\n",
              "     496425  496426  496427  \n",
              "0         0       0       0  \n",
              "1         0       0       0  \n",
              "2         0       0       0  \n",
              "3         0       0       0  \n",
              "4         0       0       0  \n",
              "..      ...     ...     ...  \n",
              "548       0       0       0  \n",
              "549       0       0       0  \n",
              "550       0       0       0  \n",
              "551       0       0       0  \n",
              "552       0       0       0  \n",
              "\n",
              "[553 rows x 496428 columns]"
            ],
            "text/html": [
              "\n",
              "  <div id=\"df-a2633d2b-8b87-4733-b3b1-1afdcc6c7674\">\n",
              "    <div class=\"colab-df-container\">\n",
              "      <div>\n",
              "<style scoped>\n",
              "    .dataframe tbody tr th:only-of-type {\n",
              "        vertical-align: middle;\n",
              "    }\n",
              "\n",
              "    .dataframe tbody tr th {\n",
              "        vertical-align: top;\n",
              "    }\n",
              "\n",
              "    .dataframe thead th {\n",
              "        text-align: right;\n",
              "    }\n",
              "</style>\n",
              "<table border=\"1\" class=\"dataframe\">\n",
              "  <thead>\n",
              "    <tr style=\"text-align: right;\">\n",
              "      <th></th>\n",
              "      <th>0</th>\n",
              "      <th>1</th>\n",
              "      <th>2</th>\n",
              "      <th>3</th>\n",
              "      <th>4</th>\n",
              "      <th>5</th>\n",
              "      <th>6</th>\n",
              "      <th>7</th>\n",
              "      <th>8</th>\n",
              "      <th>9</th>\n",
              "      <th>...</th>\n",
              "      <th>496418</th>\n",
              "      <th>496419</th>\n",
              "      <th>496420</th>\n",
              "      <th>496421</th>\n",
              "      <th>496422</th>\n",
              "      <th>496423</th>\n",
              "      <th>496424</th>\n",
              "      <th>496425</th>\n",
              "      <th>496426</th>\n",
              "      <th>496427</th>\n",
              "    </tr>\n",
              "  </thead>\n",
              "  <tbody>\n",
              "    <tr>\n",
              "      <th>0</th>\n",
              "      <td>0</td>\n",
              "      <td>0</td>\n",
              "      <td>0</td>\n",
              "      <td>0</td>\n",
              "      <td>0</td>\n",
              "      <td>0</td>\n",
              "      <td>0</td>\n",
              "      <td>0</td>\n",
              "      <td>0</td>\n",
              "      <td>0</td>\n",
              "      <td>...</td>\n",
              "      <td>0</td>\n",
              "      <td>0</td>\n",
              "      <td>0</td>\n",
              "      <td>0</td>\n",
              "      <td>0</td>\n",
              "      <td>0</td>\n",
              "      <td>0</td>\n",
              "      <td>0</td>\n",
              "      <td>0</td>\n",
              "      <td>0</td>\n",
              "    </tr>\n",
              "    <tr>\n",
              "      <th>1</th>\n",
              "      <td>0</td>\n",
              "      <td>0</td>\n",
              "      <td>0</td>\n",
              "      <td>0</td>\n",
              "      <td>0</td>\n",
              "      <td>0</td>\n",
              "      <td>0</td>\n",
              "      <td>0</td>\n",
              "      <td>0</td>\n",
              "      <td>0</td>\n",
              "      <td>...</td>\n",
              "      <td>0</td>\n",
              "      <td>0</td>\n",
              "      <td>0</td>\n",
              "      <td>0</td>\n",
              "      <td>0</td>\n",
              "      <td>0</td>\n",
              "      <td>0</td>\n",
              "      <td>0</td>\n",
              "      <td>0</td>\n",
              "      <td>0</td>\n",
              "    </tr>\n",
              "    <tr>\n",
              "      <th>2</th>\n",
              "      <td>0</td>\n",
              "      <td>0</td>\n",
              "      <td>0</td>\n",
              "      <td>0</td>\n",
              "      <td>0</td>\n",
              "      <td>0</td>\n",
              "      <td>0</td>\n",
              "      <td>0</td>\n",
              "      <td>0</td>\n",
              "      <td>0</td>\n",
              "      <td>...</td>\n",
              "      <td>0</td>\n",
              "      <td>0</td>\n",
              "      <td>0</td>\n",
              "      <td>0</td>\n",
              "      <td>0</td>\n",
              "      <td>0</td>\n",
              "      <td>0</td>\n",
              "      <td>0</td>\n",
              "      <td>0</td>\n",
              "      <td>0</td>\n",
              "    </tr>\n",
              "    <tr>\n",
              "      <th>3</th>\n",
              "      <td>0</td>\n",
              "      <td>0</td>\n",
              "      <td>0</td>\n",
              "      <td>0</td>\n",
              "      <td>0</td>\n",
              "      <td>0</td>\n",
              "      <td>0</td>\n",
              "      <td>0</td>\n",
              "      <td>0</td>\n",
              "      <td>0</td>\n",
              "      <td>...</td>\n",
              "      <td>0</td>\n",
              "      <td>0</td>\n",
              "      <td>0</td>\n",
              "      <td>0</td>\n",
              "      <td>0</td>\n",
              "      <td>0</td>\n",
              "      <td>0</td>\n",
              "      <td>0</td>\n",
              "      <td>0</td>\n",
              "      <td>0</td>\n",
              "    </tr>\n",
              "    <tr>\n",
              "      <th>4</th>\n",
              "      <td>0</td>\n",
              "      <td>0</td>\n",
              "      <td>0</td>\n",
              "      <td>0</td>\n",
              "      <td>0</td>\n",
              "      <td>0</td>\n",
              "      <td>0</td>\n",
              "      <td>0</td>\n",
              "      <td>0</td>\n",
              "      <td>0</td>\n",
              "      <td>...</td>\n",
              "      <td>0</td>\n",
              "      <td>0</td>\n",
              "      <td>0</td>\n",
              "      <td>0</td>\n",
              "      <td>0</td>\n",
              "      <td>0</td>\n",
              "      <td>0</td>\n",
              "      <td>0</td>\n",
              "      <td>0</td>\n",
              "      <td>0</td>\n",
              "    </tr>\n",
              "    <tr>\n",
              "      <th>...</th>\n",
              "      <td>...</td>\n",
              "      <td>...</td>\n",
              "      <td>...</td>\n",
              "      <td>...</td>\n",
              "      <td>...</td>\n",
              "      <td>...</td>\n",
              "      <td>...</td>\n",
              "      <td>...</td>\n",
              "      <td>...</td>\n",
              "      <td>...</td>\n",
              "      <td>...</td>\n",
              "      <td>...</td>\n",
              "      <td>...</td>\n",
              "      <td>...</td>\n",
              "      <td>...</td>\n",
              "      <td>...</td>\n",
              "      <td>...</td>\n",
              "      <td>...</td>\n",
              "      <td>...</td>\n",
              "      <td>...</td>\n",
              "      <td>...</td>\n",
              "    </tr>\n",
              "    <tr>\n",
              "      <th>548</th>\n",
              "      <td>0</td>\n",
              "      <td>0</td>\n",
              "      <td>0</td>\n",
              "      <td>0</td>\n",
              "      <td>0</td>\n",
              "      <td>0</td>\n",
              "      <td>0</td>\n",
              "      <td>0</td>\n",
              "      <td>0</td>\n",
              "      <td>0</td>\n",
              "      <td>...</td>\n",
              "      <td>0</td>\n",
              "      <td>0</td>\n",
              "      <td>0</td>\n",
              "      <td>0</td>\n",
              "      <td>0</td>\n",
              "      <td>0</td>\n",
              "      <td>0</td>\n",
              "      <td>0</td>\n",
              "      <td>0</td>\n",
              "      <td>0</td>\n",
              "    </tr>\n",
              "    <tr>\n",
              "      <th>549</th>\n",
              "      <td>0</td>\n",
              "      <td>0</td>\n",
              "      <td>0</td>\n",
              "      <td>0</td>\n",
              "      <td>0</td>\n",
              "      <td>0</td>\n",
              "      <td>0</td>\n",
              "      <td>0</td>\n",
              "      <td>0</td>\n",
              "      <td>0</td>\n",
              "      <td>...</td>\n",
              "      <td>0</td>\n",
              "      <td>0</td>\n",
              "      <td>0</td>\n",
              "      <td>0</td>\n",
              "      <td>0</td>\n",
              "      <td>0</td>\n",
              "      <td>0</td>\n",
              "      <td>0</td>\n",
              "      <td>0</td>\n",
              "      <td>0</td>\n",
              "    </tr>\n",
              "    <tr>\n",
              "      <th>550</th>\n",
              "      <td>0</td>\n",
              "      <td>0</td>\n",
              "      <td>0</td>\n",
              "      <td>0</td>\n",
              "      <td>0</td>\n",
              "      <td>0</td>\n",
              "      <td>0</td>\n",
              "      <td>0</td>\n",
              "      <td>0</td>\n",
              "      <td>0</td>\n",
              "      <td>...</td>\n",
              "      <td>0</td>\n",
              "      <td>0</td>\n",
              "      <td>0</td>\n",
              "      <td>0</td>\n",
              "      <td>0</td>\n",
              "      <td>0</td>\n",
              "      <td>0</td>\n",
              "      <td>0</td>\n",
              "      <td>0</td>\n",
              "      <td>0</td>\n",
              "    </tr>\n",
              "    <tr>\n",
              "      <th>551</th>\n",
              "      <td>0</td>\n",
              "      <td>0</td>\n",
              "      <td>0</td>\n",
              "      <td>0</td>\n",
              "      <td>0</td>\n",
              "      <td>0</td>\n",
              "      <td>0</td>\n",
              "      <td>0</td>\n",
              "      <td>0</td>\n",
              "      <td>0</td>\n",
              "      <td>...</td>\n",
              "      <td>0</td>\n",
              "      <td>0</td>\n",
              "      <td>0</td>\n",
              "      <td>0</td>\n",
              "      <td>0</td>\n",
              "      <td>0</td>\n",
              "      <td>0</td>\n",
              "      <td>0</td>\n",
              "      <td>0</td>\n",
              "      <td>0</td>\n",
              "    </tr>\n",
              "    <tr>\n",
              "      <th>552</th>\n",
              "      <td>0</td>\n",
              "      <td>0</td>\n",
              "      <td>0</td>\n",
              "      <td>0</td>\n",
              "      <td>0</td>\n",
              "      <td>0</td>\n",
              "      <td>0</td>\n",
              "      <td>0</td>\n",
              "      <td>0</td>\n",
              "      <td>0</td>\n",
              "      <td>...</td>\n",
              "      <td>0</td>\n",
              "      <td>0</td>\n",
              "      <td>0</td>\n",
              "      <td>0</td>\n",
              "      <td>0</td>\n",
              "      <td>0</td>\n",
              "      <td>0</td>\n",
              "      <td>0</td>\n",
              "      <td>0</td>\n",
              "      <td>0</td>\n",
              "    </tr>\n",
              "  </tbody>\n",
              "</table>\n",
              "<p>553 rows × 496428 columns</p>\n",
              "</div>\n",
              "      <button class=\"colab-df-convert\" onclick=\"convertToInteractive('df-a2633d2b-8b87-4733-b3b1-1afdcc6c7674')\"\n",
              "              title=\"Convert this dataframe to an interactive table.\"\n",
              "              style=\"display:none;\">\n",
              "        \n",
              "  <svg xmlns=\"http://www.w3.org/2000/svg\" height=\"24px\"viewBox=\"0 0 24 24\"\n",
              "       width=\"24px\">\n",
              "    <path d=\"M0 0h24v24H0V0z\" fill=\"none\"/>\n",
              "    <path d=\"M18.56 5.44l.94 2.06.94-2.06 2.06-.94-2.06-.94-.94-2.06-.94 2.06-2.06.94zm-11 1L8.5 8.5l.94-2.06 2.06-.94-2.06-.94L8.5 2.5l-.94 2.06-2.06.94zm10 10l.94 2.06.94-2.06 2.06-.94-2.06-.94-.94-2.06-.94 2.06-2.06.94z\"/><path d=\"M17.41 7.96l-1.37-1.37c-.4-.4-.92-.59-1.43-.59-.52 0-1.04.2-1.43.59L10.3 9.45l-7.72 7.72c-.78.78-.78 2.05 0 2.83L4 21.41c.39.39.9.59 1.41.59.51 0 1.02-.2 1.41-.59l7.78-7.78 2.81-2.81c.8-.78.8-2.07 0-2.86zM5.41 20L4 18.59l7.72-7.72 1.47 1.35L5.41 20z\"/>\n",
              "  </svg>\n",
              "      </button>\n",
              "      \n",
              "  <style>\n",
              "    .colab-df-container {\n",
              "      display:flex;\n",
              "      flex-wrap:wrap;\n",
              "      gap: 12px;\n",
              "    }\n",
              "\n",
              "    .colab-df-convert {\n",
              "      background-color: #E8F0FE;\n",
              "      border: none;\n",
              "      border-radius: 50%;\n",
              "      cursor: pointer;\n",
              "      display: none;\n",
              "      fill: #1967D2;\n",
              "      height: 32px;\n",
              "      padding: 0 0 0 0;\n",
              "      width: 32px;\n",
              "    }\n",
              "\n",
              "    .colab-df-convert:hover {\n",
              "      background-color: #E2EBFA;\n",
              "      box-shadow: 0px 1px 2px rgba(60, 64, 67, 0.3), 0px 1px 3px 1px rgba(60, 64, 67, 0.15);\n",
              "      fill: #174EA6;\n",
              "    }\n",
              "\n",
              "    [theme=dark] .colab-df-convert {\n",
              "      background-color: #3B4455;\n",
              "      fill: #D2E3FC;\n",
              "    }\n",
              "\n",
              "    [theme=dark] .colab-df-convert:hover {\n",
              "      background-color: #434B5C;\n",
              "      box-shadow: 0px 1px 3px 1px rgba(0, 0, 0, 0.15);\n",
              "      filter: drop-shadow(0px 1px 2px rgba(0, 0, 0, 0.3));\n",
              "      fill: #FFFFFF;\n",
              "    }\n",
              "  </style>\n",
              "\n",
              "      <script>\n",
              "        const buttonEl =\n",
              "          document.querySelector('#df-a2633d2b-8b87-4733-b3b1-1afdcc6c7674 button.colab-df-convert');\n",
              "        buttonEl.style.display =\n",
              "          google.colab.kernel.accessAllowed ? 'block' : 'none';\n",
              "\n",
              "        async function convertToInteractive(key) {\n",
              "          const element = document.querySelector('#df-a2633d2b-8b87-4733-b3b1-1afdcc6c7674');\n",
              "          const dataTable =\n",
              "            await google.colab.kernel.invokeFunction('convertToInteractive',\n",
              "                                                     [key], {});\n",
              "          if (!dataTable) return;\n",
              "\n",
              "          const docLinkHtml = 'Like what you see? Visit the ' +\n",
              "            '<a target=\"_blank\" href=https://colab.research.google.com/notebooks/data_table.ipynb>data table notebook</a>'\n",
              "            + ' to learn more about interactive tables.';\n",
              "          element.innerHTML = '';\n",
              "          dataTable['output_type'] = 'display_data';\n",
              "          await google.colab.output.renderOutput(dataTable, element);\n",
              "          const docLink = document.createElement('div');\n",
              "          docLink.innerHTML = docLinkHtml;\n",
              "          element.appendChild(docLink);\n",
              "        }\n",
              "      </script>\n",
              "    </div>\n",
              "  </div>\n",
              "  "
            ]
          },
          "metadata": {},
          "execution_count": 74
        },
        {
          "output_type": "stream",
          "name": "stdout",
          "text": [
            "Warning: Total number of columns (496428) exceeds max_columns (20) limiting to first (20) columns.\n"
          ]
        }
      ]
    },
    {
      "cell_type": "markdown",
      "source": [
        "12. Write the pre-processed dataset on our disk for further steps."
      ],
      "metadata": {
        "id": "YOG9FO4n6WBg"
      }
    },
    {
      "cell_type": "code",
      "source": [
        "file = open(\"sample.txt\", \"w+\")\n",
        "content = str(res)\n",
        "file.write(content)\n",
        "file.close()"
      ],
      "metadata": {
        "id": "vFednj09vyFF"
      },
      "execution_count": null,
      "outputs": []
    },
    {
      "cell_type": "markdown",
      "source": [
        "#TML Implementation "
      ],
      "metadata": {
        "id": "-JtYYf6U5KEJ"
      }
    },
    {
      "cell_type": "code",
      "source": [
        "from sklearn.naive_bayes import MultinomialNB\n",
        "from sklearn.model_selection import train_test_split\n",
        "from sklearn.metrics import accuracy_score, f1_score, precision_score, recall_score"
      ],
      "metadata": {
        "id": "qOp6hUNB8F1K"
      },
      "execution_count": null,
      "outputs": []
    },
    {
      "cell_type": "markdown",
      "source": [
        "1. Splitting the dataset into the training set and test set"
      ],
      "metadata": {
        "id": "5sqmLbZ4ql0V"
      }
    },
    {
      "cell_type": "code",
      "execution_count": null,
      "metadata": {
        "id": "JuFFDylT5Jgo"
      },
      "outputs": [],
      "source": [
        "X_train, X_test, y_train, y_test = train_test_split(X, y_data, test_size = 0.20, random_state=42)"
      ]
    },
    {
      "cell_type": "code",
      "execution_count": null,
      "metadata": {
        "id": "CaClT3hP5Jgp",
        "outputId": "9757b60d-24dc-498c-ca2f-de7bc0293264",
        "colab": {
          "base_uri": "https://localhost:8080/"
        }
      },
      "outputs": [
        {
          "output_type": "stream",
          "name": "stdout",
          "text": [
            "(442, 6222)\n",
            "(111, 6222)\n"
          ]
        }
      ],
      "source": [
        "print(X_train.shape)\n",
        "print(X_test.shape)"
      ]
    },
    {
      "cell_type": "markdown",
      "metadata": {
        "id": "0o-UNDBg5Jgp"
      },
      "source": [
        "2. A multinomial naive Bayes classifier will be created.  I previously did some parameter tuning and found the ngram size of 2 (reflected in the Countvectorizer() instance) and a model alpha of 0.1 did the best (the alpha parameter was determined by grid search previously)"
      ]
    },
    {
      "cell_type": "code",
      "execution_count": null,
      "metadata": {
        "id": "R0QgFqKP5Jgp",
        "outputId": "668fb3e2-e34e-41a9-e730-0798c2301d51",
        "colab": {
          "base_uri": "https://localhost:8080/"
        }
      },
      "outputs": [
        {
          "output_type": "execute_result",
          "data": {
            "text/plain": [
              "MultinomialNB(alpha=0.1)"
            ]
          },
          "metadata": {},
          "execution_count": 33
        }
      ],
      "source": [
        "classifier = MultinomialNB(alpha=0.1)\n",
        "classifier.fit(X_train, y_train)"
      ]
    },
    {
      "cell_type": "markdown",
      "source": [
        "3. Define the classifier"
      ],
      "metadata": {
        "id": "WgC-cumm5pli"
      }
    },
    {
      "cell_type": "code",
      "execution_count": null,
      "metadata": {
        "id": "-sUrqxkk5Jgq"
      },
      "outputs": [],
      "source": [
        "y_pred = classifier.predict(X_test)"
      ]
    },
    {
      "cell_type": "markdown",
      "metadata": {
        "id": "qLyYGpyo5Jgq"
      },
      "source": [
        "4. Check the prformance metrices "
      ]
    },
    {
      "cell_type": "code",
      "execution_count": null,
      "metadata": {
        "id": "KmMdgY1e5Jgq",
        "outputId": "ddd461fb-9f5a-4c83-8a2c-d23ab373ac2e",
        "colab": {
          "base_uri": "https://localhost:8080/"
        }
      },
      "outputs": [
        {
          "output_type": "stream",
          "name": "stdout",
          "text": [
            "Confusion matrix\n",
            "\n",
            "Predicted   0   1\n",
            "Actual           \n",
            "0          16   1\n",
            "1          27  67\n",
            "accuracy = 0.748 \n",
            "precision = 0.891 \n",
            "recall = 0.748 \n",
            "f1 = 0.782\n"
          ]
        }
      ],
      "source": [
        "print(\"Confusion matrix\\n\")\n",
        "print(pd.crosstab(pd.Series(y_test, name='Actual'), pd.Series(y_pred, name='Predicted')))\n",
        "def get_metrics(y_test, y_predicted):\n",
        "    accuracy = accuracy_score(y_test, y_predicted)\n",
        "    precision = precision_score(y_test, y_predicted, average='weighted')\n",
        "    recall = recall_score(y_test, y_predicted, average='weighted')\n",
        "    f1 = f1_score(y_test, y_predicted, average='weighted')\n",
        "    return accuracy, precision, recall, f1\n",
        "accuracy, precision, recall, f1 = get_metrics(y_test, y_pred)\n",
        "print(\"Accuracy = %.3f \\nPrecision = %.3f \\nRecall = %.3f \\nF1-Score = %.3f\" % (accuracy, precision, recall, f1))"
      ]
    }
  ],
  "metadata": {
    "kernelspec": {
      "display_name": "Python 3",
      "language": "python",
      "name": "python3"
    },
    "language_info": {
      "codemirror_mode": {
        "name": "ipython",
        "version": 3
      },
      "file_extension": ".py",
      "mimetype": "text/x-python",
      "name": "python",
      "nbconvert_exporter": "python",
      "pygments_lexer": "ipython3",
      "version": "3.6.7"
    },
    "colab": {
      "provenance": [],
      "collapsed_sections": []
    }
  },
  "nbformat": 4,
  "nbformat_minor": 0
}